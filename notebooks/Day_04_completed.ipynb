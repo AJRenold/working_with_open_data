{
 "metadata": {
  "name": "Day_04_completed"
 },
 "nbformat": 3,
 "nbformat_minor": 0,
 "worksheets": [
  {
   "cells": [
    {
     "cell_type": "heading",
     "level": 1,
     "metadata": {},
     "source": [
      "Warm up with sequences, lists"
     ]
    },
    {
     "cell_type": "heading",
     "level": 2,
     "metadata": {},
     "source": [
      "Warm-up exercise I:  verifying sum of integers calculated by (young) Gauss"
     ]
    },
    {
     "cell_type": "markdown",
     "metadata": {},
     "source": [
      "![C. F. Gauss](http://upload.wikimedia.org/wikipedia/commons/thumb/9/9b/Carl_Friedrich_Gauss.jpg/220px-Carl_Friedrich_Gauss.jpg)\n",
      "\n",
      "http://mathandmultimedia.com/2010/09/15/sum-first-n-positive-integers/\n",
      "\n",
      ">  Gauss displayed his genius at an early age. According to anecdotes, when he was in primary school, he was punished by his teacher due to misbehavior.  He was told to add the numbers from 1 to 100. He was able to compute its sum, which is 5050, in a matter of seconds.\n",
      "\n",
      ">  Now, how on earth did he do it?\n",
      "\n",
      "See also:\n",
      "\n",
      "* http://en.wikipedia.org/wiki/Carl_Friedrich_Gauss#Anecdotes\n",
      "* [The Gauss Christmath Special](http://youtu.be/sxnX5_LbBDU?t=4m52s) by [Vi Hart](http://en.wikipedia.org/wiki/Vi_Hart)\n",
      "\n",
      "**Let's verify this result in a number of ways.  Take some time now to write some code to add up 1 to 100.**\n",
      "\n",
      "Specifically:\n",
      "\n",
      "* make use of [range](http://docs.python.org/2/library/functions.html#range)\n",
      "* try [xrange](http://docs.python.org/2/library/functions.html#xrange)\n",
      "* try an explicit loop vs `sum`\n",
      "* bonus:  try [itertool.count](http://docs.python.org/2/library/itertools.html#itertools.count) and [itertool.islice](http://docs.python.org/2/library/itertools.html#itertools.islice) -- these functions are Python *iterators*. \n",
      "* See [Build a Basic Python Iterator](http://stackoverflow.com/a/24377/7782) and \n",
      "[The Python yield keyword explained](http://stackoverflow.com/questions/231767/the-python-yield-keyword-explained)\n",
      "\n",
      "\n",
      "**Beware:  in ipython w/ pylab mode, `sum` might be overwritten by numpy's sum -- use `__builtin__.sum` if you want http://docs.python.org/2/library/functions.html#sum as opposed to http://docs.scipy.org/doc/numpy/reference/generated/numpy.sum.html** \n"
     ]
    },
    {
     "cell_type": "code",
     "collapsed": false,
     "input": [
      "# using loop\n",
      "\n",
      "n = 100\n",
      "\n",
      "s = 0L\n",
      "for i in xrange(n+1):\n",
      "    s += i\n",
      "print s"
     ],
     "language": "python",
     "metadata": {},
     "outputs": [
      {
       "output_type": "stream",
       "stream": "stdout",
       "text": [
        "5050\n"
       ]
      }
     ],
     "prompt_number": 1
    },
    {
     "cell_type": "code",
     "collapsed": false,
     "input": [
      "# range\n",
      "print range(101)\n",
      "sum(range(101))"
     ],
     "language": "python",
     "metadata": {},
     "outputs": [
      {
       "output_type": "stream",
       "stream": "stdout",
       "text": [
        "[0, 1, 2, 3, 4, 5, 6, 7, 8, 9, 10, 11, 12, 13, 14, 15, 16, 17, 18, 19, 20, 21, 22, 23, 24, 25, 26, 27, 28, 29, 30, 31, 32, 33, 34, 35, 36, 37, 38, 39, 40, 41, 42, 43, 44, 45, 46, 47, 48, 49, 50, 51, 52, 53, 54, 55, 56, 57, 58, 59, 60, 61, 62, 63, 64, 65, 66, 67, 68, 69, 70, 71, 72, 73, 74, 75, 76, 77, 78, 79, 80, 81, 82, 83, 84, 85, 86, 87, 88, 89, 90, 91, 92, 93, 94, 95, 96, 97, 98, 99, 100]\n"
       ]
      },
      {
       "output_type": "pyout",
       "prompt_number": 2,
       "text": [
        "5050"
       ]
      }
     ],
     "prompt_number": 2
    },
    {
     "cell_type": "code",
     "collapsed": false,
     "input": [
      "# xrange\n",
      "sum(xrange(101))"
     ],
     "language": "python",
     "metadata": {},
     "outputs": [
      {
       "output_type": "pyout",
       "prompt_number": 3,
       "text": [
        "5050"
       ]
      }
     ],
     "prompt_number": 3
    },
    {
     "cell_type": "code",
     "collapsed": false,
     "input": [
      "from itertools import islice, count\n",
      "\n",
      "c = count(0, 1)"
     ],
     "language": "python",
     "metadata": {},
     "outputs": [],
     "prompt_number": 4
    },
    {
     "cell_type": "code",
     "collapsed": false,
     "input": [
      "# look at how count() works by repetively calling c.next()\n",
      "print c.next()\n",
      "print c.next()"
     ],
     "language": "python",
     "metadata": {},
     "outputs": [
      {
       "output_type": "stream",
       "stream": "stdout",
       "text": [
        "0\n",
        "1\n"
       ]
      }
     ],
     "prompt_number": 5
    },
    {
     "cell_type": "code",
     "collapsed": false,
     "input": [
      "# count\n",
      "__builtin__.sum(islice(count(0,1), 101L))"
     ],
     "language": "python",
     "metadata": {},
     "outputs": [
      {
       "output_type": "pyout",
       "prompt_number": 6,
       "text": [
        "5050"
       ]
      }
     ],
     "prompt_number": 6
    },
    {
     "cell_type": "code",
     "collapsed": false,
     "input": [
      "import string\n",
      "\n",
      "def alpha1():\n",
      "    m = list(string.lowercase)\n",
      "    while m:\n",
      "        yield m.pop(0)\n",
      "    "
     ],
     "language": "python",
     "metadata": {},
     "outputs": [],
     "prompt_number": 7
    },
    {
     "cell_type": "code",
     "collapsed": false,
     "input": [
      "import string\n",
      "k = (s for s in list(string.lowercase))\n",
      "list(k)"
     ],
     "language": "python",
     "metadata": {},
     "outputs": [
      {
       "output_type": "pyout",
       "prompt_number": 8,
       "text": [
        "['a',\n",
        " 'b',\n",
        " 'c',\n",
        " 'd',\n",
        " 'e',\n",
        " 'f',\n",
        " 'g',\n",
        " 'h',\n",
        " 'i',\n",
        " 'j',\n",
        " 'k',\n",
        " 'l',\n",
        " 'm',\n",
        " 'n',\n",
        " 'o',\n",
        " 'p',\n",
        " 'q',\n",
        " 'r',\n",
        " 's',\n",
        " 't',\n",
        " 'u',\n",
        " 'v',\n",
        " 'w',\n",
        " 'x',\n",
        " 'y',\n",
        " 'z']"
       ]
      }
     ],
     "prompt_number": 8
    },
    {
     "cell_type": "code",
     "collapsed": false,
     "input": [
      "def my_count(start, step):\n",
      "    n = start\n",
      "    while True:\n",
      "        yield n\n",
      "        n += step\n",
      "        \n",
      "__builtin__.sum(islice(my_count(0,1), 101L))"
     ],
     "language": "python",
     "metadata": {},
     "outputs": [
      {
       "output_type": "pyout",
       "prompt_number": 9,
       "text": [
        "5050"
       ]
      }
     ],
     "prompt_number": 9
    },
    {
     "cell_type": "markdown",
     "metadata": {},
     "source": [
      "$T_n= \\sum_{k=1}^n k = 1+2+3+ \\dotsb +n = \\frac{n(n+1)}{2} = {n+1 \\choose 2}$"
     ]
    },
    {
     "cell_type": "code",
     "collapsed": false,
     "input": [
      "from itertools import islice\n",
      "\n",
      "def triangular():\n",
      "    n = 1\n",
      "    i = 1\n",
      "    while True:\n",
      "        yield n\n",
      "        i +=1\n",
      "        n += i\n"
     ],
     "language": "python",
     "metadata": {},
     "outputs": [],
     "prompt_number": 10
    },
    {
     "cell_type": "code",
     "collapsed": false,
     "input": [
      "for i, n in enumerate(islice(triangular(), 10)):\n",
      "    print i+1, n"
     ],
     "language": "python",
     "metadata": {},
     "outputs": [
      {
       "output_type": "stream",
       "stream": "stdout",
       "text": [
        "1 1\n",
        "2 3\n",
        "3 6\n",
        "4 10\n",
        "5 15\n",
        "6 21\n",
        "7 28\n",
        "8 36\n",
        "9 45\n",
        "10 55\n"
       ]
      }
     ],
     "prompt_number": 11
    },
    {
     "cell_type": "code",
     "collapsed": false,
     "input": [
      "list(islice(triangular(), 100))[-1]"
     ],
     "language": "python",
     "metadata": {},
     "outputs": [
      {
       "output_type": "pyout",
       "prompt_number": 12,
       "text": [
        "5050"
       ]
      }
     ],
     "prompt_number": 12
    },
    {
     "cell_type": "code",
     "collapsed": false,
     "input": [
      "list(islice(triangular(),99,100))[0]"
     ],
     "language": "python",
     "metadata": {},
     "outputs": [
      {
       "output_type": "pyout",
       "prompt_number": 13,
       "text": [
        "5050"
       ]
      }
     ],
     "prompt_number": 13
    },
    {
     "cell_type": "heading",
     "level": 2,
     "metadata": {},
     "source": [
      "Warm Up Exercise II: Wheat and chessboard problem"
     ]
    },
    {
     "cell_type": "markdown",
     "metadata": {},
     "source": [
      "http://en.wikipedia.org/wiki/Wheat_and_chessboard_problem :\n",
      "\n",
      "> If a chessboard were to have wheat placed upon each square such that one grain were placed on the first square, two on the second, four on the third, and so on (doubling the number of grains on each subsequent square), how many grains of wheat would be on the chessboard at the finish?\n",
      "\n",
      "> The total number of grains equals 18,446,744,073,709,551,615, which is a much higher number than most people intuitively expect.\n",
      "\n",
      "* try using [pow](http://docs.python.org/2/library/functions.html#pow)"
     ]
    },
    {
     "cell_type": "code",
     "collapsed": false,
     "input": [
      "# Legend of the Chessboard YouTube video\n",
      "\n",
      "from IPython.display import YouTubeVideo\n",
      "YouTubeVideo('t3d0Y-JpRRg')"
     ],
     "language": "python",
     "metadata": {},
     "outputs": [
      {
       "html": [
        "\n",
        "            <iframe\n",
        "                width=\"400\"\n",
        "                height=\"300\"\n",
        "                src=\"http://www.youtube.com/embed/t3d0Y-JpRRg\"\n",
        "                frameborder=\"0\"\n",
        "                allowfullscreen\n",
        "            ></iframe>\n",
        "        "
       ],
       "output_type": "pyout",
       "prompt_number": 14,
       "text": [
        "<IPython.lib.display.YouTubeVideo at 0x466c1f0>"
       ]
      }
     ],
     "prompt_number": 14
    },
    {
     "cell_type": "code",
     "collapsed": false,
     "input": [
      "# generator comprehension\n",
      "\n",
      "k  = (pow(2,n) for n in xrange(64))\n",
      "k.next()"
     ],
     "language": "python",
     "metadata": {},
     "outputs": [
      {
       "output_type": "pyout",
       "prompt_number": 15,
       "text": [
        "1"
       ]
      }
     ],
     "prompt_number": 15
    },
    {
     "cell_type": "code",
     "collapsed": false,
     "input": [
      "__builtin__.sum((pow(2,n) for n in xrange(64)))"
     ],
     "language": "python",
     "metadata": {},
     "outputs": [
      {
       "output_type": "pyout",
       "prompt_number": 16,
       "text": [
        "18446744073709551615L"
       ]
      }
     ],
     "prompt_number": 16
    },
    {
     "cell_type": "code",
     "collapsed": false,
     "input": [
      "pow(2,64) -1"
     ],
     "language": "python",
     "metadata": {},
     "outputs": [
      {
       "output_type": "pyout",
       "prompt_number": 17,
       "text": [
        "18446744073709551615L"
       ]
      }
     ],
     "prompt_number": 17
    },
    {
     "cell_type": "heading",
     "level": 1,
     "metadata": {},
     "source": [
      "Slicing/Indexing Review"
     ]
    },
    {
     "cell_type": "markdown",
     "metadata": {},
     "source": [
      "http://stackoverflow.com/a/509295/7782\n",
      "\n",
      "Use on any of the **sequence** types ([python docs on sequence types](http://docs.python.org/2/library/stdtypes.html#sequence-types-str-unicode-list-tuple-bytearray-buffer-xrange)):\n",
      "\n",
      "> There are seven sequence types: strings, Unicode strings, lists, tuples, bytearrays, buffers, and xrange objects.\n",
      "\n",
      "The use of square brackets are for accessing *slices* of sequence."
     ]
    },
    {
     "cell_type": "markdown",
     "metadata": {},
     "source": [
      "Let's remind ourselves of how to use slices\n",
      "\n",
      "* `s[i]`\n",
      "* `s[i:j]`\n",
      "* `s[i:j:k]`\n",
      "* meaning of negative indices\n",
      "* 0-base counting\n",
      "\n"
     ]
    },
    {
     "cell_type": "code",
     "collapsed": false,
     "input": [
      "m = range(10)\n",
      "m"
     ],
     "language": "python",
     "metadata": {},
     "outputs": [
      {
       "output_type": "pyout",
       "prompt_number": 18,
       "text": [
        "[0, 1, 2, 3, 4, 5, 6, 7, 8, 9]"
       ]
      }
     ],
     "prompt_number": 18
    },
    {
     "cell_type": "code",
     "collapsed": false,
     "input": [
      "m[0]"
     ],
     "language": "python",
     "metadata": {},
     "outputs": [
      {
       "output_type": "pyout",
       "prompt_number": 19,
       "text": [
        "0"
       ]
      }
     ],
     "prompt_number": 19
    },
    {
     "cell_type": "code",
     "collapsed": false,
     "input": [
      "m[-1]"
     ],
     "language": "python",
     "metadata": {},
     "outputs": [
      {
       "output_type": "pyout",
       "prompt_number": 20,
       "text": [
        "9"
       ]
      }
     ],
     "prompt_number": 20
    },
    {
     "cell_type": "code",
     "collapsed": false,
     "input": [
      "m[::-1]"
     ],
     "language": "python",
     "metadata": {},
     "outputs": [
      {
       "output_type": "pyout",
       "prompt_number": 21,
       "text": [
        "[9, 8, 7, 6, 5, 4, 3, 2, 1, 0]"
       ]
      }
     ],
     "prompt_number": 21
    },
    {
     "cell_type": "code",
     "collapsed": false,
     "input": [
      "m[2:3]"
     ],
     "language": "python",
     "metadata": {},
     "outputs": [
      {
       "output_type": "pyout",
       "prompt_number": 22,
       "text": [
        "[2]"
       ]
      }
     ],
     "prompt_number": 22
    },
    {
     "cell_type": "code",
     "collapsed": false,
     "input": [
      "import string\n",
      "alphabet = string.lowercase\n",
      "\n",
      "alphabet"
     ],
     "language": "python",
     "metadata": {},
     "outputs": [
      {
       "output_type": "pyout",
       "prompt_number": 23,
       "text": [
        "'abcdefghijklmnopqrstuvwxyz'"
       ]
      }
     ],
     "prompt_number": 23
    },
    {
     "cell_type": "code",
     "collapsed": false,
     "input": [
      "# 13 letter of the alphabet\n",
      "alphabet[12]"
     ],
     "language": "python",
     "metadata": {},
     "outputs": [
      {
       "output_type": "pyout",
       "prompt_number": 24,
       "text": [
        "'m'"
       ]
      }
     ],
     "prompt_number": 24
    },
    {
     "cell_type": "markdown",
     "metadata": {},
     "source": [
      "**We will revisit generalized slicing in NumPy.**"
     ]
    },
    {
     "cell_type": "heading",
     "level": 1,
     "metadata": {},
     "source": [
      " Import/naming conventions and pylab mode"
     ]
    },
    {
     "cell_type": "markdown",
     "metadata": {},
     "source": [
      "<http://my.safaribooksonline.com/book/programming/python/9781449323592/1dot-preliminaries/id2699702>\n",
      "\n",
      "    import numpy as np\n",
      "    import pandas as pd\n",
      "    import matplotlib.pyplot as plt\n",
      "    from pandas import Series, DataFrame\n",
      "    \n",
      "These imports done for you in `pylab` mode.\n",
      "\n",
      "## pylab mode\n",
      "\n",
      "    ipython --help\n",
      "    \n",
      "yields\n",
      "\n",
      "    --pylab=<CaselessStrEnum> (InteractiveShellApp.pylab)\n",
      "        Default: None\n",
      "        Choices: ['tk', 'qt', 'wx', 'gtk', 'osx', 'inline', 'auto']\n",
      "        Pre-load matplotlib and numpy for interactive use, selecting a particular\n",
      "        matplotlib backend and loop integration."
     ]
    },
    {
     "cell_type": "code",
     "collapsed": false,
     "input": [
      "import numpy as np\n",
      "import pandas as pd\n",
      "import matplotlib.pyplot as plt\n",
      "from pandas import Series, DataFrame"
     ],
     "language": "python",
     "metadata": {},
     "outputs": [],
     "prompt_number": 25
    },
    {
     "cell_type": "heading",
     "level": 1,
     "metadata": {},
     "source": [
      "NumPy"
     ]
    },
    {
     "cell_type": "markdown",
     "metadata": {},
     "source": [
      "<http://www.numpy.org/>:\n",
      "\n",
      "NumPy is the **fundamental package for scientific computing with Python**. It contains among other things:\n",
      "\n",
      "* a powerful N-dimensional array object [let's start with 1 and 2 dimensions]\n",
      "* sophisticated (**broadcasting**) functions [what is *broadcasting*?]\n",
      "* tools for integrating C/C++ and Fortran code [why useful?]\n",
      "* useful linear algebra, Fourier transform, and random number capabilities\n",
      "\n",
      "Besides its obvious scientific uses, NumPy can also be used as an efficient\n",
      "multi-dimensional container of **generic data**. **Arbitrary data-types** can be\n",
      "defined. This allows NumPy to seamlessly and speedily integrate with a wide\n",
      "variety of databases.\n",
      "\n",
      "See `PfDA`, Chapter 4\n"
     ]
    },
    {
     "cell_type": "heading",
     "level": 2,
     "metadata": {},
     "source": [
      "ndarray.ndim, ndarray.shape"
     ]
    },
    {
     "cell_type": "code",
     "collapsed": false,
     "input": [
      "# zero-dimensions\n",
      "\n",
      "a0 = array(5)\n",
      "a0"
     ],
     "language": "python",
     "metadata": {},
     "outputs": [
      {
       "output_type": "pyout",
       "prompt_number": 26,
       "text": [
        "array(5)"
       ]
      }
     ],
     "prompt_number": 26
    },
    {
     "cell_type": "markdown",
     "metadata": {},
     "source": [
      "use [shape](http://docs.scipy.org/doc/numpy/reference/generated/numpy.ndarray.shape.html) to get a tuple of array dimensions"
     ]
    },
    {
     "cell_type": "code",
     "collapsed": false,
     "input": [
      "a0.ndim, a0.shape"
     ],
     "language": "python",
     "metadata": {},
     "outputs": [
      {
       "output_type": "pyout",
       "prompt_number": 27,
       "text": [
        "(0, ())"
       ]
      }
     ],
     "prompt_number": 27
    },
    {
     "cell_type": "code",
     "collapsed": false,
     "input": [
      "# 1-d array\n",
      "a1 = array([1,2])\n",
      "a1.ndim, a1.shape"
     ],
     "language": "python",
     "metadata": {},
     "outputs": [
      {
       "output_type": "pyout",
       "prompt_number": 28,
       "text": [
        "(1, (2,))"
       ]
      }
     ],
     "prompt_number": 28
    },
    {
     "cell_type": "code",
     "collapsed": false,
     "input": [
      "# 2-d array\n",
      "\n",
      "a2 = array(([1,2], [3,4]))\n",
      "a2.ndim, a2.shape"
     ],
     "language": "python",
     "metadata": {},
     "outputs": [
      {
       "output_type": "pyout",
       "prompt_number": 29,
       "text": [
        "(2, (2, 2))"
       ]
      }
     ],
     "prompt_number": 29
    },
    {
     "cell_type": "heading",
     "level": 2,
     "metadata": {},
     "source": [
      "dtype:  type of given ndarray"
     ]
    },
    {
     "cell_type": "code",
     "collapsed": false,
     "input": [
      "a2.dtype"
     ],
     "language": "python",
     "metadata": {},
     "outputs": [
      {
       "output_type": "pyout",
       "prompt_number": 30,
       "text": [
        "dtype('int32')"
       ]
      }
     ],
     "prompt_number": 30
    },
    {
     "cell_type": "heading",
     "level": 2,
     "metadata": {},
     "source": [
      "np.arange"
     ]
    },
    {
     "cell_type": "markdown",
     "metadata": {},
     "source": [
      "[arange](http://docs.scipy.org/doc/numpy/reference/generated/numpy.arange.html#numpy.arange) is one instance of [`ndarray` creating function in NumPy](http://docs.scipy.org/doc/numpy/reference/routines.array-creation.html)\n",
      "\n",
      "Compare to `xrange`."
     ]
    },
    {
     "cell_type": "code",
     "collapsed": false,
     "input": [
      "type(arange(10))"
     ],
     "language": "python",
     "metadata": {},
     "outputs": [
      {
       "output_type": "pyout",
       "prompt_number": 31,
       "text": [
        "numpy.ndarray"
       ]
      }
     ],
     "prompt_number": 31
    },
    {
     "cell_type": "code",
     "collapsed": false,
     "input": [
      "for k in arange(10):\n",
      "    print k"
     ],
     "language": "python",
     "metadata": {},
     "outputs": [
      {
       "output_type": "stream",
       "stream": "stdout",
       "text": [
        "0\n",
        "1\n",
        "2\n",
        "3\n",
        "4\n",
        "5\n",
        "6\n",
        "7\n",
        "8\n",
        "9\n"
       ]
      }
     ],
     "prompt_number": 32
    },
    {
     "cell_type": "code",
     "collapsed": false,
     "input": [
      "list(arange(10)) == list(xrange(10))"
     ],
     "language": "python",
     "metadata": {},
     "outputs": [
      {
       "output_type": "pyout",
       "prompt_number": 33,
       "text": [
        "True"
       ]
      }
     ],
     "prompt_number": 33
    },
    {
     "cell_type": "heading",
     "level": 2,
     "metadata": {},
     "source": [
      "NumPy.ndarray.reshape"
     ]
    },
    {
     "cell_type": "code",
     "collapsed": false,
     "input": [
      "#how to map 0..63 -> 2x2 array\n",
      "a3 = np.arange(64).reshape(8,8)\n",
      "a3"
     ],
     "language": "python",
     "metadata": {},
     "outputs": [
      {
       "output_type": "pyout",
       "prompt_number": 34,
       "text": [
        "array([[ 0,  1,  2,  3,  4,  5,  6,  7],\n",
        "       [ 8,  9, 10, 11, 12, 13, 14, 15],\n",
        "       [16, 17, 18, 19, 20, 21, 22, 23],\n",
        "       [24, 25, 26, 27, 28, 29, 30, 31],\n",
        "       [32, 33, 34, 35, 36, 37, 38, 39],\n",
        "       [40, 41, 42, 43, 44, 45, 46, 47],\n",
        "       [48, 49, 50, 51, 52, 53, 54, 55],\n",
        "       [56, 57, 58, 59, 60, 61, 62, 63]])"
       ]
      }
     ],
     "prompt_number": 34
    },
    {
     "cell_type": "code",
     "collapsed": false,
     "input": [
      "a3[1,2]"
     ],
     "language": "python",
     "metadata": {},
     "outputs": [
      {
       "output_type": "pyout",
       "prompt_number": 35,
       "text": [
        "10"
       ]
      }
     ],
     "prompt_number": 35
    },
    {
     "cell_type": "code",
     "collapsed": false,
     "input": [
      "for i in range(8):\n",
      "    for j in range(8):\n",
      "        if a3[i,j] != i*8 + j:\n",
      "            print i, j"
     ],
     "language": "python",
     "metadata": {},
     "outputs": [],
     "prompt_number": 36
    },
    {
     "cell_type": "markdown",
     "metadata": {},
     "source": [
      "##scalar multiplication\n",
      "\n",
      "example of [broadcasting](http://docs.scipy.org/doc/numpy/user/basics.broadcasting.html):\n",
      "\n",
      "> The term broadcasting describes how numpy treats arrays with different shapes during arithmetic operations. Subject to certain constraints, the smaller array is \u201cbroadcast\u201d across the larger array so that they have compatible shapes. Broadcasting provides a means of vectorizing array operations so that looping occurs in C instead of Python. It does this without making needless copies of data and usually leads to efficient algorithm implementations. There are, however, cases where broadcasting is a bad idea because it leads to inefficient use of memory that slows computation."
     ]
    },
    {
     "cell_type": "code",
     "collapsed": false,
     "input": [
      "2*a3"
     ],
     "language": "python",
     "metadata": {},
     "outputs": [
      {
       "output_type": "pyout",
       "prompt_number": 37,
       "text": [
        "array([[  0,   2,   4,   6,   8,  10,  12,  14],\n",
        "       [ 16,  18,  20,  22,  24,  26,  28,  30],\n",
        "       [ 32,  34,  36,  38,  40,  42,  44,  46],\n",
        "       [ 48,  50,  52,  54,  56,  58,  60,  62],\n",
        "       [ 64,  66,  68,  70,  72,  74,  76,  78],\n",
        "       [ 80,  82,  84,  86,  88,  90,  92,  94],\n",
        "       [ 96,  98, 100, 102, 104, 106, 108, 110],\n",
        "       [112, 114, 116, 118, 120, 122, 124, 126]])"
       ]
      }
     ],
     "prompt_number": 37
    },
    {
     "cell_type": "heading",
     "level": 2,
     "metadata": {},
     "source": [
      "add 2 to all elements in a3"
     ]
    },
    {
     "cell_type": "code",
     "collapsed": false,
     "input": [
      "a3+2"
     ],
     "language": "python",
     "metadata": {},
     "outputs": [
      {
       "output_type": "pyout",
       "prompt_number": 38,
       "text": [
        "array([[ 2,  3,  4,  5,  6,  7,  8,  9],\n",
        "       [10, 11, 12, 13, 14, 15, 16, 17],\n",
        "       [18, 19, 20, 21, 22, 23, 24, 25],\n",
        "       [26, 27, 28, 29, 30, 31, 32, 33],\n",
        "       [34, 35, 36, 37, 38, 39, 40, 41],\n",
        "       [42, 43, 44, 45, 46, 47, 48, 49],\n",
        "       [50, 51, 52, 53, 54, 55, 56, 57],\n",
        "       [58, 59, 60, 61, 62, 63, 64, 65]])"
       ]
      }
     ],
     "prompt_number": 38
    },
    {
     "cell_type": "heading",
     "level": 2,
     "metadata": {},
     "source": [
      "sorting"
     ]
    },
    {
     "cell_type": "code",
     "collapsed": false,
     "input": [
      "# reverse sort -- best way?\n",
      "#http://stackoverflow.com/a/6771620/7782\n",
      "\n",
      "np.sort(arange(100))[::-1]"
     ],
     "language": "python",
     "metadata": {},
     "outputs": [
      {
       "output_type": "pyout",
       "prompt_number": 39,
       "text": [
        "array([99, 98, 97, 96, 95, 94, 93, 92, 91, 90, 89, 88, 87, 86, 85, 84, 83,\n",
        "       82, 81, 80, 79, 78, 77, 76, 75, 74, 73, 72, 71, 70, 69, 68, 67, 66,\n",
        "       65, 64, 63, 62, 61, 60, 59, 58, 57, 56, 55, 54, 53, 52, 51, 50, 49,\n",
        "       48, 47, 46, 45, 44, 43, 42, 41, 40, 39, 38, 37, 36, 35, 34, 33, 32,\n",
        "       31, 30, 29, 28, 27, 26, 25, 24, 23, 22, 21, 20, 19, 18, 17, 16, 15,\n",
        "       14, 13, 12, 11, 10,  9,  8,  7,  6,  5,  4,  3,  2,  1,  0])"
       ]
      }
     ],
     "prompt_number": 39
    },
    {
     "cell_type": "heading",
     "level": 2,
     "metadata": {},
     "source": [
      "Boolean slice:  important novel type of slicing"
     ]
    },
    {
     "cell_type": "markdown",
     "metadata": {},
     "source": [
      "**This stuff is a bit tricky** (see PfDA, pp. 89-92)\n",
      "\n",
      "Consider example of picking out whole numbers less than 20 that are evenly divisible by 3.  Generate a list of such numbers"
     ]
    },
    {
     "cell_type": "code",
     "collapsed": false,
     "input": [
      "# list comprehension\n",
      "\n",
      "[i for i in xrange(20) if i % 3 == 0]"
     ],
     "language": "python",
     "metadata": {},
     "outputs": [
      {
       "output_type": "pyout",
       "prompt_number": 40,
       "text": [
        "[0, 3, 6, 9, 12, 15, 18]"
       ]
      }
     ],
     "prompt_number": 40
    },
    {
     "cell_type": "code",
     "collapsed": false,
     "input": [
      "a3 = arange(20) \n",
      "a3"
     ],
     "language": "python",
     "metadata": {},
     "outputs": [
      {
       "output_type": "pyout",
       "prompt_number": 41,
       "text": [
        "array([ 0,  1,  2,  3,  4,  5,  6,  7,  8,  9, 10, 11, 12, 13, 14, 15, 16,\n",
        "       17, 18, 19])"
       ]
      }
     ],
     "prompt_number": 41
    },
    {
     "cell_type": "code",
     "collapsed": false,
     "input": [
      "# basic indexing\n",
      "\n",
      "print a3[0]\n",
      "print a3[::-1]\n",
      "print a3[2:5]"
     ],
     "language": "python",
     "metadata": {},
     "outputs": [
      {
       "output_type": "stream",
       "stream": "stdout",
       "text": [
        "0\n",
        "[19 18 17 16 15 14 13 12 11 10  9  8  7  6  5  4  3  2  1  0]\n",
        "[2 3 4]\n"
       ]
      }
     ],
     "prompt_number": 42
    },
    {
     "cell_type": "code",
     "collapsed": false,
     "input": [
      "np.mod(a3, 3)"
     ],
     "language": "python",
     "metadata": {},
     "outputs": [
      {
       "output_type": "pyout",
       "prompt_number": 43,
       "text": [
        "array([0, 1, 2, 0, 1, 2, 0, 1, 2, 0, 1, 2, 0, 1, 2, 0, 1, 2, 0, 1])"
       ]
      }
     ],
     "prompt_number": 43
    },
    {
     "cell_type": "code",
     "collapsed": false,
     "input": [
      "np.mod(a3, 3) == 0"
     ],
     "language": "python",
     "metadata": {},
     "outputs": [
      {
       "output_type": "pyout",
       "prompt_number": 44,
       "text": [
        "array([ True, False, False,  True, False, False,  True, False, False,\n",
        "        True, False, False,  True, False, False,  True, False, False,\n",
        "        True, False], dtype=bool)"
       ]
      }
     ],
     "prompt_number": 44
    },
    {
     "cell_type": "code",
     "collapsed": false,
     "input": [
      "divisible_by_3 = np.mod(a3, 3) == 0"
     ],
     "language": "python",
     "metadata": {},
     "outputs": [],
     "prompt_number": 45
    },
    {
     "cell_type": "code",
     "collapsed": false,
     "input": [
      "a3[divisible_by_3]"
     ],
     "language": "python",
     "metadata": {},
     "outputs": [
      {
       "output_type": "pyout",
       "prompt_number": 46,
       "text": [
        "array([ 0,  3,  6,  9, 12, 15, 18])"
       ]
      }
     ],
     "prompt_number": 46
    },
    {
     "cell_type": "code",
     "collapsed": false,
     "input": [
      "# if you want to understand this in terms of the overloaded operators -- don't worry if you don't get this.\n",
      "a3.__getitem__(np.mod(a3,3).__eq__(0))"
     ],
     "language": "python",
     "metadata": {},
     "outputs": [
      {
       "output_type": "pyout",
       "prompt_number": 47,
       "text": [
        "array([ 0,  3,  6,  9, 12, 15, 18])"
       ]
      }
     ],
     "prompt_number": 47
    },
    {
     "cell_type": "heading",
     "level": 2,
     "metadata": {},
     "source": [
      "Exercise:  Calculate a series that holds all the squares less than 100"
     ]
    },
    {
     "cell_type": "markdown",
     "metadata": {},
     "source": [
      "Use arange, np.sqrt, [astype](http://docs.scipy.org/doc/numpy/reference/generated/numpy.ndarray.astype.html)"
     ]
    },
    {
     "cell_type": "code",
     "collapsed": false,
     "input": [
      "a4 = arange(100)\n",
      "a4sqrt = np.sqrt(a4)\n",
      "a4[a4sqrt == a4sqrt.astype(np.int)]"
     ],
     "language": "python",
     "metadata": {},
     "outputs": [
      {
       "output_type": "pyout",
       "prompt_number": 48,
       "text": [
        "array([ 0,  1,  4,  9, 16, 25, 36, 49, 64, 81])"
       ]
      }
     ],
     "prompt_number": 48
    },
    {
     "cell_type": "heading",
     "level": 2,
     "metadata": {},
     "source": [
      "We will come back to indexing later."
     ]
    },
    {
     "cell_type": "markdown",
     "metadata": {},
     "source": [
      "http://docs.scipy.org/doc/numpy/reference/arrays.indexing.html"
     ]
    },
    {
     "cell_type": "heading",
     "level": 1,
     "metadata": {},
     "source": [
      "Pandas"
     ]
    },
    {
     "cell_type": "heading",
     "level": 2,
     "metadata": {},
     "source": [
      "pandas.Series"
     ]
    },
    {
     "cell_type": "markdown",
     "metadata": {},
     "source": [
      "Make a series out of an array"
     ]
    },
    {
     "cell_type": "code",
     "collapsed": false,
     "input": [
      "s1 = Series(arange(5))"
     ],
     "language": "python",
     "metadata": {},
     "outputs": [],
     "prompt_number": 49
    },
    {
     "cell_type": "markdown",
     "metadata": {},
     "source": [
      "  confirm that the type of s1 is  what you would expect"
     ]
    },
    {
     "cell_type": "code",
     "collapsed": false,
     "input": [
      "type(s1)"
     ],
     "language": "python",
     "metadata": {},
     "outputs": [
      {
       "output_type": "pyout",
       "prompt_number": 50,
       "text": [
        "pandas.core.series.Series"
       ]
      }
     ],
     "prompt_number": 50
    },
    {
     "cell_type": "markdown",
     "metadata": {},
     "source": [
      "show that the series is also an array"
     ]
    },
    {
     "cell_type": "code",
     "collapsed": false,
     "input": [
      "s1.ndim, isinstance(s1, np.ndarray)"
     ],
     "language": "python",
     "metadata": {},
     "outputs": [
      {
       "output_type": "pyout",
       "prompt_number": 51,
       "text": [
        "(1, True)"
       ]
      }
     ],
     "prompt_number": 51
    },
    {
     "cell_type": "code",
     "collapsed": false,
     "input": [
      "s1.index"
     ],
     "language": "python",
     "metadata": {},
     "outputs": [
      {
       "output_type": "pyout",
       "prompt_number": 52,
       "text": [
        "Int64Index([0, 1, 2, 3, 4], dtype=int64)"
       ]
      }
     ],
     "prompt_number": 52
    },
    {
     "cell_type": "code",
     "collapsed": false,
     "input": [
      "import string\n",
      "allTheLetters = string.lowercase\n",
      "allTheLetters"
     ],
     "language": "python",
     "metadata": {},
     "outputs": [
      {
       "output_type": "pyout",
       "prompt_number": 53,
       "text": [
        "'abcdefghijklmnopqrstuvwxyz'"
       ]
      }
     ],
     "prompt_number": 53
    },
    {
     "cell_type": "code",
     "collapsed": false,
     "input": [
      "s2 = Series(data=arange(5), index=list(allTheLetters)[:5])\n",
      "s2"
     ],
     "language": "python",
     "metadata": {},
     "outputs": [
      {
       "output_type": "pyout",
       "prompt_number": 54,
       "text": [
        "a    0\n",
        "b    1\n",
        "c    2\n",
        "d    3\n",
        "e    4"
       ]
      }
     ],
     "prompt_number": 54
    },
    {
     "cell_type": "code",
     "collapsed": false,
     "input": [
      "s2.index"
     ],
     "language": "python",
     "metadata": {},
     "outputs": [
      {
       "output_type": "pyout",
       "prompt_number": 55,
       "text": [
        "Index([a, b, c, d, e], dtype=object)"
       ]
      }
     ],
     "prompt_number": 55
    },
    {
     "cell_type": "markdown",
     "metadata": {},
     "source": [
      "http://my.safaribooksonline.com/book/programming/python/9781449323592/5dot-getting-started-with-pandas/id2828378 :\n",
      "\n",
      "> Compared with a regular NumPy array, you can use values in the index when selecting single values or a set of values"
     ]
    },
    {
     "cell_type": "code",
     "collapsed": false,
     "input": [
      "# can use both numeric indexing and the labels\n",
      "s2[0], s2['a']"
     ],
     "language": "python",
     "metadata": {},
     "outputs": [
      {
       "output_type": "pyout",
       "prompt_number": 56,
       "text": [
        "(0, 0)"
       ]
      }
     ],
     "prompt_number": 56
    },
    {
     "cell_type": "code",
     "collapsed": false,
     "input": [
      "for i in range(len(s2)):\n",
      "    print i, s2[i]"
     ],
     "language": "python",
     "metadata": {},
     "outputs": [
      {
       "output_type": "stream",
       "stream": "stdout",
       "text": [
        "0 0\n",
        "1 1\n",
        "2 2\n",
        "3 3\n",
        "4 4\n"
       ]
      }
     ],
     "prompt_number": 57
    },
    {
     "cell_type": "markdown",
     "metadata": {},
     "source": [
      "it is possible conflict in indexing -- consider"
     ]
    },
    {
     "cell_type": "code",
     "collapsed": false,
     "input": [
      "s3 = Series(data=['albert', 'betty', 'cathy'], index=[3,1, 0])\n",
      "s3"
     ],
     "language": "python",
     "metadata": {},
     "outputs": [
      {
       "output_type": "pyout",
       "prompt_number": 58,
       "text": [
        "3    albert\n",
        "1     betty\n",
        "0     cathy"
       ]
      }
     ],
     "prompt_number": 58
    },
    {
     "cell_type": "code",
     "collapsed": false,
     "input": [
      "s3[0], list(s3)[0]"
     ],
     "language": "python",
     "metadata": {},
     "outputs": [
      {
       "output_type": "pyout",
       "prompt_number": 59,
       "text": [
        "('cathy', 'albert')"
       ]
      }
     ],
     "prompt_number": 59
    },
    {
     "cell_type": "markdown",
     "metadata": {},
     "source": [
      "but slicing works to return specific numeric index"
     ]
    },
    {
     "cell_type": "code",
     "collapsed": false,
     "input": [
      "s3[::-1]"
     ],
     "language": "python",
     "metadata": {},
     "outputs": [
      {
       "output_type": "pyout",
       "prompt_number": 60,
       "text": [
        "0     cathy\n",
        "1     betty\n",
        "3    albert"
       ]
      }
     ],
     "prompt_number": 60
    },
    {
     "cell_type": "code",
     "collapsed": false,
     "input": [
      "for i in range(len(s3)):\n",
      "    print i, s3[i:i+1]"
     ],
     "language": "python",
     "metadata": {},
     "outputs": [
      {
       "output_type": "stream",
       "stream": "stdout",
       "text": [
        "0 3    albert\n",
        "1 1    betty\n",
        "2 0    cathy\n"
       ]
      }
     ],
     "prompt_number": 61
    },
    {
     "cell_type": "code",
     "collapsed": false,
     "input": [
      "s3.name = 'person names'\n",
      "s3.name"
     ],
     "language": "python",
     "metadata": {},
     "outputs": [
      {
       "output_type": "pyout",
       "prompt_number": 62,
       "text": [
        "'person names'"
       ]
      }
     ],
     "prompt_number": 62
    },
    {
     "cell_type": "code",
     "collapsed": false,
     "input": [
      "s3.index.name = 'confounding label'\n",
      "s3.index.name"
     ],
     "language": "python",
     "metadata": {},
     "outputs": [
      {
       "output_type": "pyout",
       "prompt_number": 63,
       "text": [
        "'confounding label'"
       ]
      }
     ],
     "prompt_number": 63
    },
    {
     "cell_type": "code",
     "collapsed": false,
     "input": [
      "s3"
     ],
     "language": "python",
     "metadata": {},
     "outputs": [
      {
       "output_type": "pyout",
       "prompt_number": 64,
       "text": [
        "confounding label\n",
        "3                    albert\n",
        "1                     betty\n",
        "0                     cathy\n",
        "Name: person names"
       ]
      }
     ],
     "prompt_number": 64
    },
    {
     "cell_type": "markdown",
     "metadata": {},
     "source": [
      "Important points remaining:\n",
      "\n",
      "* \"NumPy array operations, such as filtering with a boolean array, scalar multiplication, or applying math functions, will preserve the index-value link\"\n",
      "* \"Another way to think about a Series is as a fixed-length, ordered dict, as it is a mapping of index values to data values. It can be substituted into many functions that expect a dict\""
     ]
    },
    {
     "cell_type": "heading",
     "level": 2,
     "metadata": {},
     "source": [
      "Gauss & Chess revisited, using Series"
     ]
    },
    {
     "cell_type": "markdown",
     "metadata": {},
     "source": [
      "You get some nice `matplotlib` integration via pandas"
     ]
    },
    {
     "cell_type": "code",
     "collapsed": false,
     "input": [
      "# Gauss addition using np.arange, Series \n",
      "\n",
      "from pandas import Series\n",
      "Series(arange(101).cumsum()).plot()"
     ],
     "language": "python",
     "metadata": {},
     "outputs": [
      {
       "output_type": "pyout",
       "prompt_number": 65,
       "text": [
        "<matplotlib.axes.AxesSubplot at 0x4dce930>"
       ]
      },
      {
       "output_type": "display_data",
       "png": "[encoded data removed]"
      }
     ],
     "prompt_number": 65
    },
    {
     "cell_type": "code",
     "collapsed": false,
     "input": [
      "from pandas import Series\n",
      "Series((pow(2,k) for k in xrange(64)), dtype=np.float64).cumsum().plot()"
     ],
     "language": "python",
     "metadata": {},
     "outputs": [
      {
       "output_type": "pyout",
       "prompt_number": 66,
       "text": [
        "<matplotlib.axes.AxesSubplot at 0x4e1ab30>"
       ]
      },
      {
       "output_type": "display_data",
       "png": "[encoded data removed]"
      }
     ],
     "prompt_number": 66
    },
    {
     "cell_type": "heading",
     "level": 2,
     "metadata": {},
     "source": [
      "Wheat and Chessboard w/ NumPy"
     ]
    },
    {
     "cell_type": "markdown",
     "metadata": {},
     "source": [
      "http://docs.scipy.org/doc/numpy/reference/ufuncs.html"
     ]
    },
    {
     "cell_type": "code",
     "collapsed": false,
     "input": [
      "2*ones(64, dtype=np.int)"
     ],
     "language": "python",
     "metadata": {},
     "outputs": [
      {
       "output_type": "pyout",
       "prompt_number": 67,
       "text": [
        "array([2, 2, 2, 2, 2, 2, 2, 2, 2, 2, 2, 2, 2, 2, 2, 2, 2, 2, 2, 2, 2, 2, 2,\n",
        "       2, 2, 2, 2, 2, 2, 2, 2, 2, 2, 2, 2, 2, 2, 2, 2, 2, 2, 2, 2, 2, 2, 2,\n",
        "       2, 2, 2, 2, 2, 2, 2, 2, 2, 2, 2, 2, 2, 2, 2, 2, 2, 2])"
       ]
      }
     ],
     "prompt_number": 67
    },
    {
     "cell_type": "code",
     "collapsed": false,
     "input": [
      "arange(64)"
     ],
     "language": "python",
     "metadata": {},
     "outputs": [
      {
       "output_type": "pyout",
       "prompt_number": 68,
       "text": [
        "array([ 0,  1,  2,  3,  4,  5,  6,  7,  8,  9, 10, 11, 12, 13, 14, 15, 16,\n",
        "       17, 18, 19, 20, 21, 22, 23, 24, 25, 26, 27, 28, 29, 30, 31, 32, 33,\n",
        "       34, 35, 36, 37, 38, 39, 40, 41, 42, 43, 44, 45, 46, 47, 48, 49, 50,\n",
        "       51, 52, 53, 54, 55, 56, 57, 58, 59, 60, 61, 62, 63])"
       ]
      }
     ],
     "prompt_number": 68
    },
    {
     "cell_type": "code",
     "collapsed": false,
     "input": [
      "sum(np.power(2, arange(64, dtype=np.uint64)))"
     ],
     "language": "python",
     "metadata": {},
     "outputs": [
      {
       "output_type": "pyout",
       "prompt_number": 69,
       "text": [
        "18446744073709551615"
       ]
      }
     ],
     "prompt_number": 69
    },
    {
     "cell_type": "code",
     "collapsed": false,
     "input": [
      "sum(np.power(2*ones(64, dtype=np.uint64), arange(64))) "
     ],
     "language": "python",
     "metadata": {},
     "outputs": [
      {
       "output_type": "pyout",
       "prompt_number": 70,
       "text": [
        "1.8446744073709552e+19"
       ]
      }
     ],
     "prompt_number": 70
    },
    {
     "cell_type": "code",
     "collapsed": false,
     "input": [
      "precise_ans = sum([pow(2,n) for n in xrange(64)])\n",
      "np_ans = sum(np.power(2*ones(64, dtype=np.uint64), arange(64)))\n",
      "\n",
      "precise_ans, np_ans\n",
      "\n"
     ],
     "language": "python",
     "metadata": {},
     "outputs": [
      {
       "output_type": "pyout",
       "prompt_number": 71,
       "text": [
        "(18446744073709551615L, 1.8446744073709552e+19)"
       ]
      }
     ],
     "prompt_number": 71
    },
    {
     "cell_type": "code",
     "collapsed": false,
     "input": [
      "# Raise an assertion if two items are not equal up to desired precision.\n",
      "np.testing.assert_almost_equal(precise_ans, np_ans) is None"
     ],
     "language": "python",
     "metadata": {},
     "outputs": [
      {
       "output_type": "pyout",
       "prompt_number": 72,
       "text": [
        "True"
       ]
      }
     ],
     "prompt_number": 72
    },
    {
     "cell_type": "heading",
     "level": 1,
     "metadata": {},
     "source": [
      "File Dependency Check for Census calculation"
     ]
    },
    {
     "cell_type": "markdown",
     "metadata": {},
     "source": [
      "Here we check to make sure that the expected files are in place.\n",
      "\n",
      "This notebook assumes relative location of files as laid out in https://github.com/rdhyee/working-open-data\n",
      "\n"
     ]
    },
    {
     "cell_type": "code",
     "collapsed": false,
     "input": [
      "import os\n",
      "\n",
      "# relative to parent dir\n",
      "DATA_FILES = {\"datadict\":\"data/census/DataDict.txt\",\n",
      "               \"dataset\":\"data/census/DataSet.txt\",\n",
      "               \"fips\": \"data/census/FIPS_CountyName.txt\"}\n",
      "\n",
      "def file_path(key):\n",
      "    return os.path.join(os.pardir, DATA_FILES[key])\n",
      "\n",
      "for file_key in DATA_FILES.keys():\n",
      "    abs_fname = file_path(file_key)\n",
      "    print abs_fname, os.path.exists(abs_fname)\n",
      "    "
     ],
     "language": "python",
     "metadata": {},
     "outputs": [
      {
       "output_type": "stream",
       "stream": "stdout",
       "text": [
        "../data/census/DataDict.txt True\n",
        "../data/census/FIPS_CountyName.txt True\n",
        "../data/census/DataSet.txt True\n"
       ]
      }
     ],
     "prompt_number": 73
    },
    {
     "cell_type": "markdown",
     "metadata": {},
     "source": [
      " You can download git repo as zip file if you are having problems with github\n",
      "\n",
      "<img src=\"https://raw.github.com/rdhyee/working-open-data/master/lectures/images/download_repo_as_zip.jpg\" />"
     ]
    },
    {
     "cell_type": "heading",
     "level": 1,
     "metadata": {},
     "source": [
      "Let's do the pandas related imports"
     ]
    },
    {
     "cell_type": "code",
     "collapsed": false,
     "input": [
      "import pandas as pd\n",
      "from pandas import Series, DataFrame"
     ],
     "language": "python",
     "metadata": {},
     "outputs": [],
     "prompt_number": 74
    },
    {
     "cell_type": "heading",
     "level": 1,
     "metadata": {},
     "source": [
      "Getting more out of iPython notebook"
     ]
    },
    {
     "cell_type": "markdown",
     "metadata": {},
     "source": [
      "*PfDA*, p. 55 -- Table 3-2\n",
      "\n",
      "http://my.safaribooksonline.com/book/programming/python/9781449323592/3dot-ipython-an-interactive-computing-and-development-environment/id2774782#ipython_magic_table"
     ]
    },
    {
     "cell_type": "heading",
     "level": 1,
     "metadata": {},
     "source": [
      "Census Quickfacts"
     ]
    },
    {
     "cell_type": "code",
     "collapsed": false,
     "input": [
      "# use head on Mac/linuc to look at file\n",
      "\n",
      "fips_path = file_path(\"fips\")\n",
      "!head $fips_path"
     ],
     "language": "python",
     "metadata": {},
     "outputs": [
      {
       "output_type": "stream",
       "stream": "stdout",
       "text": [
        "00000 UNITED STATES\r\n",
        "01000 ALABAMA\r\n",
        "01001 Autauga County, AL\r\n",
        "01003 Baldwin County, AL\r\n",
        "01005 Barbour County, AL\r\n",
        "01007 Bibb County, AL\r\n",
        "01009 Blount County, AL\r\n",
        "01011 Bullock County, AL\r\n",
        "01013 Butler County, AL\r\n",
        "01015 Calhoun County, AL\r\n"
       ]
      }
     ],
     "prompt_number": 75
    },
    {
     "cell_type": "heading",
     "level": 2,
     "metadata": {},
     "source": [
      "trying out by hand the construction of a simple DataFrame to see what loading a list of dict into DataFrame gets us"
     ]
    },
    {
     "cell_type": "code",
     "collapsed": false,
     "input": [
      "df1 = DataFrame([{'fips':'00000', 'geog_entity':'UNITED STATES'}, \n",
      "              {'fips':'01000', 'geog_entity':'ALABAMA'},\n",
      "              ])\n",
      "df1"
     ],
     "language": "python",
     "metadata": {},
     "outputs": [
      {
       "html": [
        "<div style=\"max-height:1000px;max-width:1500px;overflow:auto;\">\n",
        "<table border=\"1\" class=\"dataframe\">\n",
        "  <thead>\n",
        "    <tr style=\"text-align: right;\">\n",
        "      <th></th>\n",
        "      <th>fips</th>\n",
        "      <th>geog_entity</th>\n",
        "    </tr>\n",
        "  </thead>\n",
        "  <tbody>\n",
        "    <tr>\n",
        "      <th>0</th>\n",
        "      <td> 00000</td>\n",
        "      <td> UNITED STATES</td>\n",
        "    </tr>\n",
        "    <tr>\n",
        "      <th>1</th>\n",
        "      <td> 01000</td>\n",
        "      <td>       ALABAMA</td>\n",
        "    </tr>\n",
        "  </tbody>\n",
        "</table>\n",
        "</div>"
       ],
       "output_type": "pyout",
       "prompt_number": 76,
       "text": [
        "    fips    geog_entity\n",
        "0  00000  UNITED STATES\n",
        "1  01000        ALABAMA"
       ]
      }
     ],
     "prompt_number": 76
    },
    {
     "cell_type": "code",
     "collapsed": false,
     "input": [
      "# check type of df1\n",
      "type(df1)"
     ],
     "language": "python",
     "metadata": {},
     "outputs": [
      {
       "output_type": "pyout",
       "prompt_number": 77,
       "text": [
        "pandas.core.frame.DataFrame"
       ]
      }
     ],
     "prompt_number": 77
    },
    {
     "cell_type": "code",
     "collapsed": false,
     "input": [
      "# column headings\n",
      "\n",
      "df1.columns"
     ],
     "language": "python",
     "metadata": {},
     "outputs": [
      {
       "output_type": "pyout",
       "prompt_number": 78,
       "text": [
        "Index([fips, geog_entity], dtype=object)"
       ]
      }
     ],
     "prompt_number": 78
    },
    {
     "cell_type": "code",
     "collapsed": false,
     "input": [
      "# index -- ascribed automatically since we didn't explicitly specify labels\n",
      "df1.index"
     ],
     "language": "python",
     "metadata": {},
     "outputs": [
      {
       "output_type": "pyout",
       "prompt_number": 79,
       "text": [
        "Int64Index([0, 1], dtype=int64)"
       ]
      }
     ],
     "prompt_number": 79
    },
    {
     "cell_type": "markdown",
     "metadata": {},
     "source": [
      "We can use [`set_index`](http://pandas.pydata.org/pandas-docs/stable/generated/pandas.DataFrame.set_index.html#pandas.DataFrame.set_index) to makes fips the index"
     ]
    },
    {
     "cell_type": "code",
     "collapsed": false,
     "input": [
      "# http://pandas.pydata.org/pandas-docs/stable/generated/pandas.DataFrame.set_index.html#pandas.DataFrame.set_index\n",
      "# p. 150\n",
      "df1.set_index('fips', inplace=True, drop=True)"
     ],
     "language": "python",
     "metadata": {},
     "outputs": [
      {
       "output_type": "stream",
       "stream": "stderr",
       "text": [
        "/Users/raymondyee/.virtualenvs/epd1/lib/python2.7/site-packages/pandas/core/frame.py:2762: FutureWarning: set_index with inplace=True  will return None from pandas 0.11 onward\n",
        "  \" from pandas 0.11 onward\", FutureWarning)\n"
       ]
      },
      {
       "html": [
        "<div style=\"max-height:1000px;max-width:1500px;overflow:auto;\">\n",
        "<table border=\"1\" class=\"dataframe\">\n",
        "  <thead>\n",
        "    <tr style=\"text-align: right;\">\n",
        "      <th></th>\n",
        "      <th>geog_entity</th>\n",
        "    </tr>\n",
        "    <tr>\n",
        "      <th>fips</th>\n",
        "      <th></th>\n",
        "    </tr>\n",
        "  </thead>\n",
        "  <tbody>\n",
        "    <tr>\n",
        "      <th>00000</th>\n",
        "      <td> UNITED STATES</td>\n",
        "    </tr>\n",
        "    <tr>\n",
        "      <th>01000</th>\n",
        "      <td>       ALABAMA</td>\n",
        "    </tr>\n",
        "  </tbody>\n",
        "</table>\n",
        "</div>"
       ],
       "output_type": "pyout",
       "prompt_number": 80,
       "text": [
        "         geog_entity\n",
        "fips                \n",
        "00000  UNITED STATES\n",
        "01000        ALABAMA"
       ]
      }
     ],
     "prompt_number": 80
    },
    {
     "cell_type": "code",
     "collapsed": false,
     "input": [
      "# now check the index\n",
      "df1.index"
     ],
     "language": "python",
     "metadata": {},
     "outputs": [
      {
       "output_type": "pyout",
       "prompt_number": 81,
       "text": [
        "Index([00000, 01000], dtype=object)"
       ]
      }
     ],
     "prompt_number": 81
    },
    {
     "cell_type": "code",
     "collapsed": false,
     "input": [
      "# to access row with index of 01000\n",
      "df1.ix['01000'] "
     ],
     "language": "python",
     "metadata": {},
     "outputs": [
      {
       "output_type": "pyout",
       "prompt_number": 82,
       "text": [
        "geog_entity    ALABAMA\n",
        "Name: 01000"
       ]
      }
     ],
     "prompt_number": 82
    },
    {
     "cell_type": "code",
     "collapsed": false,
     "input": [
      "# to read off the geog_entity column\n",
      "df1['geog_entity']"
     ],
     "language": "python",
     "metadata": {},
     "outputs": [
      {
       "output_type": "pyout",
       "prompt_number": 83,
       "text": [
        "fips\n",
        "00000    UNITED STATES\n",
        "01000          ALABAMA\n",
        "Name: geog_entity"
       ]
      }
     ],
     "prompt_number": 83
    },
    {
     "cell_type": "code",
     "collapsed": false,
     "input": [
      "# look at how we can do row slices\n",
      "df1.ix[0:1]"
     ],
     "language": "python",
     "metadata": {},
     "outputs": [
      {
       "html": [
        "<div style=\"max-height:1000px;max-width:1500px;overflow:auto;\">\n",
        "<table border=\"1\" class=\"dataframe\">\n",
        "  <thead>\n",
        "    <tr style=\"text-align: right;\">\n",
        "      <th></th>\n",
        "      <th>geog_entity</th>\n",
        "    </tr>\n",
        "    <tr>\n",
        "      <th>fips</th>\n",
        "      <th></th>\n",
        "    </tr>\n",
        "  </thead>\n",
        "  <tbody>\n",
        "    <tr>\n",
        "      <th>00000</th>\n",
        "      <td> UNITED STATES</td>\n",
        "    </tr>\n",
        "  </tbody>\n",
        "</table>\n",
        "</div>"
       ],
       "output_type": "pyout",
       "prompt_number": 84,
       "text": [
        "         geog_entity\n",
        "fips                \n",
        "00000  UNITED STATES"
       ]
      }
     ],
     "prompt_number": 84
    },
    {
     "cell_type": "code",
     "collapsed": false,
     "input": [
      "# get rows in reverse order\n",
      "df1.ix[::-1]"
     ],
     "language": "python",
     "metadata": {},
     "outputs": [
      {
       "html": [
        "<div style=\"max-height:1000px;max-width:1500px;overflow:auto;\">\n",
        "<table border=\"1\" class=\"dataframe\">\n",
        "  <thead>\n",
        "    <tr style=\"text-align: right;\">\n",
        "      <th></th>\n",
        "      <th>geog_entity</th>\n",
        "    </tr>\n",
        "    <tr>\n",
        "      <th>fips</th>\n",
        "      <th></th>\n",
        "    </tr>\n",
        "  </thead>\n",
        "  <tbody>\n",
        "    <tr>\n",
        "      <th>01000</th>\n",
        "      <td>       ALABAMA</td>\n",
        "    </tr>\n",
        "    <tr>\n",
        "      <th>00000</th>\n",
        "      <td> UNITED STATES</td>\n",
        "    </tr>\n",
        "  </tbody>\n",
        "</table>\n",
        "</div>"
       ],
       "output_type": "pyout",
       "prompt_number": 85,
       "text": [
        "         geog_entity\n",
        "fips                \n",
        "01000        ALABAMA\n",
        "00000  UNITED STATES"
       ]
      }
     ],
     "prompt_number": 85
    },
    {
     "cell_type": "markdown",
     "metadata": {},
     "source": [
      "Create the index explicitly in instantiation of the simple DataFrame"
     ]
    },
    {
     "cell_type": "code",
     "collapsed": false,
     "input": [
      "df2 = DataFrame(data = [{'geog_entity':'UNITED STATES'}, \n",
      "                {'geog_entity':'ALABAMA'},\n",
      "                ], index = ['00000','01000'])\n",
      "df2"
     ],
     "language": "python",
     "metadata": {},
     "outputs": [
      {
       "html": [
        "<div style=\"max-height:1000px;max-width:1500px;overflow:auto;\">\n",
        "<table border=\"1\" class=\"dataframe\">\n",
        "  <thead>\n",
        "    <tr style=\"text-align: right;\">\n",
        "      <th></th>\n",
        "      <th>geog_entity</th>\n",
        "    </tr>\n",
        "  </thead>\n",
        "  <tbody>\n",
        "    <tr>\n",
        "      <th>00000</th>\n",
        "      <td> UNITED STATES</td>\n",
        "    </tr>\n",
        "    <tr>\n",
        "      <th>01000</th>\n",
        "      <td>       ALABAMA</td>\n",
        "    </tr>\n",
        "  </tbody>\n",
        "</table>\n",
        "</div>"
       ],
       "output_type": "pyout",
       "prompt_number": 86,
       "text": [
        "         geog_entity\n",
        "00000  UNITED STATES\n",
        "01000        ALABAMA"
       ]
      }
     ],
     "prompt_number": 86
    },
    {
     "cell_type": "code",
     "collapsed": false,
     "input": [
      "# note index name is empty\n",
      "df2.index.name is None"
     ],
     "language": "python",
     "metadata": {},
     "outputs": [
      {
       "output_type": "pyout",
       "prompt_number": 87,
       "text": [
        "True"
       ]
      }
     ],
     "prompt_number": 87
    },
    {
     "cell_type": "code",
     "collapsed": false,
     "input": [
      "# set index name\n",
      "df2.index.name = 'fips'\n",
      "df2"
     ],
     "language": "python",
     "metadata": {},
     "outputs": [
      {
       "html": [
        "<div style=\"max-height:1000px;max-width:1500px;overflow:auto;\">\n",
        "<table border=\"1\" class=\"dataframe\">\n",
        "  <thead>\n",
        "    <tr style=\"text-align: right;\">\n",
        "      <th></th>\n",
        "      <th>geog_entity</th>\n",
        "    </tr>\n",
        "    <tr>\n",
        "      <th>fips</th>\n",
        "      <th></th>\n",
        "    </tr>\n",
        "  </thead>\n",
        "  <tbody>\n",
        "    <tr>\n",
        "      <th>00000</th>\n",
        "      <td> UNITED STATES</td>\n",
        "    </tr>\n",
        "    <tr>\n",
        "      <th>01000</th>\n",
        "      <td>       ALABAMA</td>\n",
        "    </tr>\n",
        "  </tbody>\n",
        "</table>\n",
        "</div>"
       ],
       "output_type": "pyout",
       "prompt_number": 88,
       "text": [
        "         geog_entity\n",
        "fips                \n",
        "00000  UNITED STATES\n",
        "01000        ALABAMA"
       ]
      }
     ],
     "prompt_number": 88
    },
    {
     "cell_type": "heading",
     "level": 2,
     "metadata": {},
     "source": [
      "Exercise:  Complete this code to create fips_df from the fips file"
     ]
    },
    {
     "cell_type": "code",
     "collapsed": false,
     "input": [
      "import codecs\n",
      "from itertools import islice\n",
      "\n",
      "from pandas import Series, DataFrame\n",
      "\n",
      "f = codecs.open(file_path(\"fips\"), encoding='iso-8859-1')\n",
      "\n",
      "fips_list = list()\n",
      "\n",
      "for row in islice(f, None):\n",
      "    fips_list.append({'fips': row[:5], 'geog_entity': row[6:-1]})\n",
      "    \n",
      "fips_df = DataFrame(fips_list)\n",
      "fips_df"
     ],
     "language": "python",
     "metadata": {},
     "outputs": [
      {
       "output_type": "pyout",
       "prompt_number": 89,
       "text": [
        "<class 'pandas.core.frame.DataFrame'>\n",
        "Int64Index: 3195 entries, 0 to 3194\n",
        "Data columns:\n",
        "fips           3195  non-null values\n",
        "geog_entity    3195  non-null values\n",
        "dtypes: object(2)"
       ]
      }
     ],
     "prompt_number": 89
    },
    {
     "cell_type": "code",
     "collapsed": false,
     "input": [
      "# display the first 5 rows\n",
      "fips_df[:5]"
     ],
     "language": "python",
     "metadata": {},
     "outputs": [
      {
       "html": [
        "<div style=\"max-height:1000px;max-width:1500px;overflow:auto;\">\n",
        "<table border=\"1\" class=\"dataframe\">\n",
        "  <thead>\n",
        "    <tr style=\"text-align: right;\">\n",
        "      <th></th>\n",
        "      <th>fips</th>\n",
        "      <th>geog_entity</th>\n",
        "    </tr>\n",
        "  </thead>\n",
        "  <tbody>\n",
        "    <tr>\n",
        "      <th>0</th>\n",
        "      <td> 00000</td>\n",
        "      <td>      UNITED STATES</td>\n",
        "    </tr>\n",
        "    <tr>\n",
        "      <th>1</th>\n",
        "      <td> 01000</td>\n",
        "      <td>            ALABAMA</td>\n",
        "    </tr>\n",
        "    <tr>\n",
        "      <th>2</th>\n",
        "      <td> 01001</td>\n",
        "      <td> Autauga County, AL</td>\n",
        "    </tr>\n",
        "    <tr>\n",
        "      <th>3</th>\n",
        "      <td> 01003</td>\n",
        "      <td> Baldwin County, AL</td>\n",
        "    </tr>\n",
        "    <tr>\n",
        "      <th>4</th>\n",
        "      <td> 01005</td>\n",
        "      <td> Barbour County, AL</td>\n",
        "    </tr>\n",
        "  </tbody>\n",
        "</table>\n",
        "</div>"
       ],
       "output_type": "pyout",
       "prompt_number": 90,
       "text": [
        "    fips         geog_entity\n",
        "0  00000       UNITED STATES\n",
        "1  01000             ALABAMA\n",
        "2  01001  Autauga County, AL\n",
        "3  01003  Baldwin County, AL\n",
        "4  01005  Barbour County, AL"
       ]
      }
     ],
     "prompt_number": 90
    },
    {
     "cell_type": "heading",
     "level": 2,
     "metadata": {},
     "source": [
      "let's try using read_table directly to read in fips code"
     ]
    },
    {
     "cell_type": "code",
     "collapsed": false,
     "input": [
      "import codecs\n",
      "from itertools import islice\n",
      "\n",
      "import pandas as pd\n",
      "from pandas import Series, DataFrame\n",
      "\n",
      "f = codecs.open(file_path(\"fips\"), encoding='iso-8859-1')\n",
      "\n",
      "fips_df2 = pd.read_table(f, header=None,names=['row'])\n",
      "\n",
      "# show first five rows\n",
      "fips_df2[:5]\n",
      "\n"
     ],
     "language": "python",
     "metadata": {},
     "outputs": [
      {
       "html": [
        "<div style=\"max-height:1000px;max-width:1500px;overflow:auto;\">\n",
        "<table border=\"1\" class=\"dataframe\">\n",
        "  <thead>\n",
        "    <tr style=\"text-align: right;\">\n",
        "      <th></th>\n",
        "      <th>row</th>\n",
        "    </tr>\n",
        "  </thead>\n",
        "  <tbody>\n",
        "    <tr>\n",
        "      <th>0</th>\n",
        "      <td>      00000 UNITED STATES</td>\n",
        "    </tr>\n",
        "    <tr>\n",
        "      <th>1</th>\n",
        "      <td>            01000 ALABAMA</td>\n",
        "    </tr>\n",
        "    <tr>\n",
        "      <th>2</th>\n",
        "      <td> 01001 Autauga County, AL</td>\n",
        "    </tr>\n",
        "    <tr>\n",
        "      <th>3</th>\n",
        "      <td> 01003 Baldwin County, AL</td>\n",
        "    </tr>\n",
        "    <tr>\n",
        "      <th>4</th>\n",
        "      <td> 01005 Barbour County, AL</td>\n",
        "    </tr>\n",
        "  </tbody>\n",
        "</table>\n",
        "</div>"
       ],
       "output_type": "pyout",
       "prompt_number": 91,
       "text": [
        "                        row\n",
        "0       00000 UNITED STATES\n",
        "1             01000 ALABAMA\n",
        "2  01001 Autauga County, AL\n",
        "3  01003 Baldwin County, AL\n",
        "4  01005 Barbour County, AL"
       ]
      }
     ],
     "prompt_number": 91
    },
    {
     "cell_type": "heading",
     "level": 3,
     "metadata": {},
     "source": [
      "Exercise: create a fips column"
     ]
    },
    {
     "cell_type": "markdown",
     "metadata": {},
     "source": [
      "hint:  consider using `fips_df2.row.str[:]` and see what happens if you use\n",
      "\n",
      "    fips_df2[\"junk\"] = 'hello'\n",
      "\n",
      "BTW, you can delete columns  -- e.g.,\n",
      "\n",
      "    del fips_df2[\"junk\"] "
     ]
    },
    {
     "cell_type": "code",
     "collapsed": false,
     "input": [
      "fips_df2[\"fips\"] = fips_df2.row.str[:5]"
     ],
     "language": "python",
     "metadata": {},
     "outputs": [],
     "prompt_number": 92
    },
    {
     "cell_type": "code",
     "collapsed": false,
     "input": [
      "# show first five rows\n",
      "fips_df2[:5]"
     ],
     "language": "python",
     "metadata": {},
     "outputs": [
      {
       "html": [
        "<div style=\"max-height:1000px;max-width:1500px;overflow:auto;\">\n",
        "<table border=\"1\" class=\"dataframe\">\n",
        "  <thead>\n",
        "    <tr style=\"text-align: right;\">\n",
        "      <th></th>\n",
        "      <th>row</th>\n",
        "      <th>fips</th>\n",
        "    </tr>\n",
        "  </thead>\n",
        "  <tbody>\n",
        "    <tr>\n",
        "      <th>0</th>\n",
        "      <td>      00000 UNITED STATES</td>\n",
        "      <td> 00000</td>\n",
        "    </tr>\n",
        "    <tr>\n",
        "      <th>1</th>\n",
        "      <td>            01000 ALABAMA</td>\n",
        "      <td> 01000</td>\n",
        "    </tr>\n",
        "    <tr>\n",
        "      <th>2</th>\n",
        "      <td> 01001 Autauga County, AL</td>\n",
        "      <td> 01001</td>\n",
        "    </tr>\n",
        "    <tr>\n",
        "      <th>3</th>\n",
        "      <td> 01003 Baldwin County, AL</td>\n",
        "      <td> 01003</td>\n",
        "    </tr>\n",
        "    <tr>\n",
        "      <th>4</th>\n",
        "      <td> 01005 Barbour County, AL</td>\n",
        "      <td> 01005</td>\n",
        "    </tr>\n",
        "  </tbody>\n",
        "</table>\n",
        "</div>"
       ],
       "output_type": "pyout",
       "prompt_number": 93,
       "text": [
        "                        row   fips\n",
        "0       00000 UNITED STATES  00000\n",
        "1             01000 ALABAMA  01000\n",
        "2  01001 Autauga County, AL  01001\n",
        "3  01003 Baldwin County, AL  01003\n",
        "4  01005 Barbour County, AL  01005"
       ]
      }
     ],
     "prompt_number": 93
    },
    {
     "cell_type": "heading",
     "level": 3,
     "metadata": {},
     "source": [
      "Exercise: Likewise, create the geog_entity column and get rid of row column"
     ]
    },
    {
     "cell_type": "code",
     "collapsed": false,
     "input": [
      "fips_df2[\"geog_entity\"] = fips_df2.row.str[6:]\n",
      "fips_df2[:5]"
     ],
     "language": "python",
     "metadata": {},
     "outputs": [
      {
       "html": [
        "<div style=\"max-height:1000px;max-width:1500px;overflow:auto;\">\n",
        "<table border=\"1\" class=\"dataframe\">\n",
        "  <thead>\n",
        "    <tr style=\"text-align: right;\">\n",
        "      <th></th>\n",
        "      <th>row</th>\n",
        "      <th>fips</th>\n",
        "      <th>geog_entity</th>\n",
        "    </tr>\n",
        "  </thead>\n",
        "  <tbody>\n",
        "    <tr>\n",
        "      <th>0</th>\n",
        "      <td>      00000 UNITED STATES</td>\n",
        "      <td> 00000</td>\n",
        "      <td>      UNITED STATES</td>\n",
        "    </tr>\n",
        "    <tr>\n",
        "      <th>1</th>\n",
        "      <td>            01000 ALABAMA</td>\n",
        "      <td> 01000</td>\n",
        "      <td>            ALABAMA</td>\n",
        "    </tr>\n",
        "    <tr>\n",
        "      <th>2</th>\n",
        "      <td> 01001 Autauga County, AL</td>\n",
        "      <td> 01001</td>\n",
        "      <td> Autauga County, AL</td>\n",
        "    </tr>\n",
        "    <tr>\n",
        "      <th>3</th>\n",
        "      <td> 01003 Baldwin County, AL</td>\n",
        "      <td> 01003</td>\n",
        "      <td> Baldwin County, AL</td>\n",
        "    </tr>\n",
        "    <tr>\n",
        "      <th>4</th>\n",
        "      <td> 01005 Barbour County, AL</td>\n",
        "      <td> 01005</td>\n",
        "      <td> Barbour County, AL</td>\n",
        "    </tr>\n",
        "  </tbody>\n",
        "</table>\n",
        "</div>"
       ],
       "output_type": "pyout",
       "prompt_number": 94,
       "text": [
        "                        row   fips         geog_entity\n",
        "0       00000 UNITED STATES  00000       UNITED STATES\n",
        "1             01000 ALABAMA  01000             ALABAMA\n",
        "2  01001 Autauga County, AL  01001  Autauga County, AL\n",
        "3  01003 Baldwin County, AL  01003  Baldwin County, AL\n",
        "4  01005 Barbour County, AL  01005  Barbour County, AL"
       ]
      }
     ],
     "prompt_number": 94
    },
    {
     "cell_type": "code",
     "collapsed": false,
     "input": [
      "del fips_df2[\"row\"]"
     ],
     "language": "python",
     "metadata": {},
     "outputs": [],
     "prompt_number": 95
    },
    {
     "cell_type": "code",
     "collapsed": false,
     "input": [
      "fips_df2[:5]"
     ],
     "language": "python",
     "metadata": {},
     "outputs": [
      {
       "html": [
        "<div style=\"max-height:1000px;max-width:1500px;overflow:auto;\">\n",
        "<table border=\"1\" class=\"dataframe\">\n",
        "  <thead>\n",
        "    <tr style=\"text-align: right;\">\n",
        "      <th></th>\n",
        "      <th>fips</th>\n",
        "      <th>geog_entity</th>\n",
        "    </tr>\n",
        "  </thead>\n",
        "  <tbody>\n",
        "    <tr>\n",
        "      <th>0</th>\n",
        "      <td> 00000</td>\n",
        "      <td>      UNITED STATES</td>\n",
        "    </tr>\n",
        "    <tr>\n",
        "      <th>1</th>\n",
        "      <td> 01000</td>\n",
        "      <td>            ALABAMA</td>\n",
        "    </tr>\n",
        "    <tr>\n",
        "      <th>2</th>\n",
        "      <td> 01001</td>\n",
        "      <td> Autauga County, AL</td>\n",
        "    </tr>\n",
        "    <tr>\n",
        "      <th>3</th>\n",
        "      <td> 01003</td>\n",
        "      <td> Baldwin County, AL</td>\n",
        "    </tr>\n",
        "    <tr>\n",
        "      <th>4</th>\n",
        "      <td> 01005</td>\n",
        "      <td> Barbour County, AL</td>\n",
        "    </tr>\n",
        "  </tbody>\n",
        "</table>\n",
        "</div>"
       ],
       "output_type": "pyout",
       "prompt_number": 96,
       "text": [
        "    fips         geog_entity\n",
        "0  00000       UNITED STATES\n",
        "1  01000             ALABAMA\n",
        "2  01001  Autauga County, AL\n",
        "3  01003  Baldwin County, AL\n",
        "4  01005  Barbour County, AL"
       ]
      }
     ],
     "prompt_number": 96
    },
    {
     "cell_type": "code",
     "collapsed": false,
     "input": [
      "# this is a check that you have the right columns\n",
      "\n",
      "assert set(fips_df2.columns) == set(['fips', 'geog_entity'])\n",
      "assert len(fips_df2) == 3195"
     ],
     "language": "python",
     "metadata": {},
     "outputs": [],
     "prompt_number": 97
    },
    {
     "cell_type": "heading",
     "level": 3,
     "metadata": {},
     "source": [
      "Now set the fips to be the index"
     ]
    },
    {
     "cell_type": "code",
     "collapsed": false,
     "input": [
      "fips_df2.set_index('fips', inplace=True, drop=True)"
     ],
     "language": "python",
     "metadata": {},
     "outputs": [
      {
       "output_type": "pyout",
       "prompt_number": 98,
       "text": [
        "<class 'pandas.core.frame.DataFrame'>\n",
        "Index: 3195 entries, 00000 to 56045\n",
        "Data columns:\n",
        "geog_entity    3195  non-null values\n",
        "dtypes: object(1)"
       ]
      }
     ],
     "prompt_number": 98
    },
    {
     "cell_type": "code",
     "collapsed": false,
     "input": [
      "# print out first five rows\n",
      "fips_df2[:5]"
     ],
     "language": "python",
     "metadata": {},
     "outputs": [
      {
       "html": [
        "<div style=\"max-height:1000px;max-width:1500px;overflow:auto;\">\n",
        "<table border=\"1\" class=\"dataframe\">\n",
        "  <thead>\n",
        "    <tr style=\"text-align: right;\">\n",
        "      <th></th>\n",
        "      <th>geog_entity</th>\n",
        "    </tr>\n",
        "    <tr>\n",
        "      <th>fips</th>\n",
        "      <th></th>\n",
        "    </tr>\n",
        "  </thead>\n",
        "  <tbody>\n",
        "    <tr>\n",
        "      <th>00000</th>\n",
        "      <td>      UNITED STATES</td>\n",
        "    </tr>\n",
        "    <tr>\n",
        "      <th>01000</th>\n",
        "      <td>            ALABAMA</td>\n",
        "    </tr>\n",
        "    <tr>\n",
        "      <th>01001</th>\n",
        "      <td> Autauga County, AL</td>\n",
        "    </tr>\n",
        "    <tr>\n",
        "      <th>01003</th>\n",
        "      <td> Baldwin County, AL</td>\n",
        "    </tr>\n",
        "    <tr>\n",
        "      <th>01005</th>\n",
        "      <td> Barbour County, AL</td>\n",
        "    </tr>\n",
        "  </tbody>\n",
        "</table>\n",
        "</div>"
       ],
       "output_type": "pyout",
       "prompt_number": 99,
       "text": [
        "              geog_entity\n",
        "fips                     \n",
        "00000       UNITED STATES\n",
        "01000             ALABAMA\n",
        "01001  Autauga County, AL\n",
        "01003  Baldwin County, AL\n",
        "01005  Barbour County, AL"
       ]
      }
     ],
     "prompt_number": 99
    },
    {
     "cell_type": "code",
     "collapsed": false,
     "input": [
      "fips_df2.ix['00000']"
     ],
     "language": "python",
     "metadata": {},
     "outputs": [
      {
       "output_type": "pyout",
       "prompt_number": 100,
       "text": [
        "geog_entity    UNITED STATES\n",
        "Name: 00000"
       ]
      }
     ],
     "prompt_number": 100
    },
    {
     "cell_type": "heading",
     "level": 3,
     "metadata": {},
     "source": [
      "Note:  see how to pull out country + states"
     ]
    },
    {
     "cell_type": "code",
     "collapsed": false,
     "input": [
      "# first 5 rows\n",
      "fips_df2[Series(fips_df2.index).str[-3:] == '000'][:5]"
     ],
     "language": "python",
     "metadata": {},
     "outputs": [
      {
       "html": [
        "<div style=\"max-height:1000px;max-width:1500px;overflow:auto;\">\n",
        "<table border=\"1\" class=\"dataframe\">\n",
        "  <thead>\n",
        "    <tr style=\"text-align: right;\">\n",
        "      <th></th>\n",
        "      <th>geog_entity</th>\n",
        "    </tr>\n",
        "    <tr>\n",
        "      <th>fips</th>\n",
        "      <th></th>\n",
        "    </tr>\n",
        "  </thead>\n",
        "  <tbody>\n",
        "    <tr>\n",
        "      <th>00000</th>\n",
        "      <td> UNITED STATES</td>\n",
        "    </tr>\n",
        "    <tr>\n",
        "      <th>01000</th>\n",
        "      <td>       ALABAMA</td>\n",
        "    </tr>\n",
        "    <tr>\n",
        "      <th>02000</th>\n",
        "      <td>        ALASKA</td>\n",
        "    </tr>\n",
        "    <tr>\n",
        "      <th>04000</th>\n",
        "      <td>       ARIZONA</td>\n",
        "    </tr>\n",
        "    <tr>\n",
        "      <th>05000</th>\n",
        "      <td>      ARKANSAS</td>\n",
        "    </tr>\n",
        "  </tbody>\n",
        "</table>\n",
        "</div>"
       ],
       "output_type": "pyout",
       "prompt_number": 101,
       "text": [
        "         geog_entity\n",
        "fips                \n",
        "00000  UNITED STATES\n",
        "01000        ALABAMA\n",
        "02000         ALASKA\n",
        "04000        ARIZONA\n",
        "05000       ARKANSAS"
       ]
      }
     ],
     "prompt_number": 101
    },
    {
     "cell_type": "code",
     "collapsed": false,
     "input": [
      "len(fips_df2[Series(fips_df2.index).str[-3:] == '000'])"
     ],
     "language": "python",
     "metadata": {},
     "outputs": [
      {
       "output_type": "pyout",
       "prompt_number": 102,
       "text": [
        "52"
       ]
      }
     ],
     "prompt_number": 102
    },
    {
     "cell_type": "code",
     "collapsed": false,
     "input": [
      "# check type\n",
      "isinstance(fips_df2.index, pd.Index)"
     ],
     "language": "python",
     "metadata": {},
     "outputs": [
      {
       "output_type": "pyout",
       "prompt_number": 103,
       "text": [
        "True"
       ]
      }
     ],
     "prompt_number": 103
    },
    {
     "cell_type": "code",
     "collapsed": false,
     "input": [
      "# can create a Boolean slice to pull out a country\n",
      "is_country = fips_df.fips.str[:] == '00000'"
     ],
     "language": "python",
     "metadata": {},
     "outputs": [],
     "prompt_number": 104
    },
    {
     "cell_type": "code",
     "collapsed": false,
     "input": [
      "fips_df[is_country]"
     ],
     "language": "python",
     "metadata": {},
     "outputs": [
      {
       "html": [
        "<div style=\"max-height:1000px;max-width:1500px;overflow:auto;\">\n",
        "<table border=\"1\" class=\"dataframe\">\n",
        "  <thead>\n",
        "    <tr style=\"text-align: right;\">\n",
        "      <th></th>\n",
        "      <th>fips</th>\n",
        "      <th>geog_entity</th>\n",
        "    </tr>\n",
        "  </thead>\n",
        "  <tbody>\n",
        "    <tr>\n",
        "      <th>0</th>\n",
        "      <td> 00000</td>\n",
        "      <td> UNITED STATES</td>\n",
        "    </tr>\n",
        "  </tbody>\n",
        "</table>\n",
        "</div>"
       ],
       "output_type": "pyout",
       "prompt_number": 105,
       "text": [
        "    fips    geog_entity\n",
        "0  00000  UNITED STATES"
       ]
      }
     ],
     "prompt_number": 105
    },
    {
     "cell_type": "heading",
     "level": 3,
     "metadata": {},
     "source": [
      "Exercise:  create a Boolean index `is_state` to pull out states and a DataFrame `states_df` to hold the states + DC; also write `is_county` to pull out counties"
     ]
    },
    {
     "cell_type": "markdown",
     "metadata": {},
     "source": [
      "Hints:\n",
      "\n",
      "* Recall how to distinguish states fips -- end in '000' but is not '00000' (which is the US code)\n",
      "* use can use `&` to do a boolean `and` on Boolean indices -- (see `PfDA`, p. 91)"
     ]
    },
    {
     "cell_type": "code",
     "collapsed": false,
     "input": [
      "# how about states?\n",
      "# make use of \n",
      "# http://proquest.safaribooksonline.com/book/programming/python/9781449323592/7dot-data-wrangling-clean-transform-merge-reshape/id2801165\n",
      "\n",
      "is_state = (fips_df.fips.str[-3:] == '000') & (fips_df.fips.str[:] != '00000')\n",
      "is_county = fips_df.fips.str[-3:] != '000'\n",
      "\n",
      "states_df = fips_df[is_state]\n",
      "print len(states_df)\n",
      "states_df[:5]"
     ],
     "language": "python",
     "metadata": {},
     "outputs": [
      {
       "output_type": "stream",
       "stream": "stdout",
       "text": [
        "51\n"
       ]
      },
      {
       "html": [
        "<div style=\"max-height:1000px;max-width:1500px;overflow:auto;\">\n",
        "<table border=\"1\" class=\"dataframe\">\n",
        "  <thead>\n",
        "    <tr style=\"text-align: right;\">\n",
        "      <th></th>\n",
        "      <th>fips</th>\n",
        "      <th>geog_entity</th>\n",
        "    </tr>\n",
        "  </thead>\n",
        "  <tbody>\n",
        "    <tr>\n",
        "      <th>1  </th>\n",
        "      <td> 01000</td>\n",
        "      <td>    ALABAMA</td>\n",
        "    </tr>\n",
        "    <tr>\n",
        "      <th>69 </th>\n",
        "      <td> 02000</td>\n",
        "      <td>     ALASKA</td>\n",
        "    </tr>\n",
        "    <tr>\n",
        "      <th>99 </th>\n",
        "      <td> 04000</td>\n",
        "      <td>    ARIZONA</td>\n",
        "    </tr>\n",
        "    <tr>\n",
        "      <th>115</th>\n",
        "      <td> 05000</td>\n",
        "      <td>   ARKANSAS</td>\n",
        "    </tr>\n",
        "    <tr>\n",
        "      <th>191</th>\n",
        "      <td> 06000</td>\n",
        "      <td> CALIFORNIA</td>\n",
        "    </tr>\n",
        "  </tbody>\n",
        "</table>\n",
        "</div>"
       ],
       "output_type": "pyout",
       "prompt_number": 106,
       "text": [
        "      fips geog_entity\n",
        "1    01000     ALABAMA\n",
        "69   02000      ALASKA\n",
        "99   04000     ARIZONA\n",
        "115  05000    ARKANSAS\n",
        "191  06000  CALIFORNIA"
       ]
      }
     ],
     "prompt_number": 106
    },
    {
     "cell_type": "heading",
     "level": 3,
     "metadata": {},
     "source": [
      "Check whether is_state and states_df look correct"
     ]
    },
    {
     "cell_type": "code",
     "collapsed": false,
     "input": [
      "assert set(is_state.value_counts().iteritems()) == set([(True, 51), (False, 3144)])"
     ],
     "language": "python",
     "metadata": {},
     "outputs": [],
     "prompt_number": 107
    },
    {
     "cell_type": "code",
     "collapsed": false,
     "input": [
      "assert set(states_df[\"geog_entity\"]) == set([u'VERMONT',\n",
      "     u'GEORGIA', u'IOWA', u'KANSAS', u'FLORIDA', u'VIRGINIA', u'NORTH CAROLINA',\n",
      "     u'HAWAII', u'NEW YORK', u'CALIFORNIA', u'ALABAMA', u'IDAHO', u'DELAWARE',\n",
      "     u'ALASKA', u'ILLINOIS', u'SOUTH DAKOTA', u'CONNECTICUT', u'MONTANA',\n",
      "     u'MASSACHUSETTS', u'NEW HAMPSHIRE', u'MARYLAND', u'NEW MEXICO',\n",
      "     u'MISSISSIPPI', u'TENNESSEE', u'COLORADO', u'NEW JERSEY', u'UTAH',\n",
      "     u'MICHIGAN', u'WEST VIRGINIA', u'WASHINGTON', u'MINNESOTA', u'OREGON',\n",
      "     u'WYOMING', u'OHIO', u'SOUTH CAROLINA', u'INDIANA', u'NEVADA',\n",
      "     u'LOUISIANA', u'NEBRASKA', u'ARIZONA', u'WISCONSIN', u'NORTH DAKOTA',\n",
      "     u'PENNSYLVANIA', u'OKLAHOMA', u'KENTUCKY', u'RHODE ISLAND', u'DISTRICT OF COLUMBIA',\n",
      "     u'ARKANSAS', u'MISSOURI', u'TEXAS', u'MAINE'])"
     ],
     "language": "python",
     "metadata": {},
     "outputs": [],
     "prompt_number": 108
    },
    {
     "cell_type": "code",
     "collapsed": false,
     "input": [
      "assert set(is_county.value_counts().iteritems()) == set([(False, 52), (True, 3143)])"
     ],
     "language": "python",
     "metadata": {},
     "outputs": [],
     "prompt_number": 109
    },
    {
     "cell_type": "heading",
     "level": 2,
     "metadata": {},
     "source": [
      "Now it's time to work with the population dataset"
     ]
    },
    {
     "cell_type": "heading",
     "level": 3,
     "metadata": {},
     "source": [
      "remind ourselves of what's in the dataset by reading it into a dict"
     ]
    },
    {
     "cell_type": "code",
     "collapsed": false,
     "input": [
      "import csv\n",
      "import codecs\n",
      "import pandas as pd\n",
      "from pandas import DataFrame, Series\n",
      "from itertools import islice\n",
      "\n",
      "f = codecs.open(file_path(\"dataset\"), encoding='iso-8859-1')\n",
      "\n",
      "reader = csv.DictReader(f)\n",
      "dataset = dict([(row[\"fips\"], row) for row in islice(reader, None)])\n",
      "\n",
      "f.close()"
     ],
     "language": "python",
     "metadata": {},
     "outputs": [],
     "prompt_number": 110
    },
    {
     "cell_type": "code",
     "collapsed": false,
     "input": [
      "# print out entry for USA\n",
      "\n",
      "print dataset['00000']"
     ],
     "language": "python",
     "metadata": {},
     "outputs": [
      {
       "output_type": "stream",
       "stream": "stdout",
       "text": [
        "{'RHI125211': '78.1', 'SBO415207': '8.3', 'VET605211': '22215303', 'RHI225211': '13.1', 'PVY020211': '14.3', 'HSD310211': '2.60', 'POP645211': '12.8', 'AGE135211': '6.5', 'EDU685211': '28.2', 'RHI625211': '2.3', 'SBO215207': '5.7', 'PST045212': '313914040', 'SBO015207': '28.8', 'POP715211': '84.6', 'PST120211': '0.9', 'PST120212': '1.7', 'POP010210': '308745538', 'PST045211': '311587816', 'SBO315207': '7.1', 'POP060210': '87.4', 'RHI425211': '5.0', 'POP815211': '20.3', 'HSD410211': '114761359', 'HSG495211': '186200', 'BZA010210': '7396628', 'LFE305211': '25.4', 'BZA110210': '111970095', 'AGE775211': '13.3', 'HSG096211': '25.9', 'RHI525211': '0.2', 'LND110210': '3531905.43', 'PST040210': '308747508', 'RHI825211': '63.4', 'BZA115210': '-1.8', 'NES010210': '22110628', 'fips': '00000', 'MAN450207': '5338306501', 'EDU635211': '85.4', 'RTN131207': '12990', 'RHI725211': '16.7', 'BPS030211': '624061', 'INC110211': '52762', 'AGE295211': '23.7', 'SBO115207': '0.9', 'INC910211': '27915', 'RHI325211': '1.2', 'WTN220207': '4174286516', 'HSG445211': '66.1', 'SBO515207': '0.1', 'AFN120207': '613795732', 'RTN130207': '3917663456', 'HSG010211': '132312404', 'SEX255211': '50.8', 'SBO001207': '27092908'}\n"
       ]
      }
     ],
     "prompt_number": 111
    },
    {
     "cell_type": "code",
     "collapsed": false,
     "input": [
      "# make sure we have the right 2010 census population for the USA\n",
      "\n",
      "assert dataset['00000']['POP010210'] == '308745538'"
     ],
     "language": "python",
     "metadata": {},
     "outputs": [],
     "prompt_number": 112
    },
    {
     "cell_type": "heading",
     "level": 3,
     "metadata": {},
     "source": [
      "let's use pd.read_csv to read in file -- there's a bit of tricky type conversion issues here."
     ]
    },
    {
     "cell_type": "code",
     "collapsed": false,
     "input": [
      "# let's try pd.read_csv \n",
      "# how to give hints about data type to pd.read_csv?\n",
      "\n",
      "import codecs\n",
      "\n",
      "# read data in and merge with fips_df\n",
      "\n",
      "#dtype = [('fips', 'S'), ('POP010210', 'i')]\n",
      "# problems with string conversion when I try to explicitly parse fips as a np.string_\n",
      "# dtype = {'fips':np.string_}\n",
      "# possibly relevant sections of the code:\n",
      "\n",
      "# v0.10.1: https://github.com/pydata/pandas/tree/v0.10.1\n",
      "# https://github.com/pydata/pandas/blob/v0.10.1/pandas/io/parsers.py\n",
      "# https://github.com/pydata/pandas/blob/v0.10.1/pandas/src/parser.pyx#L897 -> _convert_with_dtype\n",
      "\n",
      "# let's try object for fips and int for POP010210\n",
      "dtype = {'fips':np.object, 'POP010210':np.int}\n",
      "\n",
      "f = codecs.open(file_path(\"dataset\"), encoding='iso-8859-1')\n",
      "dataset_df = pd.read_csv(f, dtype=dtype)"
     ],
     "language": "python",
     "metadata": {},
     "outputs": [],
     "prompt_number": 113
    },
    {
     "cell_type": "code",
     "collapsed": false,
     "input": [
      "# confirm data types for fips, which should not be convered to int\n",
      "dataset_df.fips.dtype, dataset_df.POP010210.dtype"
     ],
     "language": "python",
     "metadata": {},
     "outputs": [
      {
       "output_type": "pyout",
       "prompt_number": 114,
       "text": [
        "(dtype('object'), dtype('int64'))"
       ]
      }
     ],
     "prompt_number": 114
    },
    {
     "cell_type": "code",
     "collapsed": false,
     "input": [
      "# read off US population\n",
      "dataset_df[is_country].ix[0]['POP010210']"
     ],
     "language": "python",
     "metadata": {},
     "outputs": [
      {
       "output_type": "pyout",
       "prompt_number": 115,
       "text": [
        "308745538"
       ]
      }
     ],
     "prompt_number": 115
    },
    {
     "cell_type": "code",
     "collapsed": false,
     "input": [
      "# 3 most populous entities \n",
      "# http://pandas.pydata.org/pandas-docs/dev/generated/pandas.DataFrame.sort_index.html\n",
      "dataset_df.sort_index(by='POP010210')[-1:-4:-1][[\"fips\", \"POP010210\"]]"
     ],
     "language": "python",
     "metadata": {},
     "outputs": [
      {
       "html": [
        "<div style=\"max-height:1000px;max-width:1500px;overflow:auto;\">\n",
        "<table border=\"1\" class=\"dataframe\">\n",
        "  <thead>\n",
        "    <tr style=\"text-align: right;\">\n",
        "      <th></th>\n",
        "      <th>fips</th>\n",
        "      <th>POP010210</th>\n",
        "    </tr>\n",
        "  </thead>\n",
        "  <tbody>\n",
        "    <tr>\n",
        "      <th>0   </th>\n",
        "      <td> 00000</td>\n",
        "      <td> 308745538</td>\n",
        "    </tr>\n",
        "    <tr>\n",
        "      <th>191 </th>\n",
        "      <td> 06000</td>\n",
        "      <td>  37253956</td>\n",
        "    </tr>\n",
        "    <tr>\n",
        "      <th>2567</th>\n",
        "      <td> 48000</td>\n",
        "      <td>  25145561</td>\n",
        "    </tr>\n",
        "  </tbody>\n",
        "</table>\n",
        "</div>"
       ],
       "output_type": "pyout",
       "prompt_number": 116,
       "text": [
        "       fips  POP010210\n",
        "0     00000  308745538\n",
        "191   06000   37253956\n",
        "2567  48000   25145561"
       ]
      }
     ],
     "prompt_number": 116
    },
    {
     "cell_type": "heading",
     "level": 2,
     "metadata": {},
     "source": [
      "Merge fips w/ dataset"
     ]
    },
    {
     "cell_type": "code",
     "collapsed": false,
     "input": [
      "# before doing merge,list expected columns\n",
      "\n",
      "'fips' in fips_df.columns, 'fips' in dataset_df.columns"
     ],
     "language": "python",
     "metadata": {},
     "outputs": [
      {
       "output_type": "pyout",
       "prompt_number": 117,
       "text": [
        "(True, True)"
       ]
      }
     ],
     "prompt_number": 117
    },
    {
     "cell_type": "code",
     "collapsed": false,
     "input": [
      "# PfDA, p. 28\n",
      "df = pd.merge(fips_df, dataset_df)"
     ],
     "language": "python",
     "metadata": {},
     "outputs": [],
     "prompt_number": 118
    },
    {
     "cell_type": "code",
     "collapsed": false,
     "input": [
      "df.sort_index(by='POP010210')[-1:-5:-1][[\"fips\", \"geog_entity\", \"POP010210\"]]"
     ],
     "language": "python",
     "metadata": {},
     "outputs": [
      {
       "html": [
        "<div style=\"max-height:1000px;max-width:1500px;overflow:auto;\">\n",
        "<table border=\"1\" class=\"dataframe\">\n",
        "  <thead>\n",
        "    <tr style=\"text-align: right;\">\n",
        "      <th></th>\n",
        "      <th>fips</th>\n",
        "      <th>geog_entity</th>\n",
        "      <th>POP010210</th>\n",
        "    </tr>\n",
        "  </thead>\n",
        "  <tbody>\n",
        "    <tr>\n",
        "      <th>0   </th>\n",
        "      <td> 00000</td>\n",
        "      <td> UNITED STATES</td>\n",
        "      <td> 308745538</td>\n",
        "    </tr>\n",
        "    <tr>\n",
        "      <th>191 </th>\n",
        "      <td> 06000</td>\n",
        "      <td>    CALIFORNIA</td>\n",
        "      <td>  37253956</td>\n",
        "    </tr>\n",
        "    <tr>\n",
        "      <th>2567</th>\n",
        "      <td> 48000</td>\n",
        "      <td>         TEXAS</td>\n",
        "      <td>  25145561</td>\n",
        "    </tr>\n",
        "    <tr>\n",
        "      <th>1861</th>\n",
        "      <td> 36000</td>\n",
        "      <td>      NEW YORK</td>\n",
        "      <td>  19378102</td>\n",
        "    </tr>\n",
        "  </tbody>\n",
        "</table>\n",
        "</div>"
       ],
       "output_type": "pyout",
       "prompt_number": 119,
       "text": [
        "       fips    geog_entity  POP010210\n",
        "0     00000  UNITED STATES  308745538\n",
        "191   06000     CALIFORNIA   37253956\n",
        "2567  48000          TEXAS   25145561\n",
        "1861  36000       NEW YORK   19378102"
       ]
      }
     ],
     "prompt_number": 119
    },
    {
     "cell_type": "heading",
     "level": 3,
     "metadata": {},
     "source": [
      "Exercise: make a DataFrame called state_pop of 51 state-like entities that has fips, geog_entity, POP010210 columns, sorted by 2010 census in descending pop"
     ]
    },
    {
     "cell_type": "code",
     "collapsed": false,
     "input": [
      "state_pop = df[is_state][[\"fips\", \"geog_entity\", \"POP010210\"]].sort_index(by='POP010210')[::-1]\n",
      "state_pop[:5]"
     ],
     "language": "python",
     "metadata": {},
     "outputs": [
      {
       "html": [
        "<div style=\"max-height:1000px;max-width:1500px;overflow:auto;\">\n",
        "<table border=\"1\" class=\"dataframe\">\n",
        "  <thead>\n",
        "    <tr style=\"text-align: right;\">\n",
        "      <th></th>\n",
        "      <th>fips</th>\n",
        "      <th>geog_entity</th>\n",
        "      <th>POP010210</th>\n",
        "    </tr>\n",
        "  </thead>\n",
        "  <tbody>\n",
        "    <tr>\n",
        "      <th>191 </th>\n",
        "      <td> 06000</td>\n",
        "      <td> CALIFORNIA</td>\n",
        "      <td> 37253956</td>\n",
        "    </tr>\n",
        "    <tr>\n",
        "      <th>2567</th>\n",
        "      <td> 48000</td>\n",
        "      <td>      TEXAS</td>\n",
        "      <td> 25145561</td>\n",
        "    </tr>\n",
        "    <tr>\n",
        "      <th>1861</th>\n",
        "      <td> 36000</td>\n",
        "      <td>   NEW YORK</td>\n",
        "      <td> 19378102</td>\n",
        "    </tr>\n",
        "    <tr>\n",
        "      <th>330 </th>\n",
        "      <td> 12000</td>\n",
        "      <td>    FLORIDA</td>\n",
        "      <td> 18801310</td>\n",
        "    </tr>\n",
        "    <tr>\n",
        "      <th>609 </th>\n",
        "      <td> 17000</td>\n",
        "      <td>   ILLINOIS</td>\n",
        "      <td> 12830632</td>\n",
        "    </tr>\n",
        "  </tbody>\n",
        "</table>\n",
        "</div>"
       ],
       "output_type": "pyout",
       "prompt_number": 120,
       "text": [
        "       fips geog_entity  POP010210\n",
        "191   06000  CALIFORNIA   37253956\n",
        "2567  48000       TEXAS   25145561\n",
        "1861  36000    NEW YORK   19378102\n",
        "330   12000     FLORIDA   18801310\n",
        "609   17000    ILLINOIS   12830632"
       ]
      }
     ],
     "prompt_number": 120
    },
    {
     "cell_type": "code",
     "collapsed": false,
     "input": [
      "# check state_pop behavior\n",
      "\n",
      "assert state_pop.shape  == (51, 3)\n",
      "assert set(state_pop.columns) == set(['POP010210', 'fips', 'geog_entity'])\n",
      "assert list(state_pop[:5][\"geog_entity\"]) == [u'CALIFORNIA', u'TEXAS', u'NEW YORK', u'FLORIDA', u'ILLINOIS']\n",
      "assert state_pop[:5][\"POP010210\"].sum() == 113409561"
     ],
     "language": "python",
     "metadata": {},
     "outputs": [],
     "prompt_number": 121
    },
    {
     "cell_type": "code",
     "collapsed": false,
     "input": [
      "# add up all the states to match US population\n",
      "\n",
      "assert state_pop[\"POP010210\"].sum() == df[is_country][\"POP010210\"].sum()"
     ],
     "language": "python",
     "metadata": {},
     "outputs": [],
     "prompt_number": 122
    },
    {
     "cell_type": "code",
     "collapsed": false,
     "input": [
      "sum(df[is_country]['POP010210']), sum(df[is_state]['POP010210']), sum(df[is_county]['POP010210'])\n"
     ],
     "language": "python",
     "metadata": {},
     "outputs": [
      {
       "output_type": "pyout",
       "prompt_number": 123,
       "text": [
        "(308745538, 308745538, 308745538)"
       ]
      }
     ],
     "prompt_number": 123
    },
    {
     "cell_type": "heading",
     "level": 2,
     "metadata": {},
     "source": [
      "Exercise:  write function counties_for_state to return a Boolean index for a fiven state prefix or fips code"
     ]
    },
    {
     "cell_type": "markdown",
     "metadata": {},
     "source": [
      "e.g \n",
      "\n",
      "    df[counties_for_state('06')]\n",
      "\n",
      "should be a DataFrame with CA counties"
     ]
    },
    {
     "cell_type": "code",
     "collapsed": false,
     "input": [
      "def counties_for_state(state):\n",
      "    return (df.fips.str[:2] == state[:2]) & (df.fips.str[-3:] != '000') "
     ],
     "language": "python",
     "metadata": {},
     "outputs": [],
     "prompt_number": 124
    },
    {
     "cell_type": "code",
     "collapsed": false,
     "input": [
      "assert set(df[counties_for_state('06')][\"geog_entity\"]) == set([u'Nevada County, CA',\n",
      "     u'Alameda County, CA', u'Kings County, CA', u'Ventura County, CA',\n",
      "     u'El Dorado County, CA', u'San Joaquin County, CA', u'Alpine County, CA',\n",
      "     u'San Luis Obispo County, CA', u'Modoc County, CA', u'Colusa County, CA',\n",
      "     u'Stanislaus County, CA', u'Sonoma County, CA', u'Tulare County, CA',\n",
      "     u'Shasta County, CA', u'Yolo County, CA', u'Placer County, CA', u'Glenn County, CA',\n",
      "     u'Sacramento County, CA', u'San Francisco County, CA',\n",
      "     u'Madera County, CA', u'Imperial County, CA', u'Plumas County, CA',\n",
      "     u'San Mateo County, CA', u'Riverside County, CA', u'Calaveras County, CA',\n",
      "     u'Napa County, CA', u'Mendocino County, CA', u'Mariposa County, CA',\n",
      "     u'Santa Barbara County, CA', u'Inyo County, CA', u'Butte County, CA',\n",
      "     u'Trinity County, CA', u'Los Angeles County, CA', u'Lassen County, CA',\n",
      "     u'Yuba County, CA', u'Amador County, CA', u'Marin County, CA', u'Humboldt County, CA', \n",
      "     u'Merced County, CA', u'Lake County, CA', u'San Diego County, CA',\n",
      "     u'Monterey County, CA', u'Sutter County, CA', u'Solano County, CA',\n",
      "     u'Tuolumne County, CA', u'San Bernardino County, CA', u'Fresno County, CA',\n",
      "     u'Santa Cruz County, CA', u'San Benito County, CA', u'Contra Costa County, CA', \n",
      "     u'Orange County, CA', u'Del Norte County, CA', u'Mono County, CA',\n",
      "     u'Siskiyou County, CA', u'Kern County, CA', u'Sierra County, CA', u'Tehama County, CA',\n",
      "     u'Santa Clara County, CA'])"
     ],
     "language": "python",
     "metadata": {},
     "outputs": [],
     "prompt_number": 125
    },
    {
     "cell_type": "heading",
     "level": 1,
     "metadata": {},
     "source": [
      "Now we are ready to tally up all states w/ their counties"
     ]
    },
    {
     "cell_type": "code",
     "collapsed": false,
     "input": [
      "for (k, s) in df[is_state][['fips', 'geog_entity', 'POP010210']].iterrows():\n",
      "    print s[\"fips\"], s[\"geog_entity\"], s[\"POP010210\"] == df[counties_for_state(s[\"fips\"])]['POP010210'].sum()"
     ],
     "language": "python",
     "metadata": {},
     "outputs": [
      {
       "output_type": "stream",
       "stream": "stdout",
       "text": [
        "01000 ALABAMA True\n",
        "02000 ALASKA "
       ]
      },
      {
       "output_type": "stream",
       "stream": "stdout",
       "text": [
        "True\n",
        "04000 ARIZONA True\n",
        "05000 ARKANSAS "
       ]
      },
      {
       "output_type": "stream",
       "stream": "stdout",
       "text": [
        "True\n",
        "06000 CALIFORNIA True\n",
        "08000 COLORADO "
       ]
      },
      {
       "output_type": "stream",
       "stream": "stdout",
       "text": [
        "True\n",
        "09000 CONNECTICUT True\n",
        "10000 DELAWARE "
       ]
      },
      {
       "output_type": "stream",
       "stream": "stdout",
       "text": [
        "True\n",
        "11000 DISTRICT OF COLUMBIA True\n",
        "12000 FLORIDA "
       ]
      },
      {
       "output_type": "stream",
       "stream": "stdout",
       "text": [
        "True\n",
        "13000 GEORGIA True\n",
        "15000 HAWAII "
       ]
      },
      {
       "output_type": "stream",
       "stream": "stdout",
       "text": [
        "True\n",
        "16000 IDAHO True\n",
        "17000 ILLINOIS "
       ]
      },
      {
       "output_type": "stream",
       "stream": "stdout",
       "text": [
        "True\n",
        "18000 INDIANA True\n",
        "19000 IOWA "
       ]
      },
      {
       "output_type": "stream",
       "stream": "stdout",
       "text": [
        "True\n",
        "20000 KANSAS True\n",
        "21000 KENTUCKY "
       ]
      },
      {
       "output_type": "stream",
       "stream": "stdout",
       "text": [
        "True\n",
        "22000 LOUISIANA True\n",
        "23000 MAINE "
       ]
      },
      {
       "output_type": "stream",
       "stream": "stdout",
       "text": [
        "True\n",
        "24000 MARYLAND True\n",
        "25000 MASSACHUSETTS "
       ]
      },
      {
       "output_type": "stream",
       "stream": "stdout",
       "text": [
        "True\n",
        "26000 MICHIGAN True\n",
        "27000 MINNESOTA "
       ]
      },
      {
       "output_type": "stream",
       "stream": "stdout",
       "text": [
        "True\n",
        "28000 MISSISSIPPI True\n",
        "29000 MISSOURI "
       ]
      },
      {
       "output_type": "stream",
       "stream": "stdout",
       "text": [
        "True\n",
        "30000 MONTANA True\n",
        "31000 NEBRASKA "
       ]
      },
      {
       "output_type": "stream",
       "stream": "stdout",
       "text": [
        "True\n",
        "32000 NEVADA True\n",
        "33000 NEW HAMPSHIRE "
       ]
      },
      {
       "output_type": "stream",
       "stream": "stdout",
       "text": [
        "True\n",
        "34000 NEW JERSEY True\n",
        "35000 NEW MEXICO "
       ]
      },
      {
       "output_type": "stream",
       "stream": "stdout",
       "text": [
        "True\n",
        "36000 NEW YORK True\n",
        "37000 NORTH CAROLINA "
       ]
      },
      {
       "output_type": "stream",
       "stream": "stdout",
       "text": [
        "True\n",
        "38000 NORTH DAKOTA True\n",
        "39000 OHIO "
       ]
      },
      {
       "output_type": "stream",
       "stream": "stdout",
       "text": [
        "True\n",
        "40000 OKLAHOMA True\n",
        "41000 OREGON "
       ]
      },
      {
       "output_type": "stream",
       "stream": "stdout",
       "text": [
        "True\n",
        "42000 PENNSYLVANIA True\n",
        "44000 RHODE ISLAND "
       ]
      },
      {
       "output_type": "stream",
       "stream": "stdout",
       "text": [
        "True\n",
        "45000 SOUTH CAROLINA True\n",
        "46000 SOUTH DAKOTA "
       ]
      },
      {
       "output_type": "stream",
       "stream": "stdout",
       "text": [
        "True\n",
        "47000 TENNESSEE True\n",
        "48000 TEXAS "
       ]
      },
      {
       "output_type": "stream",
       "stream": "stdout",
       "text": [
        "True\n",
        "49000 UTAH True\n",
        "50000 VERMONT "
       ]
      },
      {
       "output_type": "stream",
       "stream": "stdout",
       "text": [
        "True\n",
        "51000 VIRGINIA True\n",
        "53000 WASHINGTON "
       ]
      },
      {
       "output_type": "stream",
       "stream": "stdout",
       "text": [
        "True\n",
        "54000 WEST VIRGINIA True\n",
        "55000 WISCONSIN "
       ]
      },
      {
       "output_type": "stream",
       "stream": "stdout",
       "text": [
        "True\n",
        "56000 WYOMING True\n"
       ]
      }
     ],
     "prompt_number": 126
    },
    {
     "cell_type": "heading",
     "level": 2,
     "metadata": {},
     "source": [
      "Do this tally in a slightly different way"
     ]
    },
    {
     "cell_type": "code",
     "collapsed": false,
     "input": [
      "# http://pandas.pydata.org/pandas-docs/stable/generated/pandas.DataFrame.set_index.html#pandas.DataFrame.set_index\n",
      "# p. 150\n",
      "df.set_index('fips', inplace=True, drop=False)"
     ],
     "language": "python",
     "metadata": {},
     "outputs": [
      {
       "output_type": "pyout",
       "prompt_number": 127,
       "text": [
        "<class 'pandas.core.frame.DataFrame'>\n",
        "Index: 3195 entries, 00000 to 56045\n",
        "Data columns:\n",
        "fips           3195  non-null values\n",
        "geog_entity    3195  non-null values\n",
        "PST045212      3195  non-null values\n",
        "PST045211      3195  non-null values\n",
        "PST040210      3195  non-null values\n",
        "PST120212      3195  non-null values\n",
        "PST120211      3195  non-null values\n",
        "POP010210      3195  non-null values\n",
        "AGE135211      3195  non-null values\n",
        "AGE295211      3195  non-null values\n",
        "AGE775211      3195  non-null values\n",
        "SEX255211      3195  non-null values\n",
        "RHI125211      3195  non-null values\n",
        "RHI225211      3195  non-null values\n",
        "RHI325211      3195  non-null values\n",
        "RHI425211      3195  non-null values\n",
        "RHI525211      3195  non-null values\n",
        "RHI625211      3195  non-null values\n",
        "RHI725211      3195  non-null values\n",
        "RHI825211      3195  non-null values\n",
        "POP715211      3195  non-null values\n",
        "POP645211      3195  non-null values\n",
        "POP815211      3195  non-null values\n",
        "EDU635211      3195  non-null values\n",
        "EDU685211      3195  non-null values\n",
        "VET605211      3195  non-null values\n",
        "LFE305211      3195  non-null values\n",
        "HSG010211      3195  non-null values\n",
        "HSG445211      3195  non-null values\n",
        "HSG096211      3195  non-null values\n",
        "HSG495211      3195  non-null values\n",
        "HSD410211      3195  non-null values\n",
        "HSD310211      3195  non-null values\n",
        "INC910211      3195  non-null values\n",
        "INC110211      3195  non-null values\n",
        "PVY020211      3195  non-null values\n",
        "BZA010210      3195  non-null values\n",
        "BZA110210      3195  non-null values\n",
        "BZA115210      3195  non-null values\n",
        "NES010210      3195  non-null values\n",
        "SBO001207      3195  non-null values\n",
        "SBO315207      3195  non-null values\n",
        "SBO115207      3195  non-null values\n",
        "SBO215207      3195  non-null values\n",
        "SBO515207      3195  non-null values\n",
        "SBO415207      3195  non-null values\n",
        "SBO015207      3195  non-null values\n",
        "MAN450207      3195  non-null values\n",
        "WTN220207      3195  non-null values\n",
        "RTN130207      3195  non-null values\n",
        "RTN131207      3195  non-null values\n",
        "AFN120207      3195  non-null values\n",
        "BPS030211      3195  non-null values\n",
        "LND110210      3195  non-null values\n",
        "POP060210      3195  non-null values\n",
        "dtypes: float64(33), int64(20), object(2)"
       ]
      }
     ],
     "prompt_number": 127
    },
    {
     "cell_type": "code",
     "collapsed": false,
     "input": [
      "for k in df[is_state]['fips']:\n",
      "    print k, df.ix[k][\"geog_entity\"], df.ix[k][\"POP010210\"] == sum(df[counties_for_state(k)]['POP010210'])"
     ],
     "language": "python",
     "metadata": {},
     "outputs": [
      {
       "output_type": "stream",
       "stream": "stdout",
       "text": [
        "01000 ALABAMA True\n",
        "02000 ALASKA "
       ]
      },
      {
       "output_type": "stream",
       "stream": "stdout",
       "text": [
        "True\n",
        "04000 ARIZONA True\n",
        "05000 ARKANSAS "
       ]
      },
      {
       "output_type": "stream",
       "stream": "stdout",
       "text": [
        "True\n",
        "06000 CALIFORNIA True\n",
        "08000 COLORADO "
       ]
      },
      {
       "output_type": "stream",
       "stream": "stdout",
       "text": [
        "True\n",
        "09000 CONNECTICUT True\n",
        "10000 DELAWARE "
       ]
      },
      {
       "output_type": "stream",
       "stream": "stdout",
       "text": [
        "True\n",
        "11000 DISTRICT OF COLUMBIA True\n",
        "12000 FLORIDA "
       ]
      },
      {
       "output_type": "stream",
       "stream": "stdout",
       "text": [
        "True\n",
        "13000 GEORGIA True\n",
        "15000 HAWAII "
       ]
      },
      {
       "output_type": "stream",
       "stream": "stdout",
       "text": [
        "True\n",
        "16000 IDAHO True\n",
        "17000 ILLINOIS "
       ]
      },
      {
       "output_type": "stream",
       "stream": "stdout",
       "text": [
        "True\n",
        "18000 INDIANA True\n",
        "19000 IOWA "
       ]
      },
      {
       "output_type": "stream",
       "stream": "stdout",
       "text": [
        "True\n",
        "20000 KANSAS True\n",
        "21000 KENTUCKY "
       ]
      },
      {
       "output_type": "stream",
       "stream": "stdout",
       "text": [
        "True\n",
        "22000 LOUISIANA True\n",
        "23000 MAINE "
       ]
      },
      {
       "output_type": "stream",
       "stream": "stdout",
       "text": [
        "True\n",
        "24000 MARYLAND True\n",
        "25000 MASSACHUSETTS "
       ]
      },
      {
       "output_type": "stream",
       "stream": "stdout",
       "text": [
        "True\n",
        "26000 MICHIGAN True\n",
        "27000 MINNESOTA "
       ]
      },
      {
       "output_type": "stream",
       "stream": "stdout",
       "text": [
        "True\n",
        "28000 MISSISSIPPI True\n",
        "29000 MISSOURI "
       ]
      },
      {
       "output_type": "stream",
       "stream": "stdout",
       "text": [
        "True\n",
        "30000 MONTANA True\n",
        "31000 NEBRASKA "
       ]
      },
      {
       "output_type": "stream",
       "stream": "stdout",
       "text": [
        "True\n",
        "32000 NEVADA True\n",
        "33000 NEW HAMPSHIRE "
       ]
      },
      {
       "output_type": "stream",
       "stream": "stdout",
       "text": [
        "True\n",
        "34000 NEW JERSEY True\n",
        "35000 NEW MEXICO "
       ]
      },
      {
       "output_type": "stream",
       "stream": "stdout",
       "text": [
        "True\n",
        "36000 NEW YORK True\n",
        "37000 NORTH CAROLINA "
       ]
      },
      {
       "output_type": "stream",
       "stream": "stdout",
       "text": [
        "True\n",
        "38000 NORTH DAKOTA True\n",
        "39000 OHIO "
       ]
      },
      {
       "output_type": "stream",
       "stream": "stdout",
       "text": [
        "True\n",
        "40000 OKLAHOMA True\n",
        "41000 OREGON "
       ]
      },
      {
       "output_type": "stream",
       "stream": "stdout",
       "text": [
        "True\n",
        "42000 PENNSYLVANIA True\n",
        "44000 RHODE ISLAND "
       ]
      },
      {
       "output_type": "stream",
       "stream": "stdout",
       "text": [
        "True\n",
        "45000 SOUTH CAROLINA True\n",
        "46000 SOUTH DAKOTA True\n",
        "47000 "
       ]
      },
      {
       "output_type": "stream",
       "stream": "stdout",
       "text": [
        "TENNESSEE True\n",
        "48000 TEXAS True\n",
        "49000 UTAH "
       ]
      },
      {
       "output_type": "stream",
       "stream": "stdout",
       "text": [
        "True\n",
        "50000 VERMONT True\n",
        "51000 VIRGINIA "
       ]
      },
      {
       "output_type": "stream",
       "stream": "stdout",
       "text": [
        "True\n",
        "53000 WASHINGTON True\n",
        "54000 WEST VIRGINIA "
       ]
      },
      {
       "output_type": "stream",
       "stream": "stdout",
       "text": [
        "True\n",
        "55000 WISCONSIN True\n",
        "56000 WYOMING "
       ]
      },
      {
       "output_type": "stream",
       "stream": "stdout",
       "text": [
        "True\n"
       ]
      }
     ],
     "prompt_number": 128
    },
    {
     "cell_type": "code",
     "collapsed": false,
     "input": [
      "# does order of A== B vs B== A matter -- shouldn't\n",
      "\n",
      "state = '06000'\n",
      "k0 = df.fips.str[:2] == state[:2]\n",
      "type(k0)\n",
      "k1 = state[:2] == df.fips.str[:2]\n",
      "print type(k0), type(k1)\n",
      "print k0.value_counts()\n",
      "print k1.value_counts()\n",
      "print np.all(k0 == k1)"
     ],
     "language": "python",
     "metadata": {},
     "outputs": [
      {
       "output_type": "stream",
       "stream": "stdout",
       "text": [
        "<class 'pandas.core.series.Series'> <class 'pandas.core.series.Series'>\n",
        "False    3136\n",
        "True       59\n",
        "False    3136\n",
        "True       59\n",
        "True\n"
       ]
      }
     ],
     "prompt_number": 129
    },
    {
     "cell_type": "heading",
     "level": 1,
     "metadata": {},
     "source": [
      "Addendum: ties to operator overloading in Python -- read beyond this point only if really interested!"
     ]
    },
    {
     "cell_type": "code",
     "collapsed": false,
     "input": [
      "n0 = 5\n",
      "n0 == 5"
     ],
     "language": "python",
     "metadata": {},
     "outputs": [
      {
       "output_type": "pyout",
       "prompt_number": 130,
       "text": [
        "True"
       ]
      }
     ],
     "prompt_number": 130
    },
    {
     "cell_type": "markdown",
     "metadata": {},
     "source": [
      "Now I thought I'd be able to use a `n0.__eq__(5)` but nope -- it's complicated -- see http://stackoverflow.com/questions/2281222/why-when-in-python-does-x-y-call-y-eq-x#comment2254663_2282795"
     ]
    },
    {
     "cell_type": "code",
     "collapsed": false,
     "input": [
      "try:\n",
      "    n0.__eq__(5)\n",
      "except Exception as e:\n",
      "    print e"
     ],
     "language": "python",
     "metadata": {},
     "outputs": [
      {
       "output_type": "stream",
       "stream": "stdout",
       "text": [
        "'int' object has no attribute '__eq__'\n"
       ]
      }
     ],
     "prompt_number": 131
    },
    {
     "cell_type": "markdown",
     "metadata": {},
     "source": [
      "can do: `int.__cmp__(x)`"
     ]
    },
    {
     "cell_type": "code",
     "collapsed": false,
     "input": [
      "(n0.__cmp__(4), n0.__cmp__(5), n0.__cmp__(6))"
     ],
     "language": "python",
     "metadata": {},
     "outputs": [
      {
       "output_type": "pyout",
       "prompt_number": 132,
       "text": [
        "(1, 0, -1)"
       ]
      }
     ],
     "prompt_number": 132
    },
    {
     "cell_type": "markdown",
     "metadata": {},
     "source": [
      "how about ndarray?"
     ]
    },
    {
     "cell_type": "code",
     "collapsed": false,
     "input": [
      "arange(5) == 2 "
     ],
     "language": "python",
     "metadata": {},
     "outputs": [
      {
       "output_type": "pyout",
       "prompt_number": 133,
       "text": [
        "array([False, False,  True, False, False], dtype=bool)"
       ]
      }
     ],
     "prompt_number": 133
    },
    {
     "cell_type": "code",
     "collapsed": false,
     "input": [
      "# \n",
      "# http://docs.scipy.org/doc/numpy/reference/generated/numpy.array_equal.html\n",
      "np.array_equal(arange(5) == 2 , arange(5).__eq__(2))"
     ],
     "language": "python",
     "metadata": {},
     "outputs": [
      {
       "output_type": "pyout",
       "prompt_number": 134,
       "text": [
        "True"
       ]
      }
     ],
     "prompt_number": 134
    },
    {
     "cell_type": "heading",
     "level": 2,
     "metadata": {},
     "source": [
      "Appendix: underlying mechanics of slicing"
     ]
    },
    {
     "cell_type": "markdown",
     "metadata": {},
     "source": [
      "Useful if you want to understand how the slicing syntax really works."
     ]
    },
    {
     "cell_type": "code",
     "collapsed": false,
     "input": [
      "isinstance([1,2], list)"
     ],
     "language": "python",
     "metadata": {},
     "outputs": [
      {
       "output_type": "pyout",
       "prompt_number": 135,
       "text": [
        "True"
       ]
      }
     ],
     "prompt_number": 135
    },
    {
     "cell_type": "code",
     "collapsed": false,
     "input": [
      "isinstance(arange(5), list) # what does that mean -- could still be list-like"
     ],
     "language": "python",
     "metadata": {},
     "outputs": [
      {
       "output_type": "pyout",
       "prompt_number": 136,
       "text": [
        "False"
       ]
      }
     ],
     "prompt_number": 136
    },
    {
     "cell_type": "code",
     "collapsed": false,
     "input": [
      "l1 = range(5)"
     ],
     "language": "python",
     "metadata": {},
     "outputs": [],
     "prompt_number": 137
    },
    {
     "cell_type": "code",
     "collapsed": false,
     "input": [
      "type(l1)"
     ],
     "language": "python",
     "metadata": {},
     "outputs": [
      {
       "output_type": "pyout",
       "prompt_number": 138,
       "text": [
        "list"
       ]
      }
     ],
     "prompt_number": 138
    },
    {
     "cell_type": "code",
     "collapsed": false,
     "input": [
      "l1[0], l1.__getitem__(0), l1[0] == l1.__getitem__(0)"
     ],
     "language": "python",
     "metadata": {},
     "outputs": [
      {
       "output_type": "pyout",
       "prompt_number": 139,
       "text": [
        "(0, 0, True)"
       ]
      }
     ],
     "prompt_number": 139
    },
    {
     "cell_type": "code",
     "collapsed": false,
     "input": [
      "l1[::-1], l1.__getitem__(slice(None, None, -1))"
     ],
     "language": "python",
     "metadata": {},
     "outputs": [
      {
       "output_type": "pyout",
       "prompt_number": 140,
       "text": [
        "([4, 3, 2, 1, 0], [4, 3, 2, 1, 0])"
       ]
      }
     ],
     "prompt_number": 140
    },
    {
     "cell_type": "code",
     "collapsed": false,
     "input": [
      "ar1 = arange(5)\n",
      "ar1[3], ar1.__getitem__(3)\n",
      "\n"
     ],
     "language": "python",
     "metadata": {},
     "outputs": [
      {
       "output_type": "pyout",
       "prompt_number": 141,
       "text": [
        "(3, 3)"
       ]
      }
     ],
     "prompt_number": 141
    },
    {
     "cell_type": "code",
     "collapsed": false,
     "input": [
      "ar1 == 2"
     ],
     "language": "python",
     "metadata": {},
     "outputs": [
      {
       "output_type": "pyout",
       "prompt_number": 142,
       "text": [
        "array([False, False,  True, False, False], dtype=bool)"
       ]
      }
     ],
     "prompt_number": 142
    },
    {
     "cell_type": "code",
     "collapsed": false,
     "input": [
      "ar1[ar1 == 2].shape"
     ],
     "language": "python",
     "metadata": {},
     "outputs": [
      {
       "output_type": "pyout",
       "prompt_number": 143,
       "text": [
        "(1,)"
       ]
      }
     ],
     "prompt_number": 143
    },
    {
     "cell_type": "code",
     "collapsed": false,
     "input": [
      "ar1.__eq__(2)"
     ],
     "language": "python",
     "metadata": {},
     "outputs": [
      {
       "output_type": "pyout",
       "prompt_number": 144,
       "text": [
        "array([False, False,  True, False, False], dtype=bool)"
       ]
      }
     ],
     "prompt_number": 144
    },
    {
     "cell_type": "code",
     "collapsed": false,
     "input": [
      "ar1.__getitem__(slice(2, 4, None))"
     ],
     "language": "python",
     "metadata": {},
     "outputs": [
      {
       "output_type": "pyout",
       "prompt_number": 145,
       "text": [
        "array([2, 3])"
       ]
      }
     ],
     "prompt_number": 145
    },
    {
     "cell_type": "code",
     "collapsed": false,
     "input": [
      "slice(ar1.__eq__(2), None, None)"
     ],
     "language": "python",
     "metadata": {},
     "outputs": [
      {
       "output_type": "pyout",
       "prompt_number": 146,
       "text": [
        "slice(array([False, False,  True, False, False], dtype=bool), None, None)"
       ]
      }
     ],
     "prompt_number": 146
    },
    {
     "cell_type": "code",
     "collapsed": false,
     "input": [
      "ar1.__getitem__(ar1.__eq__(2))"
     ],
     "language": "python",
     "metadata": {},
     "outputs": [
      {
       "output_type": "pyout",
       "prompt_number": 147,
       "text": [
        "array([2])"
       ]
      }
     ],
     "prompt_number": 147
    },
    {
     "cell_type": "code",
     "collapsed": false,
     "input": [
      "ar1[:2], ar1.__getitem__(slice(2))"
     ],
     "language": "python",
     "metadata": {},
     "outputs": [
      {
       "output_type": "pyout",
       "prompt_number": 148,
       "text": [
        "(array([0, 1]), array([0, 1]))"
       ]
      }
     ],
     "prompt_number": 148
    },
    {
     "cell_type": "code",
     "collapsed": false,
     "input": [
      "ar1 + 7"
     ],
     "language": "python",
     "metadata": {},
     "outputs": [
      {
       "output_type": "pyout",
       "prompt_number": 149,
       "text": [
        "array([ 7,  8,  9, 10, 11])"
       ]
      }
     ],
     "prompt_number": 149
    },
    {
     "cell_type": "code",
     "collapsed": false,
     "input": [
      "ar1.__add__(7)"
     ],
     "language": "python",
     "metadata": {},
     "outputs": [
      {
       "output_type": "pyout",
       "prompt_number": 150,
       "text": [
        "array([ 7,  8,  9, 10, 11])"
       ]
      }
     ],
     "prompt_number": 150
    },
    {
     "cell_type": "code",
     "collapsed": false,
     "input": [
      "min(ar1 + 7)"
     ],
     "language": "python",
     "metadata": {},
     "outputs": [
      {
       "output_type": "pyout",
       "prompt_number": 151,
       "text": [
        "7"
       ]
      }
     ],
     "prompt_number": 151
    },
    {
     "cell_type": "code",
     "collapsed": false,
     "input": [
      "alphabet[:]"
     ],
     "language": "python",
     "metadata": {},
     "outputs": [
      {
       "output_type": "pyout",
       "prompt_number": 152,
       "text": [
        "'abcdefghijklmnopqrstuvwxyz'"
       ]
      }
     ],
     "prompt_number": 152
    }
   ],
   "metadata": {}
  }
 ]
}