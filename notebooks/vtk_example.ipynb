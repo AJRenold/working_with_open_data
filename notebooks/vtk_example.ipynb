{
 "metadata": {
  "name": "vtk_example"
 },
 "nbformat": 3,
 "nbformat_minor": 0,
 "worksheets": [
  {
   "cells": [
    {
     "cell_type": "code",
     "collapsed": false,
     "input": [
      "# http://www.vtk.org/Wiki/VTK/Examples/Python/Outline\n",
      "\n",
      "import vtk\n",
      " \n",
      "# create a rendering window and renderer\n",
      "ren = vtk.vtkRenderer()\n",
      "renWin = vtk.vtkRenderWindow()\n",
      "renWin.AddRenderer(ren)\n",
      " \n",
      "# create a renderwindowinteractor\n",
      "iren = vtk.vtkRenderWindowInteractor()\n",
      "iren.SetRenderWindow(renWin)\n",
      " \n",
      "# create source\n",
      "source = vtk.vtkConeSource()\n",
      "source.SetCenter(0,0,0)\n",
      "source.SetResolution(100)\n",
      " \n",
      "# mapper\n",
      "mapper = vtk.vtkPolyDataMapper()\n",
      "mapper.SetInputConnection(source.GetOutputPort())\n",
      " \n",
      "# actor\n",
      "actor1 = vtk.vtkActor()\n",
      "actor1.SetMapper(mapper)\n",
      " \n",
      "# outline\n",
      "outline = vtk.vtkOutlineFilter()\n",
      "\n",
      "outline.SetInputConnection(source.GetOutputPort())\n",
      "mapper2 = vtk.vtkPolyDataMapper()\n",
      "mapper2.SetInputConnection(outline.GetOutputPort())\n",
      " \n",
      "actor2 = vtk.vtkActor()\n",
      "actor2.SetMapper(mapper2)\n",
      " \n",
      "# assign actor to the renderer\n",
      "ren.AddActor(actor1)\n",
      "ren.AddActor(actor2)\n",
      " \n",
      "# enable user interface interactor\n",
      "iren.Initialize()\n",
      "renWin.Render()\n",
      "iren.Start()"
     ],
     "language": "python",
     "metadata": {},
     "outputs": [],
     "prompt_number": "*"
    },
    {
     "cell_type": "code",
     "collapsed": false,
     "input": [],
     "language": "python",
     "metadata": {},
     "outputs": []
    }
   ],
   "metadata": {}
  }
 ]
}