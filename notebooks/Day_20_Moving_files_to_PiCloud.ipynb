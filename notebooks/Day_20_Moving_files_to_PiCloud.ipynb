{
 "metadata": {
  "name": "Day_20_Moving_files_to_PiCloud"
 },
 "nbformat": 3,
 "nbformat_minor": 0,
 "worksheets": [
  {
   "cells": [
    {
     "cell_type": "markdown",
     "metadata": {},
     "source": [
      "<style media=\"screen\" type=\"text/css\">\n",
      "    body {color:blue;}\n",
      "</style>\n"
     ]
    },
    {
     "cell_type": "heading",
     "level": 1,
     "metadata": {},
     "source": [
      "Prerequisites"
     ]
    },
    {
     "cell_type": "markdown",
     "metadata": {},
     "source": [
      "Although strictly speaking, you can do all the work directly on PiCloud (where I'm handling the dependencies), you'll likely want to get PiCloud, boto, s3cmd set up locally.  See [Day 19 notes](http://nbviewer.ipython.org/urls/raw.github.com/rdhyee/working-open-data/master/notebooks/Day_19_CC_etc.ipynb) and [Day 16 PiCloud intro](http://nbviewer.ipython.org/urls/raw.github.com/rdhyee/working-open-data/master/notebooks/Day_16_PiCloud_intro.ipynb) for a refresher.  **One big reason for working locally is that you'll get charged for the time you are running a PiCloud notebook server** -- and when you are thinking, it's nice to not have to worry about the time (even if it is $0.05/hour for a running a c1 PiCloud instance.)\n",
      "\n",
      "Also ask for help if you are having problems."
     ]
    },
    {
     "cell_type": "heading",
     "level": 1,
     "metadata": {},
     "source": [
      "Moving notebooks between local storage and PiCloud"
     ]
    },
    {
     "cell_type": "markdown",
     "metadata": {},
     "source": [
      "Listing what's in your PiCloud bucket"
     ]
    },
    {
     "cell_type": "code",
     "collapsed": false,
     "input": [
      "import cloud\n",
      "cloud.bucket.list()"
     ],
     "language": "python",
     "metadata": {},
     "outputs": [
      {
       "output_type": "pyout",
       "prompt_number": 20,
       "text": [
        "[u'notebook/Day_02_class_starter.ipynb',\n",
        " u'notebook/Day_02_completed.ipynb',\n",
        " u'notebook/Day_04_completed.ipynb',\n",
        " u'notebook/Day_04_starter.ipynb',\n",
        " u'notebook/Day_05_plotting.ipynb',\n",
        " u'notebook/Day_07_array_len_and_multiply.ipynb',\n",
        " u'notebook/Day_08_basemap_globe_example.ipynb',\n",
        " u'notebook/Day_08_completed.ipynb',\n",
        " u'notebook/Day_08_freebase_intro.ipynb',\n",
        " u'notebook/Day_08_starter.ipynb',\n",
        " u'notebook/Day_10_A_fixed_width_parsing_completed.ipynb',\n",
        " u'notebook/Day_10_freebase_cursor_completed.ipynb',\n",
        " u'notebook/Day_10_requests_lxml.ipynb',\n",
        " u'notebook/Day_14_PfDA_revisited.ipynb',\n",
        " u'notebook/Day_14_PfDA_starter.ipynb',\n",
        " u'notebook/Day_14_basemap_redux.ipynb',\n",
        " u'notebook/Day_14_date_time.ipynb',\n",
        " u'notebook/Day_15_Sample_Python_Questions.ipynb',\n",
        " u'notebook/Day_16_PiCloud_intro.ipynb',\n",
        " u'notebook/Day_17_Midterm.ipynb',\n",
        " u'notebook/Day_17_Midterm_with_Key.ipynb',\n",
        " u'notebook/Day_18_Common_Crawl.ipynb',\n",
        " u'notebook/Day_19_CC_etc.ipynb',\n",
        " u'notebook/Day_20_CommonCrawl.ipynb',\n",
        " u'notebook/Primer.ipynb',\n",
        " u'notebook/basemap_example.ipynb',\n",
        " u'notebook/notebook_javascript_examples.ipynb',\n",
        " u'notebook/vtk_example.ipynb']"
       ]
      }
     ],
     "prompt_number": 20
    },
    {
     "cell_type": "heading",
     "level": 1,
     "metadata": {},
     "source": [
      "using cloud.bucket"
     ]
    },
    {
     "cell_type": "heading",
     "level": 2,
     "metadata": {},
     "source": [
      "copying from local computer to PiCloud using cloud.bucket.put"
     ]
    },
    {
     "cell_type": "code",
     "collapsed": false,
     "input": [
      "# http://docs.picloud.com/moduledoc.html#module-cloud.bucket\n",
      "\n",
      "import os\n",
      "# only if we not running on picloud....\n",
      "if not os.path.exists('/home/picloud/notebook'):\n",
      "    pass\n",
      "    # normally I keep this line commented to prevent accidental copying if I run the notebook through.\n",
      "    cloud.bucket.put('Day_20_Moving_files_to_PiCloud.ipynb', prefix='notebook')"
     ],
     "language": "python",
     "metadata": {},
     "outputs": [],
     "prompt_number": 20
    },
    {
     "cell_type": "heading",
     "level": 2,
     "metadata": {},
     "source": [
      "copying from PiCloud to local machine using cloud.bucket.get"
     ]
    },
    {
     "cell_type": "code",
     "collapsed": false,
     "input": [
      "import os\n",
      "\n",
      "if not os.path.exists('/home/picloud/notebook'):\n",
      "    pass\n",
      "    # normally I keep this line commented to prevent accidental copying if I run the notebook through.\n",
      "    # note the new local name -- to make it less likely to overwrite something I'm doing locally.\n",
      "    #cloud.bucket.get('notebook/Day_20_CommonCrawl.ipynb', 'Day_20_CommonCrawl_from_picloud.ipynb')\n"
     ],
     "language": "python",
     "metadata": {},
     "outputs": [],
     "prompt_number": 11
    },
    {
     "cell_type": "heading",
     "level": 1,
     "metadata": {},
     "source": [
      "Using ssh"
     ]
    },
    {
     "cell_type": "markdown",
     "metadata": {},
     "source": [
      "**Warning:** I don't think you'll immediately see the notebook changes reflected in an already running PiCloud notebook server -- at least, that was my experience."
     ]
    },
    {
     "cell_type": "markdown",
     "metadata": {},
     "source": [
      "There are other ways to interact with PiCloud -- using picloud ssh-info and scp --See [SSH into a job](http://docs.picloud.com/job_mgmt_adv.html#client-adv-ssh-into-job) and some [rough notes](https://www.evernote.com/shard/s1/sh/a9fab233-1857-4f01-8437-805be0e6fe22/593a1224dd150d6cf1cea6bb9886c22d).  The following code shows how to use `picloud ssh-info JID` to get the right ssh scp commands.\n",
      "\n",
      "You can read off the job id for your PiCloud notebook server from the upper right corner of https://www.picloud.com/accounts/notebook/:\n",
      "\n",
      "<img src=\"https://www.evernote.com/shard/s1/sh/646f953b-2c86-4b52-9deb-6dbe4f6ebc9e/26894da1003bf19d26cb0033f89097b4/res/a6f9765c-fa23-4521-9b02-3660134c9b80/PiCloud_%7C_Notebook-20130404-110444.jpg.jpg?resizeSmall&width=832\">\n",
      "\n"
     ]
    },
    {
     "cell_type": "code",
     "collapsed": false,
     "input": [
      "import re\n",
      "\n",
      "# put the job id of your notebook server after ssh-info\n",
      "\n",
      "NOTEBOOK_SERVER_RUNNING = False\n",
      "NOTEBOOK_SERVER_JID = 501\n",
      "\n",
      "def to_picloud(nb_name):\n",
      "    scp_to_command =  \"scp -q -i {identity} -P {port} {nb_name} {username}@{address}:/home/picloud/notebook/\".format(nb_name=nb_name, **ssh_info_output)\n",
      "    return scp_to_command\n",
      "\n",
      "if NOTEBOOK_SERVER_RUNNING:\n",
      "    ssh_info_output = !picloud ssh-info $NOTEBOOK_SERVER_JID\n",
      "    ssh_info_output = dict(zip( *[filter(None, re.split(\"\\s+\", l)) for l in ssh_info_output]))\n",
      "#print ssh_info_output\n",
      "\n",
      "    ssh_command = \"ssh -q -i {identity} {username}@{address} -p {port}\".format(**ssh_info_output)\n",
      "\n",
      "\n",
      "    print ssh_command\n",
      "    print to_picloud(\"Day_20_CommonCrawl.ipynb\")\n",
      "\n",
      "# you can even run the scp command from within iPython notebook -- uncomment following lines\n",
      "#    to_picloud = to_picloud(\"Day_20_CommonCrawl.ipynb\")\n",
      "#    ! $to_picloud"
     ],
     "language": "python",
     "metadata": {},
     "outputs": [
      {
       "output_type": "stream",
       "stream": "stdout",
       "text": [
        "ssh -q -i /Users/raymondyee/.picloud/credentials/6362/id_rsa emp12@ec2-54-234-110-0.compute-1.amazonaws.com -p 21200"
       ]
      },
      {
       "output_type": "stream",
       "stream": "stdout",
       "text": [
        "\n",
        "scp -q -i /Users/raymondyee/.picloud/credentials/6362/id_rsa -P 21200 Day_20_CommonCrawl.ipynb emp12@ec2-54-234-110-0.compute-1.amazonaws.com:/home/picloud/notebook/\n"
       ]
      }
     ],
     "prompt_number": 21
    },
    {
     "cell_type": "markdown",
     "metadata": {},
     "source": [
      "**Running scp to the live notebook server machine will actually update the notebooks.**"
     ]
    },
    {
     "cell_type": "heading",
     "level": 1,
     "metadata": {},
     "source": [
      "Recasting this as picloudutil utility"
     ]
    },
    {
     "cell_type": "markdown",
     "metadata": {},
     "source": [
      "I've packaged up a utility to move files using ssh and scp"
     ]
    },
    {
     "cell_type": "code",
     "collapsed": false,
     "input": [
      "from wwod import picloud"
     ],
     "language": "python",
     "metadata": {},
     "outputs": [
      {
       "output_type": "pyout",
       "prompt_number": 9,
       "text": [
        "<module 'wwod.picloud' from 'wwod/picloud.py'>"
       ]
      }
     ],
     "prompt_number": 9
    },
    {
     "cell_type": "code",
     "collapsed": false,
     "input": [
      "# pass in the job info for your running notebook server id -- if you have a notebook server running\n",
      "\n",
      "import cloud\n",
      "cloud.shortcuts.ssh.get_ssh_info(506)"
     ],
     "language": "python",
     "metadata": {},
     "outputs": [
      {
       "output_type": "pyout",
       "prompt_number": 18,
       "text": [
        "{'address': 'ec2-107-22-29-58.compute-1.amazonaws.com',\n",
        " 'identity': '/Users/raymondyee/.picloud/credentials/6362/id_rsa',\n",
        " 'port': 20500,\n",
        " 'username': 'emp5'}"
       ]
      }
     ],
     "prompt_number": 18
    },
    {
     "cell_type": "code",
     "collapsed": false,
     "input": [
      "import cloud\n",
      "cloud.shortcuts.ssh.get_ssh_command(506)"
     ],
     "language": "python",
     "metadata": {},
     "outputs": [
      {
       "output_type": "pyout",
       "prompt_number": 17,
       "text": [
        "'ssh -p 20500 -i /Users/raymondyee/.picloud/credentials/6362/id_rsa -o StrictHostKeyChecking=no -o ConnectTimeout=60 -o LogLevel=QUIET -o UserKnownHostsFile=/dev/null emp5@ec2-107-22-29-58.compute-1.amazonaws.com'"
       ]
      }
     ],
     "prompt_number": 17
    },
    {
     "cell_type": "code",
     "collapsed": false,
     "input": [
      "# added scp\n",
      "from wwod import picloud\n",
      "picloud.to_picloud_cmd('me', 506)"
     ],
     "language": "python",
     "metadata": {},
     "outputs": [
      {
       "output_type": "pyout",
       "prompt_number": 19,
       "text": [
        "'scp -q -i /Users/raymondyee/.picloud/credentials/6362/id_rsa -P 20500 me emp5@ec2-107-22-29-58.compute-1.amazonaws.com:/home/picloud/notebook/'"
       ]
      }
     ],
     "prompt_number": 19
    }
   ],
   "metadata": {}
  }
 ]
}