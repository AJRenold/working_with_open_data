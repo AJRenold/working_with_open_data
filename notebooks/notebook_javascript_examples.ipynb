{
 "metadata": {
  "name": "notebook_javascript_examples"
 },
 "nbformat": 3,
 "nbformat_minor": 0,
 "worksheets": [
  {
   "cells": [
    {
     "cell_type": "markdown",
     "metadata": {},
     "source": [
      "## show as coin flips?\n"
     ]
    },
    {
     "cell_type": "code",
     "collapsed": false,
     "input": [
      "from IPython.display import HTML\n",
      "\n",
      "# http://en.wikipedia.org/wiki/File:2006_Quarter_Proof.png\n",
      "head = \"http://upload.wikimedia.org/wikipedia/commons/thumb/a/a0/2006_Quarter_Proof.png/244px-2006_Quarter_Proof.png\"\n",
      "# http://en.wikipedia.org/wiki/File:2012-ATB-Quarters-Unc-Hawaii.jpg\n",
      "tail = \"http://upload.wikimedia.org/wikipedia/commons/thumb/b/bc/2012-ATB-Quarters-Unc-Hawaii.jpg/238px-2012-ATB-Quarters-Unc-Hawaii.jpg\"\n",
      "\n",
      "head_img = \"<img class='coin' src='{0}'/>\".format(head)\n",
      "tail_img = \"<img class='coin' src='{0}'/>\".format(tail)\n",
      "\n",
      "\n",
      "HTML(head_img + tail_img)"
     ],
     "language": "python",
     "metadata": {},
     "outputs": [
      {
       "html": [
        "<img class='coin' src='http://upload.wikimedia.org/wikipedia/commons/thumb/a/a0/2006_Quarter_Proof.png/244px-2006_Quarter_Proof.png'/><img class='coin' src='http://upload.wikimedia.org/wikipedia/commons/thumb/b/bc/2012-ATB-Quarters-Unc-Hawaii.jpg/238px-2012-ATB-Quarters-Unc-Hawaii.jpg'/>"
       ],
       "output_type": "pyout",
       "prompt_number": 1,
       "text": [
        "<IPython.core.display.HTML at 0x4668530>"
       ]
      }
     ],
     "prompt_number": 1
    },
    {
     "cell_type": "markdown",
     "metadata": {},
     "source": [
      "**How to resize images?**\n",
      "\n",
      "Two ways I want to use here:\n",
      "\n",
      "* jQuery css\n",
      "* jQuery to attach a `style` element\n"
     ]
    },
    {
     "cell_type": "code",
     "collapsed": false,
     "input": [
      "from IPython.core.display import Javascript\n",
      "from jinja2 import Template\n",
      "\n",
      "# http://en.wikipedia.org/wiki/File:2006_Quarter_Proof.png\n",
      "head = \"http://upload.wikimedia.org/wikipedia/commons/thumb/a/a0/2006_Quarter_Proof.png/244px-2006_Quarter_Proof.png\"\n",
      "# http://en.wikipedia.org/wiki/File:2012-ATB-Quarters-Unc-Hawaii.jpg\n",
      "tail = \"http://upload.wikimedia.org/wikipedia/commons/thumb/b/bc/2012-ATB-Quarters-Unc-Hawaii.jpg/238px-2012-ATB-Quarters-Unc-Hawaii.jpg\"\n",
      "\n",
      "head_img = \"<img class='coin' src='{0}'/>\".format(head)\n",
      "tail_img = \"<img class='coin' src='{0}'/>\".format(tail)\n",
      "\n",
      "coins_html = head_img + tail_img\n",
      "\n",
      "js_template = \"\"\"\n",
      "element.html(\"{{coins_html}}\");\n",
      "container.show();\n",
      "\n",
      "\n",
      "setTimeout(function(){\n",
      "\n",
      "  $('.coin').css('width', '50px');\n",
      "\n",
      "},0);\n",
      "\"\"\"\n",
      "\n",
      "js = Template(js_template).render(coins_html=coins_html)\n",
      "\n",
      "Javascript(data=js, lib=None, css=None)"
     ],
     "language": "python",
     "metadata": {},
     "outputs": [
      {
       "javascript": [
        "\n",
        "element.html(\"<img class='coin' src='http://upload.wikimedia.org/wikipedia/commons/thumb/a/a0/2006_Quarter_Proof.png/244px-2006_Quarter_Proof.png'/><img class='coin' src='http://upload.wikimedia.org/wikipedia/commons/thumb/b/bc/2012-ATB-Quarters-Unc-Hawaii.jpg/238px-2012-ATB-Quarters-Unc-Hawaii.jpg'/>\");\n",
        "container.show();\n",
        "\n",
        "\n",
        "setTimeout(function(){\n",
        "\n",
        "  $('.coin').css('width', '50px');\n",
        "\n",
        "},0);"
       ],
       "output_type": "pyout",
       "prompt_number": 2,
       "text": [
        "<IPython.core.display.Javascript at 0x46d2fd0>"
       ]
      }
     ],
     "prompt_number": 2
    },
    {
     "cell_type": "code",
     "collapsed": false,
     "input": [
      "from IPython.core.display import Javascript\n",
      "\n",
      "js = \"\"\"$('<style/>').html(\".coin {width: 55px;}\").appendTo('head')\"\"\"\n",
      "Javascript(data=js, lib=None, css=None)\n"
     ],
     "language": "python",
     "metadata": {},
     "outputs": []
    },
    {
     "cell_type": "markdown",
     "metadata": {},
     "source": [
      "It'd be fun to turn this sequence into morse code, for example.  What are my options in Python? in the browser? I don't think \n",
      "there is any standard Python library for making sounds.\n",
      "\n",
      "The video http://www.youtube.com/watch?v=JhAF6puNTxI might help -- mentions wave library... http://docs.python.org/2/library/wave.html\n",
      "\n",
      "http://codingmess.blogspot.com/2010/02/how-to-make-wav-file-with-python.html -> to create a wav file \"by hand\"\n",
      "\n",
      "investigate `audiolab`: http://pypi.python.org/pypi/scikits.audiolab/"
     ]
    },
    {
     "cell_type": "code",
     "collapsed": false,
     "input": [
      "# http://my.safaribooksonline.com/book/-/9781449361600/4dot-scikit-taking-scipy-one-step-further/fourdot1_scikit_image_html\n",
      "# check to see whether we have libraries available\n",
      "\n",
      "import numpy as np\n",
      "import matplotlib.pyplot as mpl\n",
      "import scipy.ndimage as ndimage\n",
      "import skimage.filter as skif"
     ],
     "language": "python",
     "metadata": {},
     "outputs": []
    },
    {
     "cell_type": "code",
     "collapsed": true,
     "input": [
      "from IPython.core.display import HTML\n",
      "import random\n",
      "\n",
      "# http://en.wikipedia.org/wiki/File:2006_Quarter_Proof.png\n",
      "head = \"http://upload.wikimedia.org/wikipedia/commons/thumb/a/a0/2006_Quarter_Proof.png/244px-2006_Quarter_Proof.png\"\n",
      "# http://en.wikipedia.org/wiki/File:2012-ATB-Quarters-Unc-Hawaii.jpg\n",
      "tail = \"http://upload.wikimedia.org/wikipedia/commons/thumb/b/bc/2012-ATB-Quarters-Unc-Hawaii.jpg/238px-2012-ATB-Quarters-Unc-Hawaii.jpg\"\n",
      "\n",
      "head_img = \"<img class='coin' src='{0}'/>\".format(head)\n",
      "tail_img = \"<img class='coin' src='{0}'/>\".format(tail)\n",
      "\n",
      "coin_toss = \"\"\n",
      "size = 100\n",
      "\n",
      "random.seed()\n",
      "\n",
      "for i in xrange(size):\n",
      "    toss = random.randint(0,1)\n",
      "    coin_toss += head_img if toss else tail_img\n",
      "\n",
      "HTML(coin_toss)\n",
      "\n"
     ],
     "language": "python",
     "metadata": {},
     "outputs": []
    },
    {
     "cell_type": "code",
     "collapsed": false,
     "input": [
      "# based on http://pastebin.com/yPTvFPeP\n",
      "\n",
      "from IPython.core.display import Javascript\n",
      "\n",
      "js = \"\"\"\n",
      "element.html(\"<svg></svg>\");\n",
      "container.show();\n",
      "\n",
      "var width = $('svg').width();\n",
      "var height = $('svg').height();\n",
      "var svg = d3.select('svg');\n",
      "\n",
      "svg\n",
      "  .attr('width', width)\n",
      "  .attr('height', height);\n",
      "\n",
      "svg.selectAll('circle')\n",
      "  .data([18, 57, 112, 323])\n",
      "  .enter().append('circle')\n",
      "  .attr('cy', 236)\n",
      "  .attr('cx', String)\n",
      "  .attr('r', Math.sqrt);\n",
      "\n",
      "\n",
      "\"\"\"\n",
      "\n",
      "d3_url = \"http://cdnjs.cloudflare.com/ajax/libs/d3/2.10.0/d3.v2.min.js\"\n",
      "\n",
      "Javascript(data=js, lib=d3_url)\n"
     ],
     "language": "python",
     "metadata": {},
     "outputs": []
    },
    {
     "cell_type": "code",
     "collapsed": false,
     "input": [
      "# http://www.datatables.net/\n",
      "# http://www.datatables.net/examples/data_sources/js_array.html\n",
      "\n",
      "from IPython.core.display import Javascript\n",
      "\n",
      "js = \"\"\"\n",
      "element.html('<div id=\"demo\"/>');\n",
      "container.show();\n",
      "\n",
      "$('#demo').html( '<table cellpadding=\"0\" cellspacing=\"0\" border=\"0\" class=\"display\" id=\"example\"></table>' );\n",
      "    $('#example').dataTable( {\n",
      "        \"aaData\": [\n",
      "            /* Reduced data set */\n",
      "            [ \"Trident\", \"Internet Explorer 4.0\", \"Win 95+\", 4, \"X\" ],\n",
      "            [ \"Trident\", \"Internet Explorer 5.0\", \"Win 95+\", 5, \"C\" ],\n",
      "            [ \"Trident\", \"Internet Explorer 5.5\", \"Win 95+\", 5.5, \"A\" ],\n",
      "            [ \"Trident\", \"Internet Explorer 6.0\", \"Win 98+\", 6, \"A\" ],\n",
      "            [ \"Trident\", \"Internet Explorer 7.0\", \"Win XP SP2+\", 7, \"A\" ],\n",
      "            [ \"Gecko\", \"Firefox 1.5\", \"Win 98+ / OSX.2+\", 1.8, \"A\" ],\n",
      "            [ \"Gecko\", \"Firefox 2\", \"Win 98+ / OSX.2+\", 1.8, \"A\" ],\n",
      "            [ \"Gecko\", \"Firefox 3\", \"Win 2k+ / OSX.3+\", 1.9, \"A\" ],\n",
      "            [ \"Webkit\", \"Safari 1.2\", \"OSX.3\", 125.5, \"A\" ],\n",
      "            [ \"Webkit\", \"Safari 1.3\", \"OSX.3\", 312.8, \"A\" ],\n",
      "            [ \"Webkit\", \"Safari 2.0\", \"OSX.4+\", 419.3, \"A\" ],\n",
      "            [ \"Webkit\", \"Safari 3.0\", \"OSX.4+\", 522.1, \"A\" ]\n",
      "        ],\n",
      "        \"aoColumns\": [\n",
      "            { \"sTitle\": \"Engine\" },\n",
      "            { \"sTitle\": \"Browser\" },\n",
      "            { \"sTitle\": \"Platform\" },\n",
      "            { \"sTitle\": \"Version\", \"sClass\": \"center\" },\n",
      "            { \"sTitle\": \"Grade\", \"sClass\": \"center\" }\n",
      "        ]\n",
      "    } );   \n",
      "\n",
      "\"\"\"\n",
      "\n",
      "css_url = \"http://ajax.aspnetcdn.com/ajax/jquery.dataTables/1.9.4/css/jquery.dataTables.css\"\n",
      "datatable_url = \"http://ajax.aspnetcdn.com/ajax/jquery.dataTables/1.9.4/jquery.dataTables.min.js\"\n",
      "\n",
      "Javascript(data=js, lib=datatable_url, css=css_url)"
     ],
     "language": "python",
     "metadata": {},
     "outputs": []
    },
    {
     "cell_type": "code",
     "collapsed": false,
     "input": [],
     "language": "python",
     "metadata": {},
     "outputs": []
    }
   ],
   "metadata": {}
  }
 ]
}