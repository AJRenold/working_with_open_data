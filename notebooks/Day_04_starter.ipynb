{
 "metadata": {
  "name": "Day04_starter"
 },
 "nbformat": 3,
 "nbformat_minor": 0,
 "worksheets": [
  {
   "cells": [
    {
     "cell_type": "heading",
     "level": 1,
     "metadata": {},
     "source": [
      "Warm up with sequences, lists"
     ]
    },
    {
     "cell_type": "heading",
     "level": 2,
     "metadata": {},
     "source": [
      "Warm-up exercise I:  verifying sum of integers calculated by (young) Gauss"
     ]
    },
    {
     "cell_type": "markdown",
     "metadata": {},
     "source": [
      "![C. F. Gauss](http://upload.wikimedia.org/wikipedia/commons/thumb/9/9b/Carl_Friedrich_Gauss.jpg/220px-Carl_Friedrich_Gauss.jpg)\n",
      "\n",
      "http://mathandmultimedia.com/2010/09/15/sum-first-n-positive-integers/\n",
      "\n",
      ">  Gauss displayed his genius at an early age. According to anecdotes, when he was in primary school, he was punished by his teacher due to misbehavior.  He was told to add the numbers from 1 to 100. He was able to compute its sum, which is 5050, in a matter of seconds.\n",
      "\n",
      ">  Now, how on earth did he do it?\n",
      "\n",
      "See also:\n",
      "\n",
      "* http://en.wikipedia.org/wiki/Carl_Friedrich_Gauss#Anecdotes\n",
      "* [The Gauss Christmath Special](http://youtu.be/sxnX5_LbBDU?t=4m52s) by [Vi Hart](http://en.wikipedia.org/wiki/Vi_Hart)\n",
      "\n",
      "**Let's verify this result in a number of ways.  Take some time now to write some code to add up 1 to 100.**\n",
      "\n",
      "Specifically:\n",
      "\n",
      "* make use of [range](http://docs.python.org/2/library/functions.html#range)\n",
      "* try [xrange](http://docs.python.org/2/library/functions.html#xrange)\n",
      "* try an explicit loop vs `sum`\n",
      "* bonus:  try [itertool.count](http://docs.python.org/2/library/itertools.html#itertools.count) and [itertool.islice](http://docs.python.org/2/library/itertools.html#itertools.islice) -- these functions are Python *iterators*. \n",
      "* See [Build a Basic Python Iterator](http://stackoverflow.com/a/24377/7782) and \n",
      "[The Python yield keyword explained](http://stackoverflow.com/questions/231767/the-python-yield-keyword-explained)\n",
      "\n",
      "\n",
      "**Beware:  in ipython w/ pylab mode, `sum` might be overwritten by numpy's sum -- use `__builtin__.sum` if you want http://docs.python.org/2/library/functions.html#sum as opposed to http://docs.scipy.org/doc/numpy/reference/generated/numpy.sum.html** \n"
     ]
    },
    {
     "cell_type": "code",
     "collapsed": false,
     "input": [
      "#FILL IN WITH YOUR CODE TO CALCULATE ANSWER OF 5050\n",
      "\n",
      "\n",
      "\n"
     ],
     "language": "python",
     "metadata": {},
     "outputs": []
    },
    {
     "cell_type": "markdown",
     "metadata": {},
     "source": [
      "Here's a forumla for a triangular number"
     ]
    },
    {
     "cell_type": "markdown",
     "metadata": {},
     "source": [
      "$T_n= \\sum_{k=1}^n k = 1+2+3+ \\dotsb +n = \\frac{n(n+1)}{2} = {n+1 \\choose 2}$"
     ]
    },
    {
     "cell_type": "code",
     "collapsed": false,
     "input": [
      "n = 100\n",
      "n*(n+1)/2"
     ],
     "language": "python",
     "metadata": {},
     "outputs": []
    },
    {
     "cell_type": "markdown",
     "metadata": {},
     "source": [
      "The following is a hint for writing triangular"
     ]
    },
    {
     "cell_type": "code",
     "collapsed": false,
     "input": [
      "from itertools import islice \n",
      "\n",
      "def my_count(start, step):\n",
      "    n = start\n",
      "    while True:\n",
      "        yield n\n",
      "        n += step\n",
      "        \n",
      "__builtin__.sum(islice(my_count(0,1), 101L))"
     ],
     "language": "python",
     "metadata": {},
     "outputs": []
    },
    {
     "cell_type": "heading",
     "level": 2,
     "metadata": {},
     "source": [
      "Bonus Exercise:  write an iterator for  triangular numbers"
     ]
    },
    {
     "cell_type": "code",
     "collapsed": false,
     "input": [
      "from itertools import islice\n",
      "\n",
      "def triangular():\n",
      "   # FILL IN  \n",
      "   pass\n"
     ],
     "language": "python",
     "metadata": {},
     "outputs": []
    },
    {
     "cell_type": "code",
     "collapsed": false,
     "input": [
      "# a check\n",
      "assert list(islice(triangular(), 5)) == [1, 3, 6, 10, 15]"
     ],
     "language": "python",
     "metadata": {},
     "outputs": []
    },
    {
     "cell_type": "code",
     "collapsed": false,
     "input": [
      "for i, n in enumerate(islice(triangular(), 10)):\n",
      "    print i+1, n"
     ],
     "language": "python",
     "metadata": {},
     "outputs": []
    },
    {
     "cell_type": "code",
     "collapsed": false,
     "input": [
      "list(islice(triangular(), 100))[-1]"
     ],
     "language": "python",
     "metadata": {},
     "outputs": []
    },
    {
     "cell_type": "code",
     "collapsed": false,
     "input": [
      "list(islice(triangular(),99,100))[0]"
     ],
     "language": "python",
     "metadata": {},
     "outputs": []
    },
    {
     "cell_type": "heading",
     "level": 2,
     "metadata": {},
     "source": [
      "Warm Up Exercise II: Wheat and chessboard problem"
     ]
    },
    {
     "cell_type": "markdown",
     "metadata": {},
     "source": [
      "http://en.wikipedia.org/wiki/Wheat_and_chessboard_problem :\n",
      "\n",
      "> If a chessboard were to have wheat placed upon each square such that one grain were placed on the first square, two on the second, four on the third, and so on (doubling the number of grains on each subsequent square), how many grains of wheat would be on the chessboard at the finish?\n",
      "\n",
      "> The total number of grains equals 18,446,744,073,709,551,615, which is a much higher number than most people intuitively expect.\n",
      "\n",
      "* try using [pow](http://docs.python.org/2/library/functions.html#pow)"
     ]
    },
    {
     "cell_type": "code",
     "collapsed": false,
     "input": [
      "# Legend of the Chessboard YouTube video\n",
      "\n",
      "from IPython.display import YouTubeVideo\n",
      "YouTubeVideo('t3d0Y-JpRRg')"
     ],
     "language": "python",
     "metadata": {},
     "outputs": [
      {
       "html": [
        "\n",
        "            <iframe\n",
        "                width=\"400\"\n",
        "                height=\"300\"\n",
        "                src=\"http://www.youtube.com/embed/t3d0Y-JpRRg\"\n",
        "                frameborder=\"0\"\n",
        "                allowfullscreen\n",
        "            ></iframe>\n",
        "        "
       ],
       "output_type": "pyout",
       "prompt_number": 10,
       "text": [
        "<IPython.lib.display.YouTubeVideo at 0x467a1d0>"
       ]
      }
     ],
     "prompt_number": 10
    },
    {
     "cell_type": "heading",
     "level": 2,
     "metadata": {},
     "source": [
      "Exercise:  verify answer: The total number of grains equals 18,446,744,073,709,551,615,"
     ]
    },
    {
     "cell_type": "code",
     "collapsed": false,
     "input": [
      "#FILL IN YOUR CODE\n",
      "\n",
      "\n"
     ],
     "language": "python",
     "metadata": {},
     "outputs": []
    },
    {
     "cell_type": "heading",
     "level": 1,
     "metadata": {},
     "source": [
      "Slicing/Indexing Review"
     ]
    },
    {
     "cell_type": "markdown",
     "metadata": {},
     "source": [
      "http://stackoverflow.com/a/509295/7782\n",
      "\n",
      "Use on any of the **sequence** types ([python docs on sequence types](http://docs.python.org/2/library/stdtypes.html#sequence-types-str-unicode-list-tuple-bytearray-buffer-xrange)):\n",
      "\n",
      "> There are seven sequence types: strings, Unicode strings, lists, tuples, bytearrays, buffers, and xrange objects.\n",
      "\n",
      "The use of square brackets are for accessing *slices* of sequence."
     ]
    },
    {
     "cell_type": "markdown",
     "metadata": {},
     "source": [
      "Let's remind ourselves of how to use slices\n",
      "\n",
      "* `s[i]`\n",
      "* `s[i:j]`\n",
      "* `s[i:j:k]`\n",
      "* meaning of negative indices\n",
      "* 0-base counting\n",
      "\n"
     ]
    },
    {
     "cell_type": "code",
     "collapsed": false,
     "input": [
      "m = range(10)\n",
      "m"
     ],
     "language": "python",
     "metadata": {},
     "outputs": []
    },
    {
     "cell_type": "code",
     "collapsed": false,
     "input": [
      "m[0]"
     ],
     "language": "python",
     "metadata": {},
     "outputs": []
    },
    {
     "cell_type": "code",
     "collapsed": false,
     "input": [
      "m[-1]"
     ],
     "language": "python",
     "metadata": {},
     "outputs": []
    },
    {
     "cell_type": "code",
     "collapsed": false,
     "input": [
      "m[::-1]"
     ],
     "language": "python",
     "metadata": {},
     "outputs": []
    },
    {
     "cell_type": "code",
     "collapsed": false,
     "input": [
      "m[2:3]"
     ],
     "language": "python",
     "metadata": {},
     "outputs": []
    },
    {
     "cell_type": "code",
     "collapsed": false,
     "input": [
      "import string\n",
      "alphabet = string.lowercase\n",
      "\n",
      "alphabet"
     ],
     "language": "python",
     "metadata": {},
     "outputs": []
    },
    {
     "cell_type": "code",
     "collapsed": false,
     "input": [
      "# 13 letter of the alphabet\n",
      "alphabet[12]"
     ],
     "language": "python",
     "metadata": {},
     "outputs": []
    },
    {
     "cell_type": "markdown",
     "metadata": {},
     "source": [
      "**We will revisit generalized slicing in NumPy.**"
     ]
    },
    {
     "cell_type": "heading",
     "level": 1,
     "metadata": {},
     "source": [
      " Import/naming conventions and pylab mode"
     ]
    },
    {
     "cell_type": "markdown",
     "metadata": {},
     "source": [
      "<http://my.safaribooksonline.com/book/programming/python/9781449323592/1dot-preliminaries/id2699702>\n",
      "\n",
      "    import numpy as np\n",
      "    import pandas as pd\n",
      "    import matplotlib.pyplot as plt\n",
      "    \n",
      "These imports done for you in `pylab` mode.\n",
      "\n",
      "## pylab mode\n",
      "\n",
      "    ipython --help\n",
      "    \n",
      "yields\n",
      "\n",
      "    --pylab=<CaselessStrEnum> (InteractiveShellApp.pylab)\n",
      "        Default: None\n",
      "        Choices: ['tk', 'qt', 'wx', 'gtk', 'osx', 'inline', 'auto']\n",
      "        Pre-load matplotlib and numpy for interactive use, selecting a particular\n",
      "        matplotlib backend and loop integration."
     ]
    },
    {
     "cell_type": "heading",
     "level": 1,
     "metadata": {},
     "source": [
      "NumPy"
     ]
    },
    {
     "cell_type": "markdown",
     "metadata": {},
     "source": [
      "<http://www.numpy.org/>:\n",
      "\n",
      "NumPy is the **fundamental package for scientific computing with Python**. It contains among other things:\n",
      "\n",
      "* a powerful N-dimensional array object [let's start with 1 and 2 dimensions]\n",
      "* sophisticated (**broadcasting**) functions [what is *broadcasting*?]\n",
      "* tools for integrating C/C++ and Fortran code [why useful?]\n",
      "* useful linear algebra, Fourier transform, and random number capabilities\n",
      "\n",
      "Besides its obvious scientific uses, NumPy can also be used as an efficient\n",
      "multi-dimensional container of **generic data**. **Arbitrary data-types** can be\n",
      "defined. This allows NumPy to seamlessly and speedily integrate with a wide\n",
      "variety of databases.\n",
      "\n",
      "See `PfDA`, Chapter 4\n"
     ]
    },
    {
     "cell_type": "heading",
     "level": 2,
     "metadata": {},
     "source": [
      "ndarray.ndim, ndarray.shape"
     ]
    },
    {
     "cell_type": "code",
     "collapsed": false,
     "input": [
      "# zero-dimensions\n",
      "\n",
      "a0 = array(5)\n",
      "a0"
     ],
     "language": "python",
     "metadata": {},
     "outputs": []
    },
    {
     "cell_type": "markdown",
     "metadata": {},
     "source": [
      "use [shape](http://docs.scipy.org/doc/numpy/reference/generated/numpy.ndarray.shape.html) to get a tuple of array dimensions"
     ]
    },
    {
     "cell_type": "code",
     "collapsed": false,
     "input": [
      "a0.ndim, a0.shape"
     ],
     "language": "python",
     "metadata": {},
     "outputs": []
    },
    {
     "cell_type": "code",
     "collapsed": false,
     "input": [
      "# 1-d array\n",
      "a1 = array([1,2])\n",
      "a1.ndim, a1.shape"
     ],
     "language": "python",
     "metadata": {},
     "outputs": []
    },
    {
     "cell_type": "code",
     "collapsed": false,
     "input": [
      "# 2-d array\n",
      "\n",
      "a2 = array(([1,2], [3,4]))\n",
      "a2.ndim, a2.shape"
     ],
     "language": "python",
     "metadata": {},
     "outputs": []
    },
    {
     "cell_type": "heading",
     "level": 2,
     "metadata": {},
     "source": [
      "dtype:  type of given ndarray"
     ]
    },
    {
     "cell_type": "code",
     "collapsed": false,
     "input": [
      "a2.dtype"
     ],
     "language": "python",
     "metadata": {},
     "outputs": []
    },
    {
     "cell_type": "heading",
     "level": 2,
     "metadata": {},
     "source": [
      "np.arange"
     ]
    },
    {
     "cell_type": "markdown",
     "metadata": {},
     "source": [
      "[arange](http://docs.scipy.org/doc/numpy/reference/generated/numpy.arange.html#numpy.arange) is one instance of [`ndarray` creating function in NumPy](http://docs.scipy.org/doc/numpy/reference/routines.array-creation.html)\n",
      "\n",
      "Compare to `xrange`."
     ]
    },
    {
     "cell_type": "code",
     "collapsed": false,
     "input": [
      "type(arange(10))"
     ],
     "language": "python",
     "metadata": {},
     "outputs": []
    },
    {
     "cell_type": "code",
     "collapsed": false,
     "input": [
      "for k in arange(10):\n",
      "    print k"
     ],
     "language": "python",
     "metadata": {},
     "outputs": []
    },
    {
     "cell_type": "code",
     "collapsed": false,
     "input": [
      "list(arange(10)) == list(xrange(10))"
     ],
     "language": "python",
     "metadata": {},
     "outputs": []
    },
    {
     "cell_type": "heading",
     "level": 2,
     "metadata": {},
     "source": [
      "NumPy.ndarray.reshape"
     ]
    },
    {
     "cell_type": "code",
     "collapsed": false,
     "input": [
      "#how to map 0..63 -> 2x2 array\n",
      "a3 = np.arange(64).reshape(8,8)\n",
      "a3"
     ],
     "language": "python",
     "metadata": {},
     "outputs": []
    },
    {
     "cell_type": "code",
     "collapsed": false,
     "input": [
      "a3[1,2]"
     ],
     "language": "python",
     "metadata": {},
     "outputs": []
    },
    {
     "cell_type": "code",
     "collapsed": false,
     "input": [
      "for i in range(8):\n",
      "    for j in range(8):\n",
      "        if a3[i,j] != i*8 + j:\n",
      "            print i, j"
     ],
     "language": "python",
     "metadata": {},
     "outputs": []
    },
    {
     "cell_type": "markdown",
     "metadata": {},
     "source": [
      "##scalar multiplication\n",
      "\n",
      "example of [broadcasting](http://docs.scipy.org/doc/numpy/user/basics.broadcasting.html):\n",
      "\n",
      "> The term broadcasting describes how numpy treats arrays with different shapes during arithmetic operations. Subject to certain constraints, the smaller array is \u201cbroadcast\u201d across the larger array so that they have compatible shapes. Broadcasting provides a means of vectorizing array operations so that looping occurs in C instead of Python. It does this without making needless copies of data and usually leads to efficient algorithm implementations. There are, however, cases where broadcasting is a bad idea because it leads to inefficient use of memory that slows computation."
     ]
    },
    {
     "cell_type": "code",
     "collapsed": false,
     "input": [
      "2*a3"
     ],
     "language": "python",
     "metadata": {},
     "outputs": []
    },
    {
     "cell_type": "heading",
     "level": 2,
     "metadata": {},
     "source": [
      "add 2 to all elements in a3"
     ]
    },
    {
     "cell_type": "code",
     "collapsed": false,
     "input": [
      "a3+2"
     ],
     "language": "python",
     "metadata": {},
     "outputs": []
    },
    {
     "cell_type": "heading",
     "level": 2,
     "metadata": {},
     "source": [
      "sorting"
     ]
    },
    {
     "cell_type": "code",
     "collapsed": false,
     "input": [
      "# reverse sort -- best way?\n",
      "#http://stackoverflow.com/a/6771620/7782\n",
      "\n",
      "np.sort(arange(100))[::-1]"
     ],
     "language": "python",
     "metadata": {},
     "outputs": []
    },
    {
     "cell_type": "heading",
     "level": 2,
     "metadata": {},
     "source": [
      "Boolean slice:  important novel type of slicing"
     ]
    },
    {
     "cell_type": "markdown",
     "metadata": {},
     "source": [
      "**This stuff is a bit tricky** (see PfDA, pp. 89-92)\n",
      "\n",
      "Consider example of picking out whole numbers less than 20 that are evenly divisible by 3.  Generate a list of such numbers"
     ]
    },
    {
     "cell_type": "code",
     "collapsed": false,
     "input": [
      "# list comprehension\n",
      "\n",
      "[i for i in xrange(20) if i % 3 == 0]"
     ],
     "language": "python",
     "metadata": {},
     "outputs": []
    },
    {
     "cell_type": "code",
     "collapsed": false,
     "input": [
      "a3 = arange(20) \n",
      "a3"
     ],
     "language": "python",
     "metadata": {},
     "outputs": []
    },
    {
     "cell_type": "code",
     "collapsed": false,
     "input": [
      "# basic indexing\n",
      "\n",
      "print a3[0]\n",
      "print a3[::-1]\n",
      "print a3[2:5]"
     ],
     "language": "python",
     "metadata": {},
     "outputs": []
    },
    {
     "cell_type": "code",
     "collapsed": false,
     "input": [
      "np.mod(a3, 3)"
     ],
     "language": "python",
     "metadata": {},
     "outputs": []
    },
    {
     "cell_type": "code",
     "collapsed": false,
     "input": [
      "np.mod(a3, 3) == 0"
     ],
     "language": "python",
     "metadata": {},
     "outputs": []
    },
    {
     "cell_type": "code",
     "collapsed": false,
     "input": [
      "divisible_by_3 = np.mod(a3, 3) == 0"
     ],
     "language": "python",
     "metadata": {},
     "outputs": []
    },
    {
     "cell_type": "code",
     "collapsed": false,
     "input": [
      "a3[divisible_by_3]"
     ],
     "language": "python",
     "metadata": {},
     "outputs": []
    },
    {
     "cell_type": "code",
     "collapsed": false,
     "input": [
      "# if you want to understand this in terms of the overloaded operators -- don't worry if you don't get this.\n",
      "a3.__getitem__(np.mod(a3,3).__eq__(0))"
     ],
     "language": "python",
     "metadata": {},
     "outputs": []
    },
    {
     "cell_type": "heading",
     "level": 2,
     "metadata": {},
     "source": [
      "Exercise:  Calculate a series that holds all the squares less than 100"
     ]
    },
    {
     "cell_type": "markdown",
     "metadata": {},
     "source": [
      "Hint:  one way is to use arange, np.sqrt, [astype](http://docs.scipy.org/doc/numpy/reference/generated/numpy.ndarray.astype.html)\n",
      "\n",
      "Answer should be:\n",
      "\n",
      "    array([ 0,  1,  4,  9, 16, 25, 36, 49, 64, 81])"
     ]
    },
    {
     "cell_type": "code",
     "collapsed": false,
     "input": [
      "#FILL IN\n",
      "\n",
      "\n",
      "\n",
      "\n"
     ],
     "language": "python",
     "metadata": {},
     "outputs": []
    },
    {
     "cell_type": "heading",
     "level": 2,
     "metadata": {},
     "source": [
      "We will come back to indexing later."
     ]
    },
    {
     "cell_type": "markdown",
     "metadata": {},
     "source": [
      "http://docs.scipy.org/doc/numpy/reference/arrays.indexing.html"
     ]
    },
    {
     "cell_type": "heading",
     "level": 1,
     "metadata": {},
     "source": [
      "Pandas"
     ]
    },
    {
     "cell_type": "heading",
     "level": 2,
     "metadata": {},
     "source": [
      "pandas.Series"
     ]
    },
    {
     "cell_type": "markdown",
     "metadata": {},
     "source": [
      "Make a series out of an array"
     ]
    },
    {
     "cell_type": "code",
     "collapsed": false,
     "input": [
      "s1 = Series(arange(5))"
     ],
     "language": "python",
     "metadata": {},
     "outputs": []
    },
    {
     "cell_type": "markdown",
     "metadata": {},
     "source": [
      "  confirm that the type of s1 is  what you would expect"
     ]
    },
    {
     "cell_type": "code",
     "collapsed": false,
     "input": [
      "type(s1)"
     ],
     "language": "python",
     "metadata": {},
     "outputs": []
    },
    {
     "cell_type": "markdown",
     "metadata": {},
     "source": [
      "show that the series is also an array"
     ]
    },
    {
     "cell_type": "code",
     "collapsed": false,
     "input": [
      "s1.ndim, isinstance(s1, np.ndarray)"
     ],
     "language": "python",
     "metadata": {},
     "outputs": []
    },
    {
     "cell_type": "code",
     "collapsed": false,
     "input": [
      "s1.index"
     ],
     "language": "python",
     "metadata": {},
     "outputs": []
    },
    {
     "cell_type": "code",
     "collapsed": false,
     "input": [
      "import string\n",
      "allTheLetters = string.lowercase\n",
      "allTheLetters"
     ],
     "language": "python",
     "metadata": {},
     "outputs": []
    },
    {
     "cell_type": "code",
     "collapsed": false,
     "input": [
      "s2 = Series(data=arange(5), index=list(allTheLetters)[:5])\n",
      "s2"
     ],
     "language": "python",
     "metadata": {},
     "outputs": []
    },
    {
     "cell_type": "code",
     "collapsed": false,
     "input": [
      "s2.index"
     ],
     "language": "python",
     "metadata": {},
     "outputs": []
    },
    {
     "cell_type": "markdown",
     "metadata": {},
     "source": [
      "http://my.safaribooksonline.com/book/programming/python/9781449323592/5dot-getting-started-with-pandas/id2828378 :\n",
      "\n",
      "> Compared with a regular NumPy array, you can use values in the index when selecting single values or a set of values"
     ]
    },
    {
     "cell_type": "code",
     "collapsed": false,
     "input": [
      "# can use both numeric indexing and the labels\n",
      "s2[0], s2['a']"
     ],
     "language": "python",
     "metadata": {},
     "outputs": []
    },
    {
     "cell_type": "code",
     "collapsed": false,
     "input": [
      "for i in range(len(s2)):\n",
      "    print i, s2[i]"
     ],
     "language": "python",
     "metadata": {},
     "outputs": []
    },
    {
     "cell_type": "markdown",
     "metadata": {},
     "source": [
      "it is possible conflict in indexing -- consider"
     ]
    },
    {
     "cell_type": "code",
     "collapsed": false,
     "input": [
      "s3 = Series(data=['albert', 'betty', 'cathy'], index=[3,1, 0])\n",
      "s3"
     ],
     "language": "python",
     "metadata": {},
     "outputs": []
    },
    {
     "cell_type": "code",
     "collapsed": false,
     "input": [
      "s3[0], list(s3)[0]"
     ],
     "language": "python",
     "metadata": {},
     "outputs": []
    },
    {
     "cell_type": "markdown",
     "metadata": {},
     "source": [
      "but slicing works to return specific numeric index"
     ]
    },
    {
     "cell_type": "code",
     "collapsed": false,
     "input": [
      "s3[::-1]"
     ],
     "language": "python",
     "metadata": {},
     "outputs": []
    },
    {
     "cell_type": "code",
     "collapsed": false,
     "input": [
      "for i in range(len(s3)):\n",
      "    print i, s3[i:i+1]"
     ],
     "language": "python",
     "metadata": {},
     "outputs": []
    },
    {
     "cell_type": "code",
     "collapsed": false,
     "input": [
      "s3.name = 'person names'\n",
      "s3.name"
     ],
     "language": "python",
     "metadata": {},
     "outputs": []
    },
    {
     "cell_type": "code",
     "collapsed": false,
     "input": [
      "s3.index.name = 'confounding label'\n",
      "s3.index.name"
     ],
     "language": "python",
     "metadata": {},
     "outputs": []
    },
    {
     "cell_type": "code",
     "collapsed": false,
     "input": [
      "s3"
     ],
     "language": "python",
     "metadata": {},
     "outputs": []
    },
    {
     "cell_type": "markdown",
     "metadata": {},
     "source": [
      "Important points remaining:\n",
      "\n",
      "* \"NumPy array operations, such as filtering with a boolean array, scalar multiplication, or applying math functions, will preserve the index-value link\"\n",
      "* \"Another way to think about a Series is as a fixed-length, ordered dict, as it is a mapping of index values to data values. It can be substituted into many functions that expect a dict\""
     ]
    },
    {
     "cell_type": "heading",
     "level": 2,
     "metadata": {},
     "source": [
      "Gauss & Chess revisited, using Series"
     ]
    },
    {
     "cell_type": "markdown",
     "metadata": {},
     "source": [
      "You get some nice `matplotlib` integration via pandas"
     ]
    },
    {
     "cell_type": "code",
     "collapsed": false,
     "input": [
      "# Gauss addition using np.arange, Series \n",
      "\n",
      "from pandas import Series\n",
      "Series(arange(101).cumsum()).plot()"
     ],
     "language": "python",
     "metadata": {},
     "outputs": []
    },
    {
     "cell_type": "code",
     "collapsed": false,
     "input": [
      "from pandas import Series\n",
      "Series((pow(2,k) for k in xrange(64)), dtype=np.float64).cumsum().plot()"
     ],
     "language": "python",
     "metadata": {},
     "outputs": []
    },
    {
     "cell_type": "heading",
     "level": 2,
     "metadata": {},
     "source": [
      "Wheat and Chessboard w/ NumPy"
     ]
    },
    {
     "cell_type": "markdown",
     "metadata": {},
     "source": [
      "http://docs.scipy.org/doc/numpy/reference/ufuncs.html"
     ]
    },
    {
     "cell_type": "code",
     "collapsed": false,
     "input": [
      "2*ones(64, dtype=np.int)"
     ],
     "language": "python",
     "metadata": {},
     "outputs": []
    },
    {
     "cell_type": "code",
     "collapsed": false,
     "input": [
      "arange(64)"
     ],
     "language": "python",
     "metadata": {},
     "outputs": []
    },
    {
     "cell_type": "code",
     "collapsed": false,
     "input": [
      "sum(np.power(2, arange(64, dtype=np.uint64)))"
     ],
     "language": "python",
     "metadata": {},
     "outputs": []
    },
    {
     "cell_type": "code",
     "collapsed": false,
     "input": [
      "sum(np.power(2*ones(64, dtype=np.uint64), arange(64))) "
     ],
     "language": "python",
     "metadata": {},
     "outputs": []
    },
    {
     "cell_type": "code",
     "collapsed": false,
     "input": [
      "precise_ans = sum([pow(2,n) for n in xrange(64)])\n",
      "np_ans = sum(np.power(2*ones(64, dtype=np.uint64), arange(64)))\n",
      "\n",
      "precise_ans, np_ans\n",
      "\n"
     ],
     "language": "python",
     "metadata": {},
     "outputs": []
    },
    {
     "cell_type": "code",
     "collapsed": false,
     "input": [
      "# Raise an assertion if two items are not equal up to desired precision.\n",
      "np.testing.assert_almost_equal(precise_ans, np_ans) is None"
     ],
     "language": "python",
     "metadata": {},
     "outputs": []
    },
    {
     "cell_type": "heading",
     "level": 1,
     "metadata": {},
     "source": [
      "File Dependency Check for Census calculation"
     ]
    },
    {
     "cell_type": "markdown",
     "metadata": {},
     "source": [
      "Here we check to make sure that the expected files are in place.\n",
      "\n",
      "This notebook assumes relative location of files as laid out in https://github.com/rdhyee/working-open-data\n",
      "\n"
     ]
    },
    {
     "cell_type": "code",
     "collapsed": false,
     "input": [
      "import os\n",
      "\n",
      "# relative to parent dir\n",
      "DATA_FILES = {\"datadict\":\"data/census/DataDict.txt\",\n",
      "               \"dataset\":\"data/census/DataSet.txt\",\n",
      "               \"fips\": \"data/census/FIPS_CountyName.txt\"}\n",
      "\n",
      "def file_path(key):\n",
      "    return os.path.join(os.pardir, DATA_FILES[key])\n",
      "\n",
      "for file_key in DATA_FILES.keys():\n",
      "    abs_fname = file_path(file_key)\n",
      "    print abs_fname, os.path.exists(abs_fname)\n",
      "    "
     ],
     "language": "python",
     "metadata": {},
     "outputs": []
    },
    {
     "cell_type": "markdown",
     "metadata": {},
     "source": [
      " You can download git repo as zip file if you are having problems with github\n",
      "\n",
      "<img src=\"https://raw.github.com/rdhyee/working-open-data/master/lectures/images/download_repo_as_zip.jpg\" />"
     ]
    },
    {
     "cell_type": "heading",
     "level": 1,
     "metadata": {},
     "source": [
      "Let's do the pandas related imports"
     ]
    },
    {
     "cell_type": "code",
     "collapsed": false,
     "input": [
      "import pandas as pd\n",
      "from pandas import Series, DataFrame"
     ],
     "language": "python",
     "metadata": {},
     "outputs": []
    },
    {
     "cell_type": "heading",
     "level": 1,
     "metadata": {},
     "source": [
      "Getting more out of iPython notebook"
     ]
    },
    {
     "cell_type": "markdown",
     "metadata": {},
     "source": [
      "*PfDA*, p. 55 -- Table 3-2\n",
      "\n",
      "http://my.safaribooksonline.com/book/programming/python/9781449323592/3dot-ipython-an-interactive-computing-and-development-environment/id2774782#ipython_magic_table"
     ]
    },
    {
     "cell_type": "heading",
     "level": 1,
     "metadata": {},
     "source": [
      "Census Quickfacts"
     ]
    },
    {
     "cell_type": "code",
     "collapsed": false,
     "input": [
      "# use head on Mac/linuc to look at file\n",
      "\n",
      "fips_path = file_path(\"fips\")\n",
      "!head $fips_path"
     ],
     "language": "python",
     "metadata": {},
     "outputs": []
    },
    {
     "cell_type": "heading",
     "level": 2,
     "metadata": {},
     "source": [
      "trying out by hand the construction of a simple DataFrame to see what loading a list of dict into DataFrame gets us"
     ]
    },
    {
     "cell_type": "code",
     "collapsed": false,
     "input": [
      "df1 = DataFrame([{'fips':'00000', 'geog_entity':'UNITED STATES'}, \n",
      "              {'fips':'01000', 'geog_entity':'ALABAMA'},\n",
      "              ])\n",
      "df1"
     ],
     "language": "python",
     "metadata": {},
     "outputs": []
    },
    {
     "cell_type": "code",
     "collapsed": false,
     "input": [
      "# check type of df1\n",
      "type(df1)"
     ],
     "language": "python",
     "metadata": {},
     "outputs": []
    },
    {
     "cell_type": "code",
     "collapsed": false,
     "input": [
      "# column headings\n",
      "\n",
      "df1.columns"
     ],
     "language": "python",
     "metadata": {},
     "outputs": []
    },
    {
     "cell_type": "code",
     "collapsed": false,
     "input": [
      "# index -- ascribed automatically since we didn't explicitly specify labels\n",
      "df1.index"
     ],
     "language": "python",
     "metadata": {},
     "outputs": []
    },
    {
     "cell_type": "markdown",
     "metadata": {},
     "source": [
      "We can use [`set_index`](http://pandas.pydata.org/pandas-docs/stable/generated/pandas.DataFrame.set_index.html#pandas.DataFrame.set_index) to makes fips the index"
     ]
    },
    {
     "cell_type": "code",
     "collapsed": false,
     "input": [
      "# http://pandas.pydata.org/pandas-docs/stable/generated/pandas.DataFrame.set_index.html#pandas.DataFrame.set_index\n",
      "# p. 150\n",
      "df1.set_index('fips', inplace=True, drop=True)"
     ],
     "language": "python",
     "metadata": {},
     "outputs": []
    },
    {
     "cell_type": "code",
     "collapsed": false,
     "input": [
      "# now check the index\n",
      "df1.index"
     ],
     "language": "python",
     "metadata": {},
     "outputs": []
    },
    {
     "cell_type": "code",
     "collapsed": false,
     "input": [
      "# to access row with index of 01000\n",
      "df1.ix['01000'] "
     ],
     "language": "python",
     "metadata": {},
     "outputs": []
    },
    {
     "cell_type": "code",
     "collapsed": false,
     "input": [
      "# to read off the geog_entity column\n",
      "df1['geog_entity']"
     ],
     "language": "python",
     "metadata": {},
     "outputs": []
    },
    {
     "cell_type": "code",
     "collapsed": false,
     "input": [
      "# look at how we can do row slices\n",
      "df1.ix[0:1]"
     ],
     "language": "python",
     "metadata": {},
     "outputs": []
    },
    {
     "cell_type": "code",
     "collapsed": false,
     "input": [
      "# get rows in reverse order\n",
      "df1.ix[::-1]"
     ],
     "language": "python",
     "metadata": {},
     "outputs": []
    },
    {
     "cell_type": "markdown",
     "metadata": {},
     "source": [
      "Create the index explicitly in instantiation of the simple DataFrame"
     ]
    },
    {
     "cell_type": "code",
     "collapsed": false,
     "input": [
      "df2 = DataFrame(data = [{'geog_entity':'UNITED STATES'}, \n",
      "                {'geog_entity':'ALABAMA'},\n",
      "                ], index = ['00000','01000'])\n",
      "df2"
     ],
     "language": "python",
     "metadata": {},
     "outputs": []
    },
    {
     "cell_type": "code",
     "collapsed": false,
     "input": [
      "# note index name is empty\n",
      "df2.index.name is None"
     ],
     "language": "python",
     "metadata": {},
     "outputs": []
    },
    {
     "cell_type": "code",
     "collapsed": false,
     "input": [
      "# set index name\n",
      "df2.index.name = 'fips'\n",
      "df2"
     ],
     "language": "python",
     "metadata": {},
     "outputs": []
    },
    {
     "cell_type": "heading",
     "level": 2,
     "metadata": {},
     "source": [
      "Exercise:  Complete this code to create fips_df from the fips file"
     ]
    },
    {
     "cell_type": "code",
     "collapsed": false,
     "input": [
      "import codecs\n",
      "from itertools import islice\n",
      "\n",
      "from pandas import Series, DataFrame\n",
      "\n",
      "f = codecs.open(file_path(\"fips\"), encoding='iso-8859-1')\n",
      "\n",
      "fips_list = list()\n",
      "\n",
      "for row in islice(f, None):\n",
      "    # FILL IN\n",
      "    pass\n",
      "    \n",
      "fips_df = DataFrame(fips_list)\n",
      "fips_df"
     ],
     "language": "python",
     "metadata": {},
     "outputs": []
    },
    {
     "cell_type": "code",
     "collapsed": false,
     "input": [
      "# display the first 5 rows\n",
      "fips_df[:5]"
     ],
     "language": "python",
     "metadata": {},
     "outputs": []
    },
    {
     "cell_type": "heading",
     "level": 2,
     "metadata": {},
     "source": [
      "let's try using read_table directly to read in fips code"
     ]
    },
    {
     "cell_type": "code",
     "collapsed": false,
     "input": [
      "import codecs\n",
      "from itertools import islice\n",
      "\n",
      "import pandas as pd\n",
      "from pandas import Series, DataFrame\n",
      "\n",
      "f = codecs.open(file_path(\"fips\"), encoding='iso-8859-1')\n",
      "\n",
      "fips_df2 = pd.read_table(f, header=None,names=['row'])\n",
      "\n",
      "# show first five rows\n",
      "fips_df2[:5]\n",
      "\n"
     ],
     "language": "python",
     "metadata": {},
     "outputs": []
    },
    {
     "cell_type": "heading",
     "level": 3,
     "metadata": {},
     "source": [
      "Exercise: create a fips column"
     ]
    },
    {
     "cell_type": "markdown",
     "metadata": {},
     "source": [
      "hint:  consider using `fips_df2.row.str[:]` and see what happens if you use\n",
      "\n",
      "    fips_df2[\"junk\"] = 'hello'\n",
      "\n",
      "BTW, you can delete columns  -- e.g.,\n",
      "\n",
      "    del fips_df2[\"junk\"] "
     ]
    },
    {
     "cell_type": "code",
     "collapsed": false,
     "input": [
      "# FILL IN\n",
      "\n",
      "\n",
      "\n"
     ],
     "language": "python",
     "metadata": {},
     "outputs": []
    },
    {
     "cell_type": "code",
     "collapsed": false,
     "input": [
      "# show first five rows\n",
      "fips_df2[:5]"
     ],
     "language": "python",
     "metadata": {},
     "outputs": []
    },
    {
     "cell_type": "heading",
     "level": 3,
     "metadata": {},
     "source": [
      "Exercise: Likewise, create the geog_entity column and get rid of row column"
     ]
    },
    {
     "cell_type": "code",
     "collapsed": false,
     "input": [
      "#FILL IN\n",
      "\n",
      "\n",
      "\n",
      "\n",
      "\n"
     ],
     "language": "python",
     "metadata": {},
     "outputs": []
    },
    {
     "cell_type": "code",
     "collapsed": false,
     "input": [
      "# this is a check that you have the right columns\n",
      "\n",
      "assert set(fips_df2.columns) == set(['fips', 'geog_entity'])\n",
      "assert len(fips_df2) == 3195"
     ],
     "language": "python",
     "metadata": {},
     "outputs": []
    },
    {
     "cell_type": "heading",
     "level": 3,
     "metadata": {},
     "source": [
      "Now set the fips to be the index"
     ]
    },
    {
     "cell_type": "code",
     "collapsed": false,
     "input": [
      "fips_df2.set_index('fips', inplace=True, drop=True)"
     ],
     "language": "python",
     "metadata": {},
     "outputs": []
    },
    {
     "cell_type": "code",
     "collapsed": false,
     "input": [
      "# print out first five rows\n",
      "fips_df2[:5]"
     ],
     "language": "python",
     "metadata": {},
     "outputs": []
    },
    {
     "cell_type": "code",
     "collapsed": false,
     "input": [
      "fips_df2.ix['00000']"
     ],
     "language": "python",
     "metadata": {},
     "outputs": []
    },
    {
     "cell_type": "heading",
     "level": 3,
     "metadata": {},
     "source": [
      "Note:  see how to pull out country + states"
     ]
    },
    {
     "cell_type": "code",
     "collapsed": false,
     "input": [
      "# first 5 rows\n",
      "fips_df2[Series(fips_df2.index).str[-3:] == '000'][:5]"
     ],
     "language": "python",
     "metadata": {},
     "outputs": []
    },
    {
     "cell_type": "code",
     "collapsed": false,
     "input": [
      "len(fips_df2[Series(fips_df2.index).str[-3:] == '000'])"
     ],
     "language": "python",
     "metadata": {},
     "outputs": []
    },
    {
     "cell_type": "code",
     "collapsed": false,
     "input": [
      "# check type\n",
      "isinstance(fips_df2.index, pd.Index)"
     ],
     "language": "python",
     "metadata": {},
     "outputs": []
    },
    {
     "cell_type": "code",
     "collapsed": false,
     "input": [
      "# can create a Boolean slice to pull out a country\n",
      "is_country = fips_df.fips.str[:] == '00000'"
     ],
     "language": "python",
     "metadata": {},
     "outputs": []
    },
    {
     "cell_type": "code",
     "collapsed": false,
     "input": [
      "fips_df[is_country]"
     ],
     "language": "python",
     "metadata": {},
     "outputs": []
    },
    {
     "cell_type": "heading",
     "level": 3,
     "metadata": {},
     "source": [
      "Exercise:  create a Boolean index `is_state` to pull out states and a DataFrame `states_df` to hold the states + DC; also write `is_county` to pull out counties"
     ]
    },
    {
     "cell_type": "markdown",
     "metadata": {},
     "source": [
      "Hints:\n",
      "\n",
      "* Recall how to distinguish states fips -- end in '000' but is not '00000' (which is the US code)\n",
      "* use can use `&` to do a boolean `and` on Boolean indices -- (see `PfDA`, p. 91)"
     ]
    },
    {
     "cell_type": "code",
     "collapsed": false,
     "input": [
      "# how about states?\n",
      "# make use of \n",
      "# http://proquest.safaribooksonline.com/book/programming/python/9781449323592/7dot-data-wrangling-clean-transform-merge-reshape/id2801165\n",
      "\n",
      "#FILL IN \n",
      "\n",
      "is_state = None\n",
      "is_county = None\n",
      "\n",
      "states_df = fips_df[is_state]\n",
      "print len(states_df)\n",
      "states_df[:5]"
     ],
     "language": "python",
     "metadata": {},
     "outputs": []
    },
    {
     "cell_type": "heading",
     "level": 3,
     "metadata": {},
     "source": [
      "Check whether is_state and states_df look correct"
     ]
    },
    {
     "cell_type": "code",
     "collapsed": false,
     "input": [
      "assert set(is_state.value_counts().iteritems()) == set([(True, 51), (False, 3144)])"
     ],
     "language": "python",
     "metadata": {},
     "outputs": []
    },
    {
     "cell_type": "code",
     "collapsed": false,
     "input": [
      "assert set(states_df[\"geog_entity\"]) == set([u'VERMONT',\n",
      "     u'GEORGIA', u'IOWA', u'KANSAS', u'FLORIDA', u'VIRGINIA', u'NORTH CAROLINA',\n",
      "     u'HAWAII', u'NEW YORK', u'CALIFORNIA', u'ALABAMA', u'IDAHO', u'DELAWARE',\n",
      "     u'ALASKA', u'ILLINOIS', u'SOUTH DAKOTA', u'CONNECTICUT', u'MONTANA',\n",
      "     u'MASSACHUSETTS', u'NEW HAMPSHIRE', u'MARYLAND', u'NEW MEXICO',\n",
      "     u'MISSISSIPPI', u'TENNESSEE', u'COLORADO', u'NEW JERSEY', u'UTAH',\n",
      "     u'MICHIGAN', u'WEST VIRGINIA', u'WASHINGTON', u'MINNESOTA', u'OREGON',\n",
      "     u'WYOMING', u'OHIO', u'SOUTH CAROLINA', u'INDIANA', u'NEVADA',\n",
      "     u'LOUISIANA', u'NEBRASKA', u'ARIZONA', u'WISCONSIN', u'NORTH DAKOTA',\n",
      "     u'PENNSYLVANIA', u'OKLAHOMA', u'KENTUCKY', u'RHODE ISLAND', u'DISTRICT OF COLUMBIA',\n",
      "     u'ARKANSAS', u'MISSOURI', u'TEXAS', u'MAINE'])"
     ],
     "language": "python",
     "metadata": {},
     "outputs": []
    },
    {
     "cell_type": "code",
     "collapsed": false,
     "input": [
      "assert set(is_county.value_counts().iteritems()) == set([(False, 52), (True, 3143)])"
     ],
     "language": "python",
     "metadata": {},
     "outputs": []
    },
    {
     "cell_type": "heading",
     "level": 2,
     "metadata": {},
     "source": [
      "Now it's time to work with the population dataset"
     ]
    },
    {
     "cell_type": "heading",
     "level": 3,
     "metadata": {},
     "source": [
      "remind ourselves of what's in the dataset by reading it into a dict"
     ]
    },
    {
     "cell_type": "code",
     "collapsed": false,
     "input": [
      "import csv\n",
      "import codecs\n",
      "import pandas as pd\n",
      "from pandas import DataFrame, Series\n",
      "from itertools import islice\n",
      "\n",
      "f = codecs.open(file_path(\"dataset\"), encoding='iso-8859-1')\n",
      "\n",
      "reader = csv.DictReader(f)\n",
      "dataset = dict([(row[\"fips\"], row) for row in islice(reader, None)])\n",
      "\n",
      "f.close()"
     ],
     "language": "python",
     "metadata": {},
     "outputs": []
    },
    {
     "cell_type": "code",
     "collapsed": false,
     "input": [
      "# print out entry for USA\n",
      "\n",
      "print dataset['00000']"
     ],
     "language": "python",
     "metadata": {},
     "outputs": []
    },
    {
     "cell_type": "code",
     "collapsed": false,
     "input": [
      "# make sure we have the right 2010 census population for the USA\n",
      "\n",
      "assert dataset['00000']['POP010210'] == '308745538'"
     ],
     "language": "python",
     "metadata": {},
     "outputs": []
    },
    {
     "cell_type": "heading",
     "level": 3,
     "metadata": {},
     "source": [
      "let's use pd.read_csv to read in file -- there's a bit of tricky type conversion issues here."
     ]
    },
    {
     "cell_type": "code",
     "collapsed": false,
     "input": [
      "# let's try pd.read_csv \n",
      "# how to give hints about data type to pd.read_csv?\n",
      "\n",
      "import codecs\n",
      "\n",
      "# read data in and merge with fips_df\n",
      "\n",
      "#dtype = [('fips', 'S'), ('POP010210', 'i')]\n",
      "# problems with string conversion when I try to explicitly parse fips as a np.string_\n",
      "# dtype = {'fips':np.string_}\n",
      "# possibly relevant sections of the code:\n",
      "\n",
      "# v0.10.1: https://github.com/pydata/pandas/tree/v0.10.1\n",
      "# https://github.com/pydata/pandas/blob/v0.10.1/pandas/io/parsers.py\n",
      "# https://github.com/pydata/pandas/blob/v0.10.1/pandas/src/parser.pyx#L897 -> _convert_with_dtype\n",
      "\n",
      "# let's try object for fips and int for POP010210\n",
      "dtype = {'fips':np.object, 'POP010210':np.int}\n",
      "\n",
      "f = codecs.open(file_path(\"dataset\"), encoding='iso-8859-1')\n",
      "dataset_df = pd.read_csv(f, dtype=dtype)"
     ],
     "language": "python",
     "metadata": {},
     "outputs": []
    },
    {
     "cell_type": "code",
     "collapsed": false,
     "input": [
      "# confirm data types for fips, which should not be convered to int\n",
      "dataset_df.fips.dtype, dataset_df.POP010210.dtype"
     ],
     "language": "python",
     "metadata": {},
     "outputs": []
    },
    {
     "cell_type": "code",
     "collapsed": false,
     "input": [
      "# read off US population\n",
      "dataset_df[is_country].ix[0]['POP010210']"
     ],
     "language": "python",
     "metadata": {},
     "outputs": []
    },
    {
     "cell_type": "code",
     "collapsed": false,
     "input": [
      "# 3 most populous entities \n",
      "# http://pandas.pydata.org/pandas-docs/dev/generated/pandas.DataFrame.sort_index.html\n",
      "dataset_df.sort_index(by='POP010210')[-1:-4:-1][[\"fips\", \"POP010210\"]]"
     ],
     "language": "python",
     "metadata": {},
     "outputs": []
    },
    {
     "cell_type": "heading",
     "level": 2,
     "metadata": {},
     "source": [
      "Merge fips w/ dataset"
     ]
    },
    {
     "cell_type": "code",
     "collapsed": false,
     "input": [
      "# PfDA, p. 28\n",
      "df = pd.merge(fips_df, dataset_df)"
     ],
     "language": "python",
     "metadata": {},
     "outputs": []
    },
    {
     "cell_type": "code",
     "collapsed": false,
     "input": [
      "df.sort_index(by='POP010210')[-1:-5:-1][[\"fips\", \"geog_entity\", \"POP010210\"]]"
     ],
     "language": "python",
     "metadata": {},
     "outputs": []
    },
    {
     "cell_type": "heading",
     "level": 3,
     "metadata": {},
     "source": [
      "Exercise: make a DataFrame called state_pop of 51 state-like entities that has fips, geog_entity, POP010210 columns, sorted by 2010 census in descending pop"
     ]
    },
    {
     "cell_type": "code",
     "collapsed": false,
     "input": [
      "# calculate state_pop\n",
      "\n",
      "\n"
     ],
     "language": "python",
     "metadata": {},
     "outputs": []
    },
    {
     "cell_type": "code",
     "collapsed": false,
     "input": [
      "# check state_pop behavior\n",
      "\n",
      "assert state_pop.shape  == (51, 3)\n",
      "assert set(state_pop.columns) == set(['POP010210', 'fips', 'geog_entity'])\n",
      "assert list(state_pop[:5][\"geog_entity\"]) == [u'CALIFORNIA', u'TEXAS', u'NEW YORK', u'FLORIDA', u'ILLINOIS']\n",
      "assert state_pop[:5][\"POP010210\"].sum() == 113409561"
     ],
     "language": "python",
     "metadata": {},
     "outputs": []
    },
    {
     "cell_type": "code",
     "collapsed": false,
     "input": [
      "# add up all the states to match US population\n",
      "\n",
      "assert state_pop[\"POP010210\"].sum() == df[is_country][\"POP010210\"].sum()"
     ],
     "language": "python",
     "metadata": {},
     "outputs": []
    },
    {
     "cell_type": "code",
     "collapsed": false,
     "input": [
      "sum(df[is_country]['POP010210']), sum(df[is_state]['POP010210']), sum(df[is_county]['POP010210'])\n"
     ],
     "language": "python",
     "metadata": {},
     "outputs": []
    },
    {
     "cell_type": "heading",
     "level": 2,
     "metadata": {},
     "source": [
      "Exercise:  write function counties_for_state to return a Boolean index for a fiven state prefix or fips code"
     ]
    },
    {
     "cell_type": "markdown",
     "metadata": {},
     "source": [
      "e.g \n",
      "\n",
      "    df[counties_for_state('06')]\n",
      "\n",
      "should be a DataFrame with CA counties"
     ]
    },
    {
     "cell_type": "code",
     "collapsed": false,
     "input": [
      "def counties_for_state(state):\n",
      "    # Fill in\n",
      "    \n",
      "    pass"
     ],
     "language": "python",
     "metadata": {},
     "outputs": []
    },
    {
     "cell_type": "code",
     "collapsed": false,
     "input": [
      "assert set(df[counties_for_state('06')][\"geog_entity\"]) == set([u'Nevada County, CA',\n",
      "     u'Alameda County, CA', u'Kings County, CA', u'Ventura County, CA',\n",
      "     u'El Dorado County, CA', u'San Joaquin County, CA', u'Alpine County, CA',\n",
      "     u'San Luis Obispo County, CA', u'Modoc County, CA', u'Colusa County, CA',\n",
      "     u'Stanislaus County, CA', u'Sonoma County, CA', u'Tulare County, CA',\n",
      "     u'Shasta County, CA', u'Yolo County, CA', u'Placer County, CA', u'Glenn County, CA',\n",
      "     u'Sacramento County, CA', u'San Francisco County, CA',\n",
      "     u'Madera County, CA', u'Imperial County, CA', u'Plumas County, CA',\n",
      "     u'San Mateo County, CA', u'Riverside County, CA', u'Calaveras County, CA',\n",
      "     u'Napa County, CA', u'Mendocino County, CA', u'Mariposa County, CA',\n",
      "     u'Santa Barbara County, CA', u'Inyo County, CA', u'Butte County, CA',\n",
      "     u'Trinity County, CA', u'Los Angeles County, CA', u'Lassen County, CA',\n",
      "     u'Yuba County, CA', u'Amador County, CA', u'Marin County, CA', u'Humboldt County, CA', \n",
      "     u'Merced County, CA', u'Lake County, CA', u'San Diego County, CA',\n",
      "     u'Monterey County, CA', u'Sutter County, CA', u'Solano County, CA',\n",
      "     u'Tuolumne County, CA', u'San Bernardino County, CA', u'Fresno County, CA',\n",
      "     u'Santa Cruz County, CA', u'San Benito County, CA', u'Contra Costa County, CA', \n",
      "     u'Orange County, CA', u'Del Norte County, CA', u'Mono County, CA',\n",
      "     u'Siskiyou County, CA', u'Kern County, CA', u'Sierra County, CA', u'Tehama County, CA',\n",
      "     u'Santa Clara County, CA'])"
     ],
     "language": "python",
     "metadata": {},
     "outputs": []
    },
    {
     "cell_type": "heading",
     "level": 1,
     "metadata": {},
     "source": [
      "Now we are ready to tally up all states w/ their counties"
     ]
    },
    {
     "cell_type": "code",
     "collapsed": false,
     "input": [
      "for (k, s) in df[is_state][['fips', 'geog_entity', 'POP010210']].iterrows():\n",
      "    print s[\"fips\"],s[\"geog_entity\"], s[\"POP010210\"] == df[counties_for_state(s[\"fips\"])]['POP010210'].sum()"
     ],
     "language": "python",
     "metadata": {},
     "outputs": []
    },
    {
     "cell_type": "heading",
     "level": 2,
     "metadata": {},
     "source": [
      "Do this tally in a slightly different way"
     ]
    },
    {
     "cell_type": "code",
     "collapsed": false,
     "input": [
      "# http://pandas.pydata.org/pandas-docs/stable/generated/pandas.DataFrame.set_index.html#pandas.DataFrame.set_index\n",
      "# p. 150\n",
      "df.set_index('fips', inplace=True, drop=False)"
     ],
     "language": "python",
     "metadata": {},
     "outputs": []
    },
    {
     "cell_type": "code",
     "collapsed": false,
     "input": [
      "for k in df[is_state]['fips']:\n",
      "    print k, df.ix[k][\"geog_entity\"], df.ix[k][\"POP010210\"] == sum(df[counties_for_state(k)]['POP010210'])"
     ],
     "language": "python",
     "metadata": {},
     "outputs": []
    },
    {
     "cell_type": "code",
     "collapsed": false,
     "input": [],
     "language": "python",
     "metadata": {},
     "outputs": []
    },
    {
     "cell_type": "code",
     "collapsed": false,
     "input": [],
     "language": "python",
     "metadata": {},
     "outputs": []
    },
    {
     "cell_type": "code",
     "collapsed": false,
     "input": [],
     "language": "python",
     "metadata": {},
     "outputs": []
    },
    {
     "cell_type": "code",
     "collapsed": false,
     "input": [],
     "language": "python",
     "metadata": {},
     "outputs": []
    },
    {
     "cell_type": "code",
     "collapsed": false,
     "input": [],
     "language": "python",
     "metadata": {},
     "outputs": []
    },
    {
     "cell_type": "code",
     "collapsed": false,
     "input": [],
     "language": "python",
     "metadata": {},
     "outputs": []
    },
    {
     "cell_type": "code",
     "collapsed": false,
     "input": [],
     "language": "python",
     "metadata": {},
     "outputs": []
    },
    {
     "cell_type": "code",
     "collapsed": false,
     "input": [],
     "language": "python",
     "metadata": {},
     "outputs": []
    },
    {
     "cell_type": "code",
     "collapsed": false,
     "input": [],
     "language": "python",
     "metadata": {},
     "outputs": []
    },
    {
     "cell_type": "code",
     "collapsed": false,
     "input": [],
     "language": "python",
     "metadata": {},
     "outputs": []
    },
    {
     "cell_type": "code",
     "collapsed": false,
     "input": [],
     "language": "python",
     "metadata": {},
     "outputs": []
    },
    {
     "cell_type": "code",
     "collapsed": false,
     "input": [],
     "language": "python",
     "metadata": {},
     "outputs": []
    },
    {
     "cell_type": "heading",
     "level": 1,
     "metadata": {},
     "source": [
      "Addendum: ties to operator overloading in Python -- read beyond this point only if really interested!"
     ]
    },
    {
     "cell_type": "code",
     "collapsed": false,
     "input": [
      "n0 = 5\n",
      "n0 == 5"
     ],
     "language": "python",
     "metadata": {},
     "outputs": []
    },
    {
     "cell_type": "markdown",
     "metadata": {},
     "source": [
      "Now I thought I'd be able to use a `n0.__eq__(5)` but nope -- it's complicated -- see http://stackoverflow.com/questions/2281222/why-when-in-python-does-x-y-call-y-eq-x#comment2254663_2282795"
     ]
    },
    {
     "cell_type": "code",
     "collapsed": false,
     "input": [
      "try:\n",
      "    n0.__eq__(5)\n",
      "except Exception as e:\n",
      "    print e"
     ],
     "language": "python",
     "metadata": {},
     "outputs": []
    },
    {
     "cell_type": "markdown",
     "metadata": {},
     "source": [
      "can do: `int.__cmp__(x)`"
     ]
    },
    {
     "cell_type": "code",
     "collapsed": false,
     "input": [
      "(n0.__cmp__(4), n0.__cmp__(5), n0.__cmp__(6))"
     ],
     "language": "python",
     "metadata": {},
     "outputs": []
    },
    {
     "cell_type": "markdown",
     "metadata": {},
     "source": [
      "how about ndarray?"
     ]
    },
    {
     "cell_type": "code",
     "collapsed": false,
     "input": [
      "arange(5) == 2 "
     ],
     "language": "python",
     "metadata": {},
     "outputs": []
    },
    {
     "cell_type": "code",
     "collapsed": false,
     "input": [
      "# \n",
      "# http://docs.scipy.org/doc/numpy/reference/generated/numpy.array_equal.html\n",
      "np.array_equal(arange(5) == 2 , arange(5).__eq__(2))"
     ],
     "language": "python",
     "metadata": {},
     "outputs": []
    },
    {
     "cell_type": "heading",
     "level": 2,
     "metadata": {},
     "source": [
      "Appendix: underlying mechanics of slicing"
     ]
    },
    {
     "cell_type": "markdown",
     "metadata": {},
     "source": [
      "Useful if you want to understand how the slicing syntax really works."
     ]
    },
    {
     "cell_type": "code",
     "collapsed": false,
     "input": [
      "isinstance([1,2], list)"
     ],
     "language": "python",
     "metadata": {},
     "outputs": []
    },
    {
     "cell_type": "code",
     "collapsed": false,
     "input": [
      "isinstance(arange(5), list) # what does that mean -- could still be list-like"
     ],
     "language": "python",
     "metadata": {},
     "outputs": []
    },
    {
     "cell_type": "code",
     "collapsed": false,
     "input": [
      "l1 = range(5)"
     ],
     "language": "python",
     "metadata": {},
     "outputs": []
    },
    {
     "cell_type": "code",
     "collapsed": false,
     "input": [
      "type(l1)"
     ],
     "language": "python",
     "metadata": {},
     "outputs": []
    },
    {
     "cell_type": "code",
     "collapsed": false,
     "input": [
      "l1[0], l1.__getitem__(0), l1[0] == l1.__getitem__(0)"
     ],
     "language": "python",
     "metadata": {},
     "outputs": []
    },
    {
     "cell_type": "code",
     "collapsed": false,
     "input": [
      "l1[::-1], l1.__getitem__(slice(None, None, -1))"
     ],
     "language": "python",
     "metadata": {},
     "outputs": []
    },
    {
     "cell_type": "code",
     "collapsed": false,
     "input": [
      "ar1 = arange(5)\n",
      "ar1[3], ar1.__getitem__(3)\n",
      "\n"
     ],
     "language": "python",
     "metadata": {},
     "outputs": []
    },
    {
     "cell_type": "code",
     "collapsed": false,
     "input": [
      "ar1 == 2"
     ],
     "language": "python",
     "metadata": {},
     "outputs": []
    },
    {
     "cell_type": "code",
     "collapsed": false,
     "input": [
      "ar1[ar1 == 2].shape"
     ],
     "language": "python",
     "metadata": {},
     "outputs": []
    },
    {
     "cell_type": "code",
     "collapsed": false,
     "input": [
      "ar1.__eq__(2)"
     ],
     "language": "python",
     "metadata": {},
     "outputs": []
    },
    {
     "cell_type": "code",
     "collapsed": false,
     "input": [
      "ar1.__getitem__(slice(2, 4, None))"
     ],
     "language": "python",
     "metadata": {},
     "outputs": []
    },
    {
     "cell_type": "code",
     "collapsed": false,
     "input": [
      "slice(ar1.__eq__(2), None, None)"
     ],
     "language": "python",
     "metadata": {},
     "outputs": []
    },
    {
     "cell_type": "code",
     "collapsed": false,
     "input": [
      "ar1.__getitem__(ar1.__eq__(2))"
     ],
     "language": "python",
     "metadata": {},
     "outputs": []
    },
    {
     "cell_type": "code",
     "collapsed": false,
     "input": [
      "ar1[:2], ar1.__getitem__(slice(2))"
     ],
     "language": "python",
     "metadata": {},
     "outputs": []
    },
    {
     "cell_type": "code",
     "collapsed": false,
     "input": [
      "ar1 + 7"
     ],
     "language": "python",
     "metadata": {},
     "outputs": []
    },
    {
     "cell_type": "code",
     "collapsed": false,
     "input": [
      "ar1.__add__(7)"
     ],
     "language": "python",
     "metadata": {},
     "outputs": []
    },
    {
     "cell_type": "code",
     "collapsed": false,
     "input": [
      "min(ar1 + 7)"
     ],
     "language": "python",
     "metadata": {},
     "outputs": []
    },
    {
     "cell_type": "code",
     "collapsed": false,
     "input": [
      "alphabet[:]"
     ],
     "language": "python",
     "metadata": {},
     "outputs": []
    }
   ],
   "metadata": {}
  }
 ]
}