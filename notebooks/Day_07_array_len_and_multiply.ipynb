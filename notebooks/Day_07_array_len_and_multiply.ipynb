{
 "metadata": {
  "name": "Day_07_array_len_and_multiply"
 },
 "nbformat": 3,
 "nbformat_minor": 0,
 "worksheets": [
  {
   "cells": [
    {
     "cell_type": "code",
     "collapsed": false,
     "input": [
      "# What if you try to make an array with lists w/ non-matching lengths?\n",
      "\n",
      "try:\n",
      "    k = np.array(([1,2], [3,4,5]))\n",
      "except Exception as e:\n",
      "    print e\n",
      "else:\n",
      "    print k.ndim, k.shape\n",
      "    assert k.ndim == 1\n",
      "    assert k.shape == (2,)"
     ],
     "language": "python",
     "metadata": {},
     "outputs": [
      {
       "output_type": "stream",
       "stream": "stdout",
       "text": [
        "1 (2,)\n"
       ]
      }
     ],
     "prompt_number": 21
    },
    {
     "cell_type": "code",
     "collapsed": false,
     "input": [
      "k"
     ],
     "language": "python",
     "metadata": {},
     "outputs": [
      {
       "output_type": "pyout",
       "prompt_number": 22,
       "text": [
        "array([[1, 2], [3, 4, 5]], dtype=object)"
       ]
      }
     ],
     "prompt_number": 22
    },
    {
     "cell_type": "code",
     "collapsed": false,
     "input": [
      "# array multiplication is not matrix muliplication\n",
      "\n",
      "a0 = arange(4).reshape(2,2)\n",
      "\n",
      "print a0*a0\n",
      "print np.dot(a0,a0)"
     ],
     "language": "python",
     "metadata": {},
     "outputs": [
      {
       "output_type": "stream",
       "stream": "stdout",
       "text": [
        "[[0 1]\n",
        " [4 9]]\n",
        "[[ 2  3]\n",
        " [ 6 11]]\n"
       ]
      }
     ],
     "prompt_number": 23
    },
    {
     "cell_type": "code",
     "collapsed": false,
     "input": [
      "#how to prepend a series?\n",
      "\n",
      "a10 = arange(10)"
     ],
     "language": "python",
     "metadata": {},
     "outputs": [],
     "prompt_number": 24
    },
    {
     "cell_type": "code",
     "collapsed": false,
     "input": [
      "#how to prepend a series?\n",
      "\n",
      "a10 = arange(10)\n",
      "a10"
     ],
     "language": "python",
     "metadata": {},
     "outputs": [
      {
       "output_type": "pyout",
       "prompt_number": 25,
       "text": [
        "array([0, 1, 2, 3, 4, 5, 6, 7, 8, 9])"
       ]
      }
     ],
     "prompt_number": 25
    },
    {
     "cell_type": "code",
     "collapsed": false,
     "input": [
      "# can't use extend on numpy.ndarray\n",
      "\n",
      "try:\n",
      "    a10.extend(-1)\n",
      "except Exception as e:\n",
      "    print e"
     ],
     "language": "python",
     "metadata": {},
     "outputs": [
      {
       "output_type": "stream",
       "stream": "stdout",
       "text": [
        "'numpy.ndarray' object has no attribute 'extend'\n"
       ]
      }
     ],
     "prompt_number": 26
    },
    {
     "cell_type": "code",
     "collapsed": false,
     "input": [
      "# append\n",
      "\n",
      "list0 = [0,1,2]\n",
      "list0.append(3)\n",
      "list0"
     ],
     "language": "python",
     "metadata": {},
     "outputs": [
      {
       "output_type": "pyout",
       "prompt_number": 27,
       "text": [
        "[0, 1, 2, 3]"
       ]
      }
     ],
     "prompt_number": 27
    },
    {
     "cell_type": "code",
     "collapsed": false,
     "input": [
      "# extend\n",
      "\n",
      "list0.extend([-1])\n",
      "list0"
     ],
     "language": "python",
     "metadata": {},
     "outputs": [
      {
       "output_type": "pyout",
       "prompt_number": 28,
       "text": [
        "[0, 1, 2, 3, -1]"
       ]
      }
     ],
     "prompt_number": 28
    },
    {
     "cell_type": "code",
     "collapsed": false,
     "input": [
      "# insert\n",
      "\n",
      "list0.insert(0,-2)\n",
      "list0"
     ],
     "language": "python",
     "metadata": {},
     "outputs": [
      {
       "output_type": "pyout",
       "prompt_number": 29,
       "text": [
        "[-2, 0, 1, 2, 3, -1]"
       ]
      }
     ],
     "prompt_number": 29
    },
    {
     "cell_type": "code",
     "collapsed": false,
     "input": [
      "# use np.insert\n",
      "\n",
      "np.insert(a10,0,-1)"
     ],
     "language": "python",
     "metadata": {},
     "outputs": [
      {
       "output_type": "pyout",
       "prompt_number": 30,
       "text": [
        "array([-1,  0,  1,  2,  3,  4,  5,  6,  7,  8,  9])"
       ]
      }
     ],
     "prompt_number": 30
    }
   ],
   "metadata": {}
  }
 ]
}